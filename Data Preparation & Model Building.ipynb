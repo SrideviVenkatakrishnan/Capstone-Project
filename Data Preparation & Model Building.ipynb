{
 "cells": [
  {
   "cell_type": "markdown",
   "id": "580aadb5",
   "metadata": {},
   "source": [
    "## Outlier Identification"
   ]
  },
  {
   "cell_type": "code",
   "execution_count": 94,
   "id": "e8a544c9",
   "metadata": {},
   "outputs": [
    {
     "data": {
      "application/javascript": [
       "\n",
       "            setTimeout(function() {\n",
       "                var nbb_cell_id = 94;\n",
       "                var nbb_unformatted_code = \"# Finding the percentage of outliers using IQR\\n\\nQ1 = data.quantile(0.25)  # To find the 25th percentile\\nQ3 = data.quantile(0.75)  # To find the 75th percentile\\n\\nIQR = Q3 - Q1  # Inter Quantile Range\\n\\n# Finding lower and upper bounds for all values. All values outside these bounds are outliers\\n\\nlower = Q1 - 1.5 * IQR\\nupper = Q3 + 1.5 * IQR\";\n",
       "                var nbb_formatted_code = \"# Finding the percentage of outliers using IQR\\n\\nQ1 = data.quantile(0.25)  # To find the 25th percentile\\nQ3 = data.quantile(0.75)  # To find the 75th percentile\\n\\nIQR = Q3 - Q1  # Inter Quantile Range\\n\\n# Finding lower and upper bounds for all values. All values outside these bounds are outliers\\n\\nlower = Q1 - 1.5 * IQR\\nupper = Q3 + 1.5 * IQR\";\n",
       "                var nbb_cells = Jupyter.notebook.get_cells();\n",
       "                for (var i = 0; i < nbb_cells.length; ++i) {\n",
       "                    if (nbb_cells[i].input_prompt_number == nbb_cell_id) {\n",
       "                        if (nbb_cells[i].get_text() == nbb_unformatted_code) {\n",
       "                             nbb_cells[i].set_text(nbb_formatted_code);\n",
       "                        }\n",
       "                        break;\n",
       "                    }\n",
       "                }\n",
       "            }, 500);\n",
       "            "
      ],
      "text/plain": [
       "<IPython.core.display.Javascript object>"
      ]
     },
     "metadata": {},
     "output_type": "display_data"
    }
   ],
   "source": [
    "# Finding the percentage of outliers using IQR\n",
    "\n",
    "Q1 = data.quantile(0.25)  # To find the 25th percentile\n",
    "Q3 = data.quantile(0.75)  # To find the 75th percentile\n",
    "\n",
    "IQR = Q3 - Q1  # Inter Quantile Range\n",
    "\n",
    "# Finding lower and upper bounds for all values. All values outside these bounds are outliers\n",
    "\n",
    "lower = Q1 - 1.5 * IQR\n",
    "upper = Q3 + 1.5 * IQR"
   ]
  },
  {
   "cell_type": "code",
   "execution_count": 95,
   "id": "396be934",
   "metadata": {},
   "outputs": [
    {
     "data": {
      "text/plain": [
       "Churn                     16.84\n",
       "Tenure                     1.23\n",
       "City_Tier                  0.00\n",
       "CC_Contacted_LY            0.37\n",
       "Service_Score              0.12\n",
       "Account_user_count         6.76\n",
       "CC_Agent_Score             0.00\n",
       "rev_per_month              1.64\n",
       "Complain_ly                0.00\n",
       "rev_growth_yoy             0.00\n",
       "coupon_used_for_payment   12.26\n",
       "Day_Since_CC_connect       0.29\n",
       "cashback                   7.81\n",
       "dtype: float64"
      ]
     },
     "execution_count": 95,
     "metadata": {},
     "output_type": "execute_result"
    },
    {
     "data": {
      "application/javascript": [
       "\n",
       "            setTimeout(function() {\n",
       "                var nbb_cell_id = 95;\n",
       "                var nbb_unformatted_code = \"# Listing the percentage of outliers in each column using IQR\\n\\n(\\n    (data.select_dtypes(include=[\\\"number\\\"]) < lower)\\n    | (data.select_dtypes(include=[\\\"number\\\"]) > upper)\\n).sum() / len(data) * 100\";\n",
       "                var nbb_formatted_code = \"# Listing the percentage of outliers in each column using IQR\\n\\n(\\n    (data.select_dtypes(include=[\\\"number\\\"]) < lower)\\n    | (data.select_dtypes(include=[\\\"number\\\"]) > upper)\\n).sum() / len(data) * 100\";\n",
       "                var nbb_cells = Jupyter.notebook.get_cells();\n",
       "                for (var i = 0; i < nbb_cells.length; ++i) {\n",
       "                    if (nbb_cells[i].input_prompt_number == nbb_cell_id) {\n",
       "                        if (nbb_cells[i].get_text() == nbb_unformatted_code) {\n",
       "                             nbb_cells[i].set_text(nbb_formatted_code);\n",
       "                        }\n",
       "                        break;\n",
       "                    }\n",
       "                }\n",
       "            }, 500);\n",
       "            "
      ],
      "text/plain": [
       "<IPython.core.display.Javascript object>"
      ]
     },
     "metadata": {},
     "output_type": "display_data"
    }
   ],
   "source": [
    "# Listing the percentage of outliers in each column using IQR\n",
    "\n",
    "(\n",
    "    (data.select_dtypes(include=[\"number\"]) < lower)\n",
    "    | (data.select_dtypes(include=[\"number\"]) > upper)\n",
    ").sum() / len(data) * 100"
   ]
  },
  {
   "cell_type": "markdown",
   "id": "64245c41",
   "metadata": {},
   "source": [
    "- As seen above, most of the numerical columns have outliers. However, I choose not to treat them, as in real case scenario the data will have outliers and would want the model to learn the underlying pattern for such customers"
   ]
  },
  {
   "cell_type": "markdown",
   "id": "13849950",
   "metadata": {},
   "source": [
    "## Missing Value Identification"
   ]
  },
  {
   "cell_type": "code",
   "execution_count": 96,
   "id": "97654a65",
   "metadata": {},
   "outputs": [
    {
     "data": {
      "text/plain": [
       "Churn                     0.00\n",
       "Tenure                    1.94\n",
       "City_Tier                 0.99\n",
       "CC_Contacted_LY           0.91\n",
       "Payment                   0.97\n",
       "Gender                    0.96\n",
       "Service_Score             0.87\n",
       "Account_user_count        3.94\n",
       "account_segment           0.86\n",
       "CC_Agent_Score            1.03\n",
       "Marital_Status            1.88\n",
       "rev_per_month             7.02\n",
       "Complain_ly               3.17\n",
       "rev_growth_yoy            0.03\n",
       "coupon_used_for_payment   0.03\n",
       "Day_Since_CC_connect      3.18\n",
       "cashback                  4.20\n",
       "Login_device              1.96\n",
       "dtype: float64"
      ]
     },
     "execution_count": 96,
     "metadata": {},
     "output_type": "execute_result"
    },
    {
     "data": {
      "application/javascript": [
       "\n",
       "            setTimeout(function() {\n",
       "                var nbb_cell_id = 96;\n",
       "                var nbb_unformatted_code = \"# Listing for the percentage of missing values in the dataset\\n\\ndata.isnull().sum() / data.isnull().count() * 100\";\n",
       "                var nbb_formatted_code = \"# Listing for the percentage of missing values in the dataset\\n\\ndata.isnull().sum() / data.isnull().count() * 100\";\n",
       "                var nbb_cells = Jupyter.notebook.get_cells();\n",
       "                for (var i = 0; i < nbb_cells.length; ++i) {\n",
       "                    if (nbb_cells[i].input_prompt_number == nbb_cell_id) {\n",
       "                        if (nbb_cells[i].get_text() == nbb_unformatted_code) {\n",
       "                             nbb_cells[i].set_text(nbb_formatted_code);\n",
       "                        }\n",
       "                        break;\n",
       "                    }\n",
       "                }\n",
       "            }, 500);\n",
       "            "
      ],
      "text/plain": [
       "<IPython.core.display.Javascript object>"
      ]
     },
     "metadata": {},
     "output_type": "display_data"
    }
   ],
   "source": [
    "# Listing for the percentage of missing values in the dataset\n",
    "\n",
    "data.isnull().sum() / data.isnull().count() * 100"
   ]
  },
  {
   "cell_type": "code",
   "execution_count": 97,
   "id": "15f2d344",
   "metadata": {},
   "outputs": [
    {
     "data": {
      "application/javascript": [
       "\n",
       "            setTimeout(function() {\n",
       "                var nbb_cell_id = 97;\n",
       "                var nbb_unformatted_code = \"# Creating a list of columns to impute missing values\\n\\ncols_to_impute = [\\n    \\\"Tenure\\\",\\n    \\\"City_Tier\\\",\\n    \\\"CC_Contacted_LY\\\",\\n    \\\"Payment\\\",\\n    \\\"Gender\\\",\\n    \\\"Service_Score\\\",\\n    \\\"Account_user_count\\\",\\n    \\\"account_segment\\\",\\n    \\\"CC_Agent_Score\\\",\\n    \\\"Marital_Status\\\",\\n    \\\"rev_per_month\\\",\\n    \\\"Complain_ly\\\",\\n    \\\"rev_growth_yoy\\\",\\n    \\\"coupon_used_for_payment\\\",\\n    \\\"Day_Since_CC_connect\\\",\\n    \\\"cashback\\\",\\n    \\\"Login_device\\\",\\n]\";\n",
       "                var nbb_formatted_code = \"# Creating a list of columns to impute missing values\\n\\ncols_to_impute = [\\n    \\\"Tenure\\\",\\n    \\\"City_Tier\\\",\\n    \\\"CC_Contacted_LY\\\",\\n    \\\"Payment\\\",\\n    \\\"Gender\\\",\\n    \\\"Service_Score\\\",\\n    \\\"Account_user_count\\\",\\n    \\\"account_segment\\\",\\n    \\\"CC_Agent_Score\\\",\\n    \\\"Marital_Status\\\",\\n    \\\"rev_per_month\\\",\\n    \\\"Complain_ly\\\",\\n    \\\"rev_growth_yoy\\\",\\n    \\\"coupon_used_for_payment\\\",\\n    \\\"Day_Since_CC_connect\\\",\\n    \\\"cashback\\\",\\n    \\\"Login_device\\\",\\n]\";\n",
       "                var nbb_cells = Jupyter.notebook.get_cells();\n",
       "                for (var i = 0; i < nbb_cells.length; ++i) {\n",
       "                    if (nbb_cells[i].input_prompt_number == nbb_cell_id) {\n",
       "                        if (nbb_cells[i].get_text() == nbb_unformatted_code) {\n",
       "                             nbb_cells[i].set_text(nbb_formatted_code);\n",
       "                        }\n",
       "                        break;\n",
       "                    }\n",
       "                }\n",
       "            }, 500);\n",
       "            "
      ],
      "text/plain": [
       "<IPython.core.display.Javascript object>"
      ]
     },
     "metadata": {},
     "output_type": "display_data"
    }
   ],
   "source": [
    "# Creating a list of columns to impute missing values\n",
    "\n",
    "cols_to_impute = [\n",
    "    \"Tenure\",\n",
    "    \"City_Tier\",\n",
    "    \"CC_Contacted_LY\",\n",
    "    \"Payment\",\n",
    "    \"Gender\",\n",
    "    \"Service_Score\",\n",
    "    \"Account_user_count\",\n",
    "    \"account_segment\",\n",
    "    \"CC_Agent_Score\",\n",
    "    \"Marital_Status\",\n",
    "    \"rev_per_month\",\n",
    "    \"Complain_ly\",\n",
    "    \"rev_growth_yoy\",\n",
    "    \"coupon_used_for_payment\",\n",
    "    \"Day_Since_CC_connect\",\n",
    "    \"cashback\",\n",
    "    \"Login_device\",\n",
    "]"
   ]
  },
  {
   "cell_type": "code",
   "execution_count": 98,
   "id": "f717e7b7",
   "metadata": {},
   "outputs": [
    {
     "data": {
      "application/javascript": [
       "\n",
       "            setTimeout(function() {\n",
       "                var nbb_cell_id = 98;\n",
       "                var nbb_unformatted_code = \"# Defining the value for 'n' neighbors\\n\\nimputer = KNNImputer(n_neighbors=5)\";\n",
       "                var nbb_formatted_code = \"# Defining the value for 'n' neighbors\\n\\nimputer = KNNImputer(n_neighbors=5)\";\n",
       "                var nbb_cells = Jupyter.notebook.get_cells();\n",
       "                for (var i = 0; i < nbb_cells.length; ++i) {\n",
       "                    if (nbb_cells[i].input_prompt_number == nbb_cell_id) {\n",
       "                        if (nbb_cells[i].get_text() == nbb_unformatted_code) {\n",
       "                             nbb_cells[i].set_text(nbb_formatted_code);\n",
       "                        }\n",
       "                        break;\n",
       "                    }\n",
       "                }\n",
       "            }, 500);\n",
       "            "
      ],
      "text/plain": [
       "<IPython.core.display.Javascript object>"
      ]
     },
     "metadata": {},
     "output_type": "display_data"
    }
   ],
   "source": [
    "# Defining the value for 'n' neighbors\n",
    "\n",
    "imputer = KNNImputer(n_neighbors=5)"
   ]
  },
  {
   "cell_type": "code",
   "execution_count": 99,
   "id": "17ba5e88",
   "metadata": {},
   "outputs": [
    {
     "data": {
      "application/javascript": [
       "\n",
       "            setTimeout(function() {\n",
       "                var nbb_cell_id = 99;\n",
       "                var nbb_unformatted_code = \"# Encoding categorical variables into numerical values to perform KNN imputation\\n\\npayment = {\\n    \\\"Debit Card\\\": 0,\\n    \\\"UPI\\\": 1,\\n    \\\"Credit Card\\\": 2,\\n    \\\"Cash on Delivery\\\": 3,\\n    \\\"E wallet\\\": 4,\\n}\\ndata[\\\"Payment\\\"] = data[\\\"Payment\\\"].map(payment)\\n\\ngender = {\\\"Female\\\": 0, \\\"Male\\\": 1}\\ndata[\\\"Gender\\\"] = data[\\\"Gender\\\"].map(gender)\\n\\naccount_segment = {\\n    \\\"Super\\\": 0,\\n    \\\"Regular Plus\\\": 1,\\n    \\\"Regular\\\": 2,\\n    \\\"HNI\\\": 3,\\n    \\\"Super Plus\\\": 4,\\n}\\ndata[\\\"account_segment\\\"] = data[\\\"account_segment\\\"].map(account_segment)\\n\\nmarital_status = {\\\"Single\\\": 0, \\\"Divorced\\\": 1, \\\"Married\\\": 2}\\ndata[\\\"Marital_Status\\\"] = data[\\\"Marital_Status\\\"].map(marital_status)\\n\\nlogin_device = {\\\"Mobile\\\": 0, \\\"Computer\\\": 1, \\\"Other\\\": 2}\\ndata[\\\"Login_device\\\"] = data[\\\"Login_device\\\"].map(login_device)\";\n",
       "                var nbb_formatted_code = \"# Encoding categorical variables into numerical values to perform KNN imputation\\n\\npayment = {\\n    \\\"Debit Card\\\": 0,\\n    \\\"UPI\\\": 1,\\n    \\\"Credit Card\\\": 2,\\n    \\\"Cash on Delivery\\\": 3,\\n    \\\"E wallet\\\": 4,\\n}\\ndata[\\\"Payment\\\"] = data[\\\"Payment\\\"].map(payment)\\n\\ngender = {\\\"Female\\\": 0, \\\"Male\\\": 1}\\ndata[\\\"Gender\\\"] = data[\\\"Gender\\\"].map(gender)\\n\\naccount_segment = {\\n    \\\"Super\\\": 0,\\n    \\\"Regular Plus\\\": 1,\\n    \\\"Regular\\\": 2,\\n    \\\"HNI\\\": 3,\\n    \\\"Super Plus\\\": 4,\\n}\\ndata[\\\"account_segment\\\"] = data[\\\"account_segment\\\"].map(account_segment)\\n\\nmarital_status = {\\\"Single\\\": 0, \\\"Divorced\\\": 1, \\\"Married\\\": 2}\\ndata[\\\"Marital_Status\\\"] = data[\\\"Marital_Status\\\"].map(marital_status)\\n\\nlogin_device = {\\\"Mobile\\\": 0, \\\"Computer\\\": 1, \\\"Other\\\": 2}\\ndata[\\\"Login_device\\\"] = data[\\\"Login_device\\\"].map(login_device)\";\n",
       "                var nbb_cells = Jupyter.notebook.get_cells();\n",
       "                for (var i = 0; i < nbb_cells.length; ++i) {\n",
       "                    if (nbb_cells[i].input_prompt_number == nbb_cell_id) {\n",
       "                        if (nbb_cells[i].get_text() == nbb_unformatted_code) {\n",
       "                             nbb_cells[i].set_text(nbb_formatted_code);\n",
       "                        }\n",
       "                        break;\n",
       "                    }\n",
       "                }\n",
       "            }, 500);\n",
       "            "
      ],
      "text/plain": [
       "<IPython.core.display.Javascript object>"
      ]
     },
     "metadata": {},
     "output_type": "display_data"
    }
   ],
   "source": [
    "# Encoding categorical variables into numerical values to perform KNN imputation\n",
    "\n",
    "payment = {\n",
    "    \"Debit Card\": 0,\n",
    "    \"UPI\": 1,\n",
    "    \"Credit Card\": 2,\n",
    "    \"Cash on Delivery\": 3,\n",
    "    \"E wallet\": 4,\n",
    "}\n",
    "data[\"Payment\"] = data[\"Payment\"].map(payment)\n",
    "\n",
    "gender = {\"Female\": 0, \"Male\": 1}\n",
    "data[\"Gender\"] = data[\"Gender\"].map(gender)\n",
    "\n",
    "account_segment = {\n",
    "    \"Super\": 0,\n",
    "    \"Regular Plus\": 1,\n",
    "    \"Regular\": 2,\n",
    "    \"HNI\": 3,\n",
    "    \"Super Plus\": 4,\n",
    "}\n",
    "data[\"account_segment\"] = data[\"account_segment\"].map(account_segment)\n",
    "\n",
    "marital_status = {\"Single\": 0, \"Divorced\": 1, \"Married\": 2}\n",
    "data[\"Marital_Status\"] = data[\"Marital_Status\"].map(marital_status)\n",
    "\n",
    "login_device = {\"Mobile\": 0, \"Computer\": 1, \"Other\": 2}\n",
    "data[\"Login_device\"] = data[\"Login_device\"].map(login_device)"
   ]
  },
  {
   "cell_type": "code",
   "execution_count": 100,
   "id": "108681bc",
   "metadata": {},
   "outputs": [
    {
     "data": {
      "text/html": [
       "<div>\n",
       "<style scoped>\n",
       "    .dataframe tbody tr th:only-of-type {\n",
       "        vertical-align: middle;\n",
       "    }\n",
       "\n",
       "    .dataframe tbody tr th {\n",
       "        vertical-align: top;\n",
       "    }\n",
       "\n",
       "    .dataframe thead th {\n",
       "        text-align: right;\n",
       "    }\n",
       "</style>\n",
       "<table border=\"1\" class=\"dataframe\">\n",
       "  <thead>\n",
       "    <tr style=\"text-align: right;\">\n",
       "      <th></th>\n",
       "      <th>Churn</th>\n",
       "      <th>Tenure</th>\n",
       "      <th>City_Tier</th>\n",
       "      <th>CC_Contacted_LY</th>\n",
       "      <th>Payment</th>\n",
       "      <th>Gender</th>\n",
       "      <th>Service_Score</th>\n",
       "      <th>Account_user_count</th>\n",
       "      <th>account_segment</th>\n",
       "      <th>CC_Agent_Score</th>\n",
       "      <th>Marital_Status</th>\n",
       "      <th>rev_per_month</th>\n",
       "      <th>Complain_ly</th>\n",
       "      <th>rev_growth_yoy</th>\n",
       "      <th>coupon_used_for_payment</th>\n",
       "      <th>Day_Since_CC_connect</th>\n",
       "      <th>cashback</th>\n",
       "      <th>Login_device</th>\n",
       "    </tr>\n",
       "  </thead>\n",
       "  <tbody>\n",
       "    <tr>\n",
       "      <th>0</th>\n",
       "      <td>1</td>\n",
       "      <td>4.00</td>\n",
       "      <td>3.00</td>\n",
       "      <td>6.00</td>\n",
       "      <td>0.00</td>\n",
       "      <td>0.00</td>\n",
       "      <td>3.00</td>\n",
       "      <td>3.00</td>\n",
       "      <td>0.00</td>\n",
       "      <td>2.00</td>\n",
       "      <td>0.00</td>\n",
       "      <td>9.00</td>\n",
       "      <td>1.00</td>\n",
       "      <td>11.00</td>\n",
       "      <td>1.00</td>\n",
       "      <td>5.00</td>\n",
       "      <td>159.93</td>\n",
       "      <td>0.00</td>\n",
       "    </tr>\n",
       "    <tr>\n",
       "      <th>1</th>\n",
       "      <td>1</td>\n",
       "      <td>0.00</td>\n",
       "      <td>1.00</td>\n",
       "      <td>8.00</td>\n",
       "      <td>1.00</td>\n",
       "      <td>1.00</td>\n",
       "      <td>3.00</td>\n",
       "      <td>4.00</td>\n",
       "      <td>1.00</td>\n",
       "      <td>3.00</td>\n",
       "      <td>0.00</td>\n",
       "      <td>7.00</td>\n",
       "      <td>1.00</td>\n",
       "      <td>15.00</td>\n",
       "      <td>0.00</td>\n",
       "      <td>0.00</td>\n",
       "      <td>120.90</td>\n",
       "      <td>0.00</td>\n",
       "    </tr>\n",
       "    <tr>\n",
       "      <th>2</th>\n",
       "      <td>1</td>\n",
       "      <td>0.00</td>\n",
       "      <td>1.00</td>\n",
       "      <td>30.00</td>\n",
       "      <td>0.00</td>\n",
       "      <td>1.00</td>\n",
       "      <td>2.00</td>\n",
       "      <td>4.00</td>\n",
       "      <td>1.00</td>\n",
       "      <td>3.00</td>\n",
       "      <td>0.00</td>\n",
       "      <td>6.00</td>\n",
       "      <td>1.00</td>\n",
       "      <td>14.00</td>\n",
       "      <td>0.00</td>\n",
       "      <td>3.00</td>\n",
       "      <td>NaN</td>\n",
       "      <td>0.00</td>\n",
       "    </tr>\n",
       "    <tr>\n",
       "      <th>3</th>\n",
       "      <td>1</td>\n",
       "      <td>0.00</td>\n",
       "      <td>3.00</td>\n",
       "      <td>15.00</td>\n",
       "      <td>0.00</td>\n",
       "      <td>1.00</td>\n",
       "      <td>2.00</td>\n",
       "      <td>4.00</td>\n",
       "      <td>0.00</td>\n",
       "      <td>5.00</td>\n",
       "      <td>0.00</td>\n",
       "      <td>8.00</td>\n",
       "      <td>0.00</td>\n",
       "      <td>23.00</td>\n",
       "      <td>0.00</td>\n",
       "      <td>3.00</td>\n",
       "      <td>134.07</td>\n",
       "      <td>0.00</td>\n",
       "    </tr>\n",
       "    <tr>\n",
       "      <th>4</th>\n",
       "      <td>1</td>\n",
       "      <td>0.00</td>\n",
       "      <td>1.00</td>\n",
       "      <td>12.00</td>\n",
       "      <td>2.00</td>\n",
       "      <td>1.00</td>\n",
       "      <td>2.00</td>\n",
       "      <td>3.00</td>\n",
       "      <td>1.00</td>\n",
       "      <td>5.00</td>\n",
       "      <td>0.00</td>\n",
       "      <td>3.00</td>\n",
       "      <td>0.00</td>\n",
       "      <td>11.00</td>\n",
       "      <td>1.00</td>\n",
       "      <td>3.00</td>\n",
       "      <td>129.60</td>\n",
       "      <td>0.00</td>\n",
       "    </tr>\n",
       "  </tbody>\n",
       "</table>\n",
       "</div>"
      ],
      "text/plain": [
       "   Churn  Tenure  City_Tier  CC_Contacted_LY  Payment  Gender  Service_Score  \\\n",
       "0      1    4.00       3.00             6.00     0.00    0.00           3.00   \n",
       "1      1    0.00       1.00             8.00     1.00    1.00           3.00   \n",
       "2      1    0.00       1.00            30.00     0.00    1.00           2.00   \n",
       "3      1    0.00       3.00            15.00     0.00    1.00           2.00   \n",
       "4      1    0.00       1.00            12.00     2.00    1.00           2.00   \n",
       "\n",
       "   Account_user_count  account_segment  CC_Agent_Score  Marital_Status  \\\n",
       "0                3.00             0.00            2.00            0.00   \n",
       "1                4.00             1.00            3.00            0.00   \n",
       "2                4.00             1.00            3.00            0.00   \n",
       "3                4.00             0.00            5.00            0.00   \n",
       "4                3.00             1.00            5.00            0.00   \n",
       "\n",
       "   rev_per_month  Complain_ly  rev_growth_yoy  coupon_used_for_payment  \\\n",
       "0           9.00         1.00           11.00                     1.00   \n",
       "1           7.00         1.00           15.00                     0.00   \n",
       "2           6.00         1.00           14.00                     0.00   \n",
       "3           8.00         0.00           23.00                     0.00   \n",
       "4           3.00         0.00           11.00                     1.00   \n",
       "\n",
       "   Day_Since_CC_connect  cashback  Login_device  \n",
       "0                  5.00    159.93          0.00  \n",
       "1                  0.00    120.90          0.00  \n",
       "2                  3.00       NaN          0.00  \n",
       "3                  3.00    134.07          0.00  \n",
       "4                  3.00    129.60          0.00  "
      ]
     },
     "execution_count": 100,
     "metadata": {},
     "output_type": "execute_result"
    },
    {
     "data": {
      "application/javascript": [
       "\n",
       "            setTimeout(function() {\n",
       "                var nbb_cell_id = 100;\n",
       "                var nbb_unformatted_code = \"data.head()\";\n",
       "                var nbb_formatted_code = \"data.head()\";\n",
       "                var nbb_cells = Jupyter.notebook.get_cells();\n",
       "                for (var i = 0; i < nbb_cells.length; ++i) {\n",
       "                    if (nbb_cells[i].input_prompt_number == nbb_cell_id) {\n",
       "                        if (nbb_cells[i].get_text() == nbb_unformatted_code) {\n",
       "                             nbb_cells[i].set_text(nbb_formatted_code);\n",
       "                        }\n",
       "                        break;\n",
       "                    }\n",
       "                }\n",
       "            }, 500);\n",
       "            "
      ],
      "text/plain": [
       "<IPython.core.display.Javascript object>"
      ]
     },
     "metadata": {},
     "output_type": "display_data"
    }
   ],
   "source": [
    "data.head()"
   ]
  },
  {
   "cell_type": "markdown",
   "id": "41158709",
   "metadata": {},
   "source": [
    "- Values have been encoded"
   ]
  },
  {
   "cell_type": "markdown",
   "id": "71ffbfb6",
   "metadata": {},
   "source": [
    "## Data Preparation for Modeling"
   ]
  },
  {
   "cell_type": "markdown",
   "id": "c69f45ba",
   "metadata": {},
   "source": [
    "## Split Data"
   ]
  },
  {
   "cell_type": "code",
   "execution_count": 101,
   "id": "2f162a2f",
   "metadata": {},
   "outputs": [
    {
     "data": {
      "application/javascript": [
       "\n",
       "            setTimeout(function() {\n",
       "                var nbb_cell_id = 101;\n",
       "                var nbb_unformatted_code = \"# Separating the dependent and independent variables\\n\\nX = data.drop(\\\"Churn\\\", axis=1)\\ny = data[\\\"Churn\\\"]\";\n",
       "                var nbb_formatted_code = \"# Separating the dependent and independent variables\\n\\nX = data.drop(\\\"Churn\\\", axis=1)\\ny = data[\\\"Churn\\\"]\";\n",
       "                var nbb_cells = Jupyter.notebook.get_cells();\n",
       "                for (var i = 0; i < nbb_cells.length; ++i) {\n",
       "                    if (nbb_cells[i].input_prompt_number == nbb_cell_id) {\n",
       "                        if (nbb_cells[i].get_text() == nbb_unformatted_code) {\n",
       "                             nbb_cells[i].set_text(nbb_formatted_code);\n",
       "                        }\n",
       "                        break;\n",
       "                    }\n",
       "                }\n",
       "            }, 500);\n",
       "            "
      ],
      "text/plain": [
       "<IPython.core.display.Javascript object>"
      ]
     },
     "metadata": {},
     "output_type": "display_data"
    }
   ],
   "source": [
    "# Separating the dependent and independent variables\n",
    "\n",
    "X = data.drop(\"Churn\", axis=1)\n",
    "y = data[\"Churn\"]"
   ]
  },
  {
   "cell_type": "code",
   "execution_count": 102,
   "id": "47b45823",
   "metadata": {},
   "outputs": [
    {
     "data": {
      "application/javascript": [
       "\n",
       "            setTimeout(function() {\n",
       "                var nbb_cell_id = 102;\n",
       "                var nbb_unformatted_code = \"# Splitting the data into training, validation and test sets\\n# Splitting data into 2 parts, temporary and test sets\\n\\nX_temp, X_test, y_temp, y_test = train_test_split(\\n    X, y, test_size=0.2, random_state=1, stratify=y\\n)\\n\\n# Splitting the temporary set into train and validation sets\\n\\nX_train, X_val, y_train, y_val = train_test_split(\\n    X_temp, y_temp, test_size=0.25, random_state=1, stratify=y_temp\\n)\";\n",
       "                var nbb_formatted_code = \"# Splitting the data into training, validation and test sets\\n# Splitting data into 2 parts, temporary and test sets\\n\\nX_temp, X_test, y_temp, y_test = train_test_split(\\n    X, y, test_size=0.2, random_state=1, stratify=y\\n)\\n\\n# Splitting the temporary set into train and validation sets\\n\\nX_train, X_val, y_train, y_val = train_test_split(\\n    X_temp, y_temp, test_size=0.25, random_state=1, stratify=y_temp\\n)\";\n",
       "                var nbb_cells = Jupyter.notebook.get_cells();\n",
       "                for (var i = 0; i < nbb_cells.length; ++i) {\n",
       "                    if (nbb_cells[i].input_prompt_number == nbb_cell_id) {\n",
       "                        if (nbb_cells[i].get_text() == nbb_unformatted_code) {\n",
       "                             nbb_cells[i].set_text(nbb_formatted_code);\n",
       "                        }\n",
       "                        break;\n",
       "                    }\n",
       "                }\n",
       "            }, 500);\n",
       "            "
      ],
      "text/plain": [
       "<IPython.core.display.Javascript object>"
      ]
     },
     "metadata": {},
     "output_type": "display_data"
    }
   ],
   "source": [
    "# Splitting the data into training, validation and test sets\n",
    "# Splitting data into 2 parts, temporary and test sets\n",
    "\n",
    "X_temp, X_test, y_temp, y_test = train_test_split(\n",
    "    X, y, test_size=0.2, random_state=1, stratify=y\n",
    ")\n",
    "\n",
    "# Splitting the temporary set into train and validation sets\n",
    "\n",
    "X_train, X_val, y_train, y_val = train_test_split(\n",
    "    X_temp, y_temp, test_size=0.25, random_state=1, stratify=y_temp\n",
    ")"
   ]
  },
  {
   "cell_type": "code",
   "execution_count": 103,
   "id": "c7177929",
   "metadata": {},
   "outputs": [
    {
     "name": "stdout",
     "output_type": "stream",
     "text": [
      "Shape of Training set :  (6756, 17)\n",
      "Shape of Validation set :  (2252, 17)\n",
      "Shape of Testing set :  (2252, 17)\n",
      "\n",
      " Percentage of classes in training set : \n",
      "0   0.83\n",
      "1   0.17\n",
      "Name: Churn, dtype: float64\n",
      "\n",
      " Percentage of classes in validation set : \n",
      "0   0.83\n",
      "1   0.17\n",
      "Name: Churn, dtype: float64\n",
      "\n",
      " Percentage of classes in test set : \n",
      "0   0.83\n",
      "1   0.17\n",
      "Name: Churn, dtype: float64\n"
     ]
    },
    {
     "data": {
      "application/javascript": [
       "\n",
       "            setTimeout(function() {\n",
       "                var nbb_cell_id = 103;\n",
       "                var nbb_unformatted_code = \"print(\\\"Shape of Training set : \\\", X_train.shape)\\nprint(\\\"Shape of Validation set : \\\", X_val.shape)\\nprint(\\\"Shape of Testing set : \\\", X_test.shape)\\nprint(\\\"\\\\n Percentage of classes in training set : \\\")\\nprint(y_train.value_counts(normalize=True))\\nprint(\\\"\\\\n Percentage of classes in validation set : \\\")\\nprint(y_val.value_counts(normalize=True))\\nprint(\\\"\\\\n Percentage of classes in test set : \\\")\\nprint(y_test.value_counts(normalize=True))\";\n",
       "                var nbb_formatted_code = \"print(\\\"Shape of Training set : \\\", X_train.shape)\\nprint(\\\"Shape of Validation set : \\\", X_val.shape)\\nprint(\\\"Shape of Testing set : \\\", X_test.shape)\\nprint(\\\"\\\\n Percentage of classes in training set : \\\")\\nprint(y_train.value_counts(normalize=True))\\nprint(\\\"\\\\n Percentage of classes in validation set : \\\")\\nprint(y_val.value_counts(normalize=True))\\nprint(\\\"\\\\n Percentage of classes in test set : \\\")\\nprint(y_test.value_counts(normalize=True))\";\n",
       "                var nbb_cells = Jupyter.notebook.get_cells();\n",
       "                for (var i = 0; i < nbb_cells.length; ++i) {\n",
       "                    if (nbb_cells[i].input_prompt_number == nbb_cell_id) {\n",
       "                        if (nbb_cells[i].get_text() == nbb_unformatted_code) {\n",
       "                             nbb_cells[i].set_text(nbb_formatted_code);\n",
       "                        }\n",
       "                        break;\n",
       "                    }\n",
       "                }\n",
       "            }, 500);\n",
       "            "
      ],
      "text/plain": [
       "<IPython.core.display.Javascript object>"
      ]
     },
     "metadata": {},
     "output_type": "display_data"
    }
   ],
   "source": [
    "print(\"Shape of Training set : \", X_train.shape)\n",
    "print(\"Shape of Validation set : \", X_val.shape)\n",
    "print(\"Shape of Testing set : \", X_test.shape)\n",
    "print(\"\\n Percentage of classes in training set : \")\n",
    "print(y_train.value_counts(normalize=True))\n",
    "print(\"\\n Percentage of classes in validation set : \")\n",
    "print(y_val.value_counts(normalize=True))\n",
    "print(\"\\n Percentage of classes in test set : \")\n",
    "print(y_test.value_counts(normalize=True))"
   ]
  },
  {
   "cell_type": "markdown",
   "id": "7e614b1a",
   "metadata": {},
   "source": [
    "- We have the classes of the dependent variable well balanced in all the three sets"
   ]
  },
  {
   "cell_type": "markdown",
   "id": "c5280b45",
   "metadata": {},
   "source": [
    "## Missing Value Treatment"
   ]
  },
  {
   "cell_type": "code",
   "execution_count": 104,
   "id": "590eb29f",
   "metadata": {},
   "outputs": [
    {
     "name": "stdout",
     "output_type": "stream",
     "text": [
      "Tenure                     119\n",
      "City_Tier                   65\n",
      "CC_Contacted_LY             66\n",
      "Payment                     74\n",
      "Gender                      58\n",
      "Service_Score               53\n",
      "Account_user_count         252\n",
      "account_segment             59\n",
      "CC_Agent_Score              64\n",
      "Marital_Status             122\n",
      "rev_per_month              458\n",
      "Complain_ly                209\n",
      "rev_growth_yoy               0\n",
      "coupon_used_for_payment      2\n",
      "Day_Since_CC_connect       200\n",
      "cashback                   274\n",
      "Login_device               133\n",
      "dtype: int64\n",
      "----------------------------------------\n",
      "Tenure                      52\n",
      "City_Tier                   27\n",
      "CC_Contacted_LY             11\n",
      "Payment                     12\n",
      "Gender                      26\n",
      "Service_Score               21\n",
      "Account_user_count          90\n",
      "account_segment             18\n",
      "CC_Agent_Score              25\n",
      "Marital_Status              41\n",
      "rev_per_month              173\n",
      "Complain_ly                 84\n",
      "rev_growth_yoy               3\n",
      "coupon_used_for_payment      0\n",
      "Day_Since_CC_connect        61\n",
      "cashback                    86\n",
      "Login_device                43\n",
      "dtype: int64\n",
      "----------------------------------------\n",
      "Tenure                      47\n",
      "City_Tier                   20\n",
      "CC_Contacted_LY             25\n",
      "Payment                     23\n",
      "Gender                      24\n",
      "Service_Score               24\n",
      "Account_user_count         102\n",
      "account_segment             20\n",
      "CC_Agent_Score              27\n",
      "Marital_Status              49\n",
      "rev_per_month              160\n",
      "Complain_ly                 64\n",
      "rev_growth_yoy               0\n",
      "coupon_used_for_payment      1\n",
      "Day_Since_CC_connect        97\n",
      "cashback                   113\n",
      "Login_device                45\n",
      "dtype: int64\n"
     ]
    },
    {
     "data": {
      "application/javascript": [
       "\n",
       "            setTimeout(function() {\n",
       "                var nbb_cell_id = 104;\n",
       "                var nbb_unformatted_code = \"# Checking the number of missing values in train, validation and test sets\\n\\nprint(X_train.isna().sum())\\nprint(\\\"-\\\" * 40)\\nprint(X_val.isna().sum())\\nprint(\\\"-\\\" * 40)\\nprint(X_test.isna().sum())\";\n",
       "                var nbb_formatted_code = \"# Checking the number of missing values in train, validation and test sets\\n\\nprint(X_train.isna().sum())\\nprint(\\\"-\\\" * 40)\\nprint(X_val.isna().sum())\\nprint(\\\"-\\\" * 40)\\nprint(X_test.isna().sum())\";\n",
       "                var nbb_cells = Jupyter.notebook.get_cells();\n",
       "                for (var i = 0; i < nbb_cells.length; ++i) {\n",
       "                    if (nbb_cells[i].input_prompt_number == nbb_cell_id) {\n",
       "                        if (nbb_cells[i].get_text() == nbb_unformatted_code) {\n",
       "                             nbb_cells[i].set_text(nbb_formatted_code);\n",
       "                        }\n",
       "                        break;\n",
       "                    }\n",
       "                }\n",
       "            }, 500);\n",
       "            "
      ],
      "text/plain": [
       "<IPython.core.display.Javascript object>"
      ]
     },
     "metadata": {},
     "output_type": "display_data"
    }
   ],
   "source": [
    "# Checking the number of missing values in train, validation and test sets\n",
    "\n",
    "print(X_train.isna().sum())\n",
    "print(\"-\" * 40)\n",
    "print(X_val.isna().sum())\n",
    "print(\"-\" * 40)\n",
    "print(X_test.isna().sum())"
   ]
  },
  {
   "cell_type": "code",
   "execution_count": 105,
   "id": "046a25ef",
   "metadata": {},
   "outputs": [
    {
     "data": {
      "application/javascript": [
       "\n",
       "            setTimeout(function() {\n",
       "                var nbb_cell_id = 105;\n",
       "                var nbb_unformatted_code = \"# Fit and transform the train data\\nX_train[cols_to_impute] = imputer.fit_transform(X_train)\\n\\n# Transform the validation data\\nX_val[cols_to_impute] = imputer.transform(X_val)\\n\\n# Transform the test data\\nX_test[cols_to_impute] = imputer.transform(X_test)\";\n",
       "                var nbb_formatted_code = \"# Fit and transform the train data\\nX_train[cols_to_impute] = imputer.fit_transform(X_train)\\n\\n# Transform the validation data\\nX_val[cols_to_impute] = imputer.transform(X_val)\\n\\n# Transform the test data\\nX_test[cols_to_impute] = imputer.transform(X_test)\";\n",
       "                var nbb_cells = Jupyter.notebook.get_cells();\n",
       "                for (var i = 0; i < nbb_cells.length; ++i) {\n",
       "                    if (nbb_cells[i].input_prompt_number == nbb_cell_id) {\n",
       "                        if (nbb_cells[i].get_text() == nbb_unformatted_code) {\n",
       "                             nbb_cells[i].set_text(nbb_formatted_code);\n",
       "                        }\n",
       "                        break;\n",
       "                    }\n",
       "                }\n",
       "            }, 500);\n",
       "            "
      ],
      "text/plain": [
       "<IPython.core.display.Javascript object>"
      ]
     },
     "metadata": {},
     "output_type": "display_data"
    }
   ],
   "source": [
    "# Fit and transform the train data\n",
    "X_train[cols_to_impute] = imputer.fit_transform(X_train)\n",
    "\n",
    "# Transform the validation data\n",
    "X_val[cols_to_impute] = imputer.transform(X_val)\n",
    "\n",
    "# Transform the test data\n",
    "X_test[cols_to_impute] = imputer.transform(X_test)"
   ]
  },
  {
   "cell_type": "code",
   "execution_count": 106,
   "id": "68ba046b",
   "metadata": {},
   "outputs": [
    {
     "name": "stdout",
     "output_type": "stream",
     "text": [
      "Tenure                     0\n",
      "City_Tier                  0\n",
      "CC_Contacted_LY            0\n",
      "Payment                    0\n",
      "Gender                     0\n",
      "Service_Score              0\n",
      "Account_user_count         0\n",
      "account_segment            0\n",
      "CC_Agent_Score             0\n",
      "Marital_Status             0\n",
      "rev_per_month              0\n",
      "Complain_ly                0\n",
      "rev_growth_yoy             0\n",
      "coupon_used_for_payment    0\n",
      "Day_Since_CC_connect       0\n",
      "cashback                   0\n",
      "Login_device               0\n",
      "dtype: int64\n",
      "----------------------------------------\n",
      "Tenure                     0\n",
      "City_Tier                  0\n",
      "CC_Contacted_LY            0\n",
      "Payment                    0\n",
      "Gender                     0\n",
      "Service_Score              0\n",
      "Account_user_count         0\n",
      "account_segment            0\n",
      "CC_Agent_Score             0\n",
      "Marital_Status             0\n",
      "rev_per_month              0\n",
      "Complain_ly                0\n",
      "rev_growth_yoy             0\n",
      "coupon_used_for_payment    0\n",
      "Day_Since_CC_connect       0\n",
      "cashback                   0\n",
      "Login_device               0\n",
      "dtype: int64\n",
      "----------------------------------------\n",
      "Tenure                     0\n",
      "City_Tier                  0\n",
      "CC_Contacted_LY            0\n",
      "Payment                    0\n",
      "Gender                     0\n",
      "Service_Score              0\n",
      "Account_user_count         0\n",
      "account_segment            0\n",
      "CC_Agent_Score             0\n",
      "Marital_Status             0\n",
      "rev_per_month              0\n",
      "Complain_ly                0\n",
      "rev_growth_yoy             0\n",
      "coupon_used_for_payment    0\n",
      "Day_Since_CC_connect       0\n",
      "cashback                   0\n",
      "Login_device               0\n",
      "dtype: int64\n"
     ]
    },
    {
     "data": {
      "application/javascript": [
       "\n",
       "            setTimeout(function() {\n",
       "                var nbb_cell_id = 106;\n",
       "                var nbb_unformatted_code = \"# Checking the number of missing values in train, validation and test sets\\n\\nprint(X_train.isna().sum())\\nprint(\\\"-\\\" * 40)\\nprint(X_val.isna().sum())\\nprint(\\\"-\\\" * 40)\\nprint(X_test.isna().sum())\";\n",
       "                var nbb_formatted_code = \"# Checking the number of missing values in train, validation and test sets\\n\\nprint(X_train.isna().sum())\\nprint(\\\"-\\\" * 40)\\nprint(X_val.isna().sum())\\nprint(\\\"-\\\" * 40)\\nprint(X_test.isna().sum())\";\n",
       "                var nbb_cells = Jupyter.notebook.get_cells();\n",
       "                for (var i = 0; i < nbb_cells.length; ++i) {\n",
       "                    if (nbb_cells[i].input_prompt_number == nbb_cell_id) {\n",
       "                        if (nbb_cells[i].get_text() == nbb_unformatted_code) {\n",
       "                             nbb_cells[i].set_text(nbb_formatted_code);\n",
       "                        }\n",
       "                        break;\n",
       "                    }\n",
       "                }\n",
       "            }, 500);\n",
       "            "
      ],
      "text/plain": [
       "<IPython.core.display.Javascript object>"
      ]
     },
     "metadata": {},
     "output_type": "display_data"
    }
   ],
   "source": [
    "# Checking the number of missing values in train, validation and test sets\n",
    "\n",
    "print(X_train.isna().sum())\n",
    "print(\"-\" * 40)\n",
    "print(X_val.isna().sum())\n",
    "print(\"-\" * 40)\n",
    "print(X_test.isna().sum())"
   ]
  },
  {
   "cell_type": "markdown",
   "id": "2dd654ed",
   "metadata": {},
   "source": [
    "- No more missing values in the dataset"
   ]
  },
  {
   "cell_type": "code",
   "execution_count": 107,
   "id": "2e7b7206",
   "metadata": {},
   "outputs": [
    {
     "data": {
      "application/javascript": [
       "\n",
       "            setTimeout(function() {\n",
       "                var nbb_cell_id = 107;\n",
       "                var nbb_unformatted_code = \"# Function to inverse the encoding of categorical variables\\n\\n\\ndef inverse_mapping(x, y):\\n    inv_dict = {v: k for k, v in x.items()}\\n    X_train[y] = np.round(X_train[y]).map(inv_dict).astype(\\\"category\\\")\\n    X_val[y] = np.round(X_val[y]).map(inv_dict).astype(\\\"category\\\")\\n    X_test[y] = np.round(X_test[y]).map(inv_dict).astype(\\\"category\\\")\";\n",
       "                var nbb_formatted_code = \"# Function to inverse the encoding of categorical variables\\n\\n\\ndef inverse_mapping(x, y):\\n    inv_dict = {v: k for k, v in x.items()}\\n    X_train[y] = np.round(X_train[y]).map(inv_dict).astype(\\\"category\\\")\\n    X_val[y] = np.round(X_val[y]).map(inv_dict).astype(\\\"category\\\")\\n    X_test[y] = np.round(X_test[y]).map(inv_dict).astype(\\\"category\\\")\";\n",
       "                var nbb_cells = Jupyter.notebook.get_cells();\n",
       "                for (var i = 0; i < nbb_cells.length; ++i) {\n",
       "                    if (nbb_cells[i].input_prompt_number == nbb_cell_id) {\n",
       "                        if (nbb_cells[i].get_text() == nbb_unformatted_code) {\n",
       "                             nbb_cells[i].set_text(nbb_formatted_code);\n",
       "                        }\n",
       "                        break;\n",
       "                    }\n",
       "                }\n",
       "            }, 500);\n",
       "            "
      ],
      "text/plain": [
       "<IPython.core.display.Javascript object>"
      ]
     },
     "metadata": {},
     "output_type": "display_data"
    }
   ],
   "source": [
    "# Function to inverse the encoding of categorical variables\n",
    "\n",
    "\n",
    "def inverse_mapping(x, y):\n",
    "    inv_dict = {v: k for k, v in x.items()}\n",
    "    X_train[y] = np.round(X_train[y]).map(inv_dict).astype(\"category\")\n",
    "    X_val[y] = np.round(X_val[y]).map(inv_dict).astype(\"category\")\n",
    "    X_test[y] = np.round(X_test[y]).map(inv_dict).astype(\"category\")"
   ]
  },
  {
   "cell_type": "code",
   "execution_count": 108,
   "id": "c91f2d76",
   "metadata": {},
   "outputs": [
    {
     "data": {
      "application/javascript": [
       "\n",
       "            setTimeout(function() {\n",
       "                var nbb_cell_id = 108;\n",
       "                var nbb_unformatted_code = \"inverse_mapping(payment, \\\"Payment\\\")\\ninverse_mapping(gender, \\\"Gender\\\")\\ninverse_mapping(account_segment, \\\"account_segment\\\")\\ninverse_mapping(marital_status, \\\"Marital_Status\\\")\\ninverse_mapping(login_device, \\\"Login_device\\\")\";\n",
       "                var nbb_formatted_code = \"inverse_mapping(payment, \\\"Payment\\\")\\ninverse_mapping(gender, \\\"Gender\\\")\\ninverse_mapping(account_segment, \\\"account_segment\\\")\\ninverse_mapping(marital_status, \\\"Marital_Status\\\")\\ninverse_mapping(login_device, \\\"Login_device\\\")\";\n",
       "                var nbb_cells = Jupyter.notebook.get_cells();\n",
       "                for (var i = 0; i < nbb_cells.length; ++i) {\n",
       "                    if (nbb_cells[i].input_prompt_number == nbb_cell_id) {\n",
       "                        if (nbb_cells[i].get_text() == nbb_unformatted_code) {\n",
       "                             nbb_cells[i].set_text(nbb_formatted_code);\n",
       "                        }\n",
       "                        break;\n",
       "                    }\n",
       "                }\n",
       "            }, 500);\n",
       "            "
      ],
      "text/plain": [
       "<IPython.core.display.Javascript object>"
      ]
     },
     "metadata": {},
     "output_type": "display_data"
    }
   ],
   "source": [
    "inverse_mapping(payment, \"Payment\")\n",
    "inverse_mapping(gender, \"Gender\")\n",
    "inverse_mapping(account_segment, \"account_segment\")\n",
    "inverse_mapping(marital_status, \"Marital_Status\")\n",
    "inverse_mapping(login_device, \"Login_device\")"
   ]
  },
  {
   "cell_type": "code",
   "execution_count": 109,
   "id": "f8cdecba",
   "metadata": {},
   "outputs": [
    {
     "name": "stdout",
     "output_type": "stream",
     "text": [
      "Debit Card          2772\n",
      "Credit Card         2105\n",
      "E wallet             729\n",
      "Cash on Delivery     628\n",
      "UPI                  522\n",
      "Name: Payment, dtype: int64\n",
      "----------------------------------------\n",
      "Male      4077\n",
      "Female    2679\n",
      "Name: Gender, dtype: int64\n",
      "----------------------------------------\n",
      "Regular Plus    2533\n",
      "Super           2457\n",
      "HNI              972\n",
      "Super Plus       487\n",
      "Regular          307\n",
      "Name: account_segment, dtype: int64\n",
      "----------------------------------------\n",
      "Married     3563\n",
      "Single      2128\n",
      "Divorced    1065\n",
      "Name: Marital_Status, dtype: int64\n",
      "----------------------------------------\n",
      "Mobile      4591\n",
      "Computer    1849\n",
      "Other        316\n",
      "Name: Login_device, dtype: int64\n",
      "----------------------------------------\n"
     ]
    },
    {
     "data": {
      "application/javascript": [
       "\n",
       "            setTimeout(function() {\n",
       "                var nbb_cell_id = 109;\n",
       "                var nbb_unformatted_code = \"# Checking inverse mapped categorical values in train data\\n\\ncols = X_train.select_dtypes(include=[\\\"object\\\", \\\"category\\\"])\\nfor i in cols.columns:\\n    print(X_train[i].value_counts())\\n    print(\\\"-\\\" * 40)\";\n",
       "                var nbb_formatted_code = \"# Checking inverse mapped categorical values in train data\\n\\ncols = X_train.select_dtypes(include=[\\\"object\\\", \\\"category\\\"])\\nfor i in cols.columns:\\n    print(X_train[i].value_counts())\\n    print(\\\"-\\\" * 40)\";\n",
       "                var nbb_cells = Jupyter.notebook.get_cells();\n",
       "                for (var i = 0; i < nbb_cells.length; ++i) {\n",
       "                    if (nbb_cells[i].input_prompt_number == nbb_cell_id) {\n",
       "                        if (nbb_cells[i].get_text() == nbb_unformatted_code) {\n",
       "                             nbb_cells[i].set_text(nbb_formatted_code);\n",
       "                        }\n",
       "                        break;\n",
       "                    }\n",
       "                }\n",
       "            }, 500);\n",
       "            "
      ],
      "text/plain": [
       "<IPython.core.display.Javascript object>"
      ]
     },
     "metadata": {},
     "output_type": "display_data"
    }
   ],
   "source": [
    "# Checking inverse mapped categorical values in train data\n",
    "\n",
    "cols = X_train.select_dtypes(include=[\"object\", \"category\"])\n",
    "for i in cols.columns:\n",
    "    print(X_train[i].value_counts())\n",
    "    print(\"-\" * 40)"
   ]
  },
  {
   "cell_type": "code",
   "execution_count": 110,
   "id": "321980c5",
   "metadata": {},
   "outputs": [
    {
     "name": "stdout",
     "output_type": "stream",
     "text": [
      "Debit Card          920\n",
      "Credit Card         718\n",
      "E wallet            261\n",
      "Cash on Delivery    196\n",
      "UPI                 157\n",
      "Name: Payment, dtype: int64\n",
      "----------------------------------------\n",
      "Male      1343\n",
      "Female     909\n",
      "Name: Gender, dtype: int64\n",
      "----------------------------------------\n",
      "Super           818\n",
      "Regular Plus    814\n",
      "HNI             336\n",
      "Super Plus      174\n",
      "Regular         110\n",
      "Name: account_segment, dtype: int64\n",
      "----------------------------------------\n",
      "Married     1207\n",
      "Single       696\n",
      "Divorced     349\n",
      "Name: Marital_Status, dtype: int64\n",
      "----------------------------------------\n",
      "Mobile      1518\n",
      "Computer     630\n",
      "Other        104\n",
      "Name: Login_device, dtype: int64\n",
      "----------------------------------------\n"
     ]
    },
    {
     "data": {
      "application/javascript": [
       "\n",
       "            setTimeout(function() {\n",
       "                var nbb_cell_id = 110;\n",
       "                var nbb_unformatted_code = \"# Checking inverse mapped categorical values in validation data\\n\\ncols = X_val.select_dtypes(include=[\\\"object\\\", \\\"category\\\"])\\nfor i in cols.columns:\\n    print(X_val[i].value_counts())\\n    print(\\\"-\\\" * 40)\";\n",
       "                var nbb_formatted_code = \"# Checking inverse mapped categorical values in validation data\\n\\ncols = X_val.select_dtypes(include=[\\\"object\\\", \\\"category\\\"])\\nfor i in cols.columns:\\n    print(X_val[i].value_counts())\\n    print(\\\"-\\\" * 40)\";\n",
       "                var nbb_cells = Jupyter.notebook.get_cells();\n",
       "                for (var i = 0; i < nbb_cells.length; ++i) {\n",
       "                    if (nbb_cells[i].input_prompt_number == nbb_cell_id) {\n",
       "                        if (nbb_cells[i].get_text() == nbb_unformatted_code) {\n",
       "                             nbb_cells[i].set_text(nbb_formatted_code);\n",
       "                        }\n",
       "                        break;\n",
       "                    }\n",
       "                }\n",
       "            }, 500);\n",
       "            "
      ],
      "text/plain": [
       "<IPython.core.display.Javascript object>"
      ]
     },
     "metadata": {},
     "output_type": "display_data"
    }
   ],
   "source": [
    "# Checking inverse mapped categorical values in validation data\n",
    "\n",
    "cols = X_val.select_dtypes(include=[\"object\", \"category\"])\n",
    "for i in cols.columns:\n",
    "    print(X_val[i].value_counts())\n",
    "    print(\"-\" * 40)"
   ]
  },
  {
   "cell_type": "code",
   "execution_count": 111,
   "id": "9e6b60c7",
   "metadata": {},
   "outputs": [
    {
     "name": "stdout",
     "output_type": "stream",
     "text": [
      "Debit Card          909\n",
      "Credit Card         731\n",
      "E wallet            227\n",
      "Cash on Delivery    197\n",
      "UPI                 188\n",
      "Name: Payment, dtype: int64\n",
      "----------------------------------------\n",
      "Male      1360\n",
      "Female     892\n",
      "Name: Gender, dtype: int64\n",
      "----------------------------------------\n",
      "Regular Plus    831\n",
      "Super           810\n",
      "HNI             335\n",
      "Super Plus      158\n",
      "Regular         118\n",
      "Name: account_segment, dtype: int64\n",
      "----------------------------------------\n",
      "Married     1150\n",
      "Single       718\n",
      "Divorced     384\n",
      "Name: Marital_Status, dtype: int64\n",
      "----------------------------------------\n",
      "Mobile      1529\n",
      "Computer     604\n",
      "Other        119\n",
      "Name: Login_device, dtype: int64\n",
      "----------------------------------------\n"
     ]
    },
    {
     "data": {
      "application/javascript": [
       "\n",
       "            setTimeout(function() {\n",
       "                var nbb_cell_id = 111;\n",
       "                var nbb_unformatted_code = \"# Checking inverse mapped categorical values in test data\\n\\ncols = X_train.select_dtypes(include=[\\\"object\\\", \\\"category\\\"])\\nfor i in cols.columns:\\n    print(X_test[i].value_counts())\\n    print(\\\"-\\\" * 40)\";\n",
       "                var nbb_formatted_code = \"# Checking inverse mapped categorical values in test data\\n\\ncols = X_train.select_dtypes(include=[\\\"object\\\", \\\"category\\\"])\\nfor i in cols.columns:\\n    print(X_test[i].value_counts())\\n    print(\\\"-\\\" * 40)\";\n",
       "                var nbb_cells = Jupyter.notebook.get_cells();\n",
       "                for (var i = 0; i < nbb_cells.length; ++i) {\n",
       "                    if (nbb_cells[i].input_prompt_number == nbb_cell_id) {\n",
       "                        if (nbb_cells[i].get_text() == nbb_unformatted_code) {\n",
       "                             nbb_cells[i].set_text(nbb_formatted_code);\n",
       "                        }\n",
       "                        break;\n",
       "                    }\n",
       "                }\n",
       "            }, 500);\n",
       "            "
      ],
      "text/plain": [
       "<IPython.core.display.Javascript object>"
      ]
     },
     "metadata": {},
     "output_type": "display_data"
    }
   ],
   "source": [
    "# Checking inverse mapped categorical values in test data\n",
    "\n",
    "cols = X_train.select_dtypes(include=[\"object\", \"category\"])\n",
    "for i in cols.columns:\n",
    "    print(X_test[i].value_counts())\n",
    "    print(\"-\" * 40)"
   ]
  },
  {
   "cell_type": "markdown",
   "id": "22792bbe",
   "metadata": {},
   "source": [
    "- Inverse mapping has returned original labels"
   ]
  },
  {
   "cell_type": "markdown",
   "id": "12964645",
   "metadata": {},
   "source": [
    "## Feature Extraction"
   ]
  },
  {
   "cell_type": "markdown",
   "id": "f9ae4ca2",
   "metadata": {},
   "source": [
    "- From the EDA it was clearly seen that the churn rate for Marital_Status, Payment, account_segment and Login_device w.r.t Male customers was higher than that of Female customers. Hence creating interaction variables for the same.\n",
    "- Also, the churn pattern for Account_user_count varied w.r.t Service_Score. Hence creating a ratio variable for the same."
   ]
  },
  {
   "cell_type": "markdown",
   "id": "8337d056",
   "metadata": {},
   "source": [
    "### Interaction Variables"
   ]
  },
  {
   "cell_type": "markdown",
   "id": "c6b5a2c3",
   "metadata": {},
   "source": [
    "### Marital_Status and Gender"
   ]
  },
  {
   "cell_type": "code",
   "execution_count": 112,
   "id": "b5833b71",
   "metadata": {},
   "outputs": [
    {
     "data": {
      "application/javascript": [
       "\n",
       "            setTimeout(function() {\n",
       "                var nbb_cell_id = 112;\n",
       "                var nbb_unformatted_code = \"def Married_M(df):\\n    if df[\\\"Marital_Status\\\"] == \\\"Married\\\" and df[\\\"Gender\\\"] == \\\"Male\\\":\\n        return 1\\n    else:\\n        return 0\\n\\n\\nX_train[\\\"Married_M\\\"] = X_train.apply(lambda X_train: Married_M(X_train), axis=1)\\nX_val[\\\"Married_M\\\"] = X_val.apply(lambda X_val: Married_M(X_val), axis=1)\\nX_test[\\\"Married_M\\\"] = X_test.apply(lambda X_test: Married_M(X_test), axis=1)\\n\\n\\ndef Single_M(df):\\n    if df[\\\"Marital_Status\\\"] == \\\"Single\\\" and df[\\\"Gender\\\"] == \\\"Male\\\":\\n        return 1\\n    else:\\n        return 0\\n\\n\\nX_train[\\\"Single_M\\\"] = X_train.apply(lambda X_train: Single_M(X_train), axis=1)\\nX_val[\\\"Single_M\\\"] = X_val.apply(lambda X_val: Single_M(X_val), axis=1)\\nX_test[\\\"Single_M\\\"] = X_test.apply(lambda X_test: Single_M(X_test), axis=1)\\n\\n\\ndef Divorced_M(df):\\n    if df[\\\"Marital_Status\\\"] == \\\"Divorced\\\" and df[\\\"Gender\\\"] == \\\"Male\\\":\\n        return 1\\n    else:\\n        return 0\\n\\n\\nX_train[\\\"Divorced_M\\\"] = X_train.apply(lambda X_train: Divorced_M(X_train), axis=1)\\nX_val[\\\"Divorced_M\\\"] = X_val.apply(lambda X_val: Divorced_M(X_val), axis=1)\\nX_test[\\\"Divorced_M\\\"] = X_test.apply(lambda X_test: Divorced_M(X_test), axis=1)\";\n",
       "                var nbb_formatted_code = \"def Married_M(df):\\n    if df[\\\"Marital_Status\\\"] == \\\"Married\\\" and df[\\\"Gender\\\"] == \\\"Male\\\":\\n        return 1\\n    else:\\n        return 0\\n\\n\\nX_train[\\\"Married_M\\\"] = X_train.apply(lambda X_train: Married_M(X_train), axis=1)\\nX_val[\\\"Married_M\\\"] = X_val.apply(lambda X_val: Married_M(X_val), axis=1)\\nX_test[\\\"Married_M\\\"] = X_test.apply(lambda X_test: Married_M(X_test), axis=1)\\n\\n\\ndef Single_M(df):\\n    if df[\\\"Marital_Status\\\"] == \\\"Single\\\" and df[\\\"Gender\\\"] == \\\"Male\\\":\\n        return 1\\n    else:\\n        return 0\\n\\n\\nX_train[\\\"Single_M\\\"] = X_train.apply(lambda X_train: Single_M(X_train), axis=1)\\nX_val[\\\"Single_M\\\"] = X_val.apply(lambda X_val: Single_M(X_val), axis=1)\\nX_test[\\\"Single_M\\\"] = X_test.apply(lambda X_test: Single_M(X_test), axis=1)\\n\\n\\ndef Divorced_M(df):\\n    if df[\\\"Marital_Status\\\"] == \\\"Divorced\\\" and df[\\\"Gender\\\"] == \\\"Male\\\":\\n        return 1\\n    else:\\n        return 0\\n\\n\\nX_train[\\\"Divorced_M\\\"] = X_train.apply(lambda X_train: Divorced_M(X_train), axis=1)\\nX_val[\\\"Divorced_M\\\"] = X_val.apply(lambda X_val: Divorced_M(X_val), axis=1)\\nX_test[\\\"Divorced_M\\\"] = X_test.apply(lambda X_test: Divorced_M(X_test), axis=1)\";\n",
       "                var nbb_cells = Jupyter.notebook.get_cells();\n",
       "                for (var i = 0; i < nbb_cells.length; ++i) {\n",
       "                    if (nbb_cells[i].input_prompt_number == nbb_cell_id) {\n",
       "                        if (nbb_cells[i].get_text() == nbb_unformatted_code) {\n",
       "                             nbb_cells[i].set_text(nbb_formatted_code);\n",
       "                        }\n",
       "                        break;\n",
       "                    }\n",
       "                }\n",
       "            }, 500);\n",
       "            "
      ],
      "text/plain": [
       "<IPython.core.display.Javascript object>"
      ]
     },
     "metadata": {},
     "output_type": "display_data"
    }
   ],
   "source": [
    "def Married_M(df):\n",
    "    if df[\"Marital_Status\"] == \"Married\" and df[\"Gender\"] == \"Male\":\n",
    "        return 1\n",
    "    else:\n",
    "        return 0\n",
    "\n",
    "\n",
    "X_train[\"Married_M\"] = X_train.apply(lambda X_train: Married_M(X_train), axis=1)\n",
    "X_val[\"Married_M\"] = X_val.apply(lambda X_val: Married_M(X_val), axis=1)\n",
    "X_test[\"Married_M\"] = X_test.apply(lambda X_test: Married_M(X_test), axis=1)\n",
    "\n",
    "\n",
    "def Single_M(df):\n",
    "    if df[\"Marital_Status\"] == \"Single\" and df[\"Gender\"] == \"Male\":\n",
    "        return 1\n",
    "    else:\n",
    "        return 0\n",
    "\n",
    "\n",
    "X_train[\"Single_M\"] = X_train.apply(lambda X_train: Single_M(X_train), axis=1)\n",
    "X_val[\"Single_M\"] = X_val.apply(lambda X_val: Single_M(X_val), axis=1)\n",
    "X_test[\"Single_M\"] = X_test.apply(lambda X_test: Single_M(X_test), axis=1)\n",
    "\n",
    "\n",
    "def Divorced_M(df):\n",
    "    if df[\"Marital_Status\"] == \"Divorced\" and df[\"Gender\"] == \"Male\":\n",
    "        return 1\n",
    "    else:\n",
    "        return 0\n",
    "\n",
    "\n",
    "X_train[\"Divorced_M\"] = X_train.apply(lambda X_train: Divorced_M(X_train), axis=1)\n",
    "X_val[\"Divorced_M\"] = X_val.apply(lambda X_val: Divorced_M(X_val), axis=1)\n",
    "X_test[\"Divorced_M\"] = X_test.apply(lambda X_test: Divorced_M(X_test), axis=1)"
   ]
  },
  {
   "cell_type": "code",
   "execution_count": 113,
   "id": "40e6fa73",
   "metadata": {},
   "outputs": [
    {
     "name": "stdout",
     "output_type": "stream",
     "text": [
      "(6756, 20) (2252, 20) (2252, 20)\n"
     ]
    },
    {
     "data": {
      "application/javascript": [
       "\n",
       "            setTimeout(function() {\n",
       "                var nbb_cell_id = 113;\n",
       "                var nbb_unformatted_code = \"print(X_train.shape, X_val.shape, X_test.shape)\";\n",
       "                var nbb_formatted_code = \"print(X_train.shape, X_val.shape, X_test.shape)\";\n",
       "                var nbb_cells = Jupyter.notebook.get_cells();\n",
       "                for (var i = 0; i < nbb_cells.length; ++i) {\n",
       "                    if (nbb_cells[i].input_prompt_number == nbb_cell_id) {\n",
       "                        if (nbb_cells[i].get_text() == nbb_unformatted_code) {\n",
       "                             nbb_cells[i].set_text(nbb_formatted_code);\n",
       "                        }\n",
       "                        break;\n",
       "                    }\n",
       "                }\n",
       "            }, 500);\n",
       "            "
      ],
      "text/plain": [
       "<IPython.core.display.Javascript object>"
      ]
     },
     "metadata": {},
     "output_type": "display_data"
    }
   ],
   "source": [
    "print(X_train.shape, X_val.shape, X_test.shape)"
   ]
  },
  {
   "cell_type": "markdown",
   "id": "c576a02c",
   "metadata": {},
   "source": [
    "### Payment and Gender"
   ]
  },
  {
   "cell_type": "code",
   "execution_count": 114,
   "id": "89d37579",
   "metadata": {},
   "outputs": [
    {
     "data": {
      "application/javascript": [
       "\n",
       "            setTimeout(function() {\n",
       "                var nbb_cell_id = 114;\n",
       "                var nbb_unformatted_code = \"def COD_M(df):\\n    if df[\\\"Payment\\\"] == \\\"Cash on Delivery\\\" and df[\\\"Gender\\\"] == \\\"Male\\\":\\n        return 1\\n    else:\\n        return 0\\n\\n\\nX_train[\\\"COD_M\\\"] = X_train.apply(lambda X_train: COD_M(X_train), axis=1)\\nX_val[\\\"COD_M\\\"] = X_val.apply(lambda X_val: COD_M(X_val), axis=1)\\nX_test[\\\"COD_M\\\"] = X_test.apply(lambda X_test: COD_M(X_test), axis=1)\\n\\n\\ndef CC_M(df):\\n    if df[\\\"Payment\\\"] == \\\"Credit Card\\\" and df[\\\"Gender\\\"] == \\\"Male\\\":\\n        return 1\\n    else:\\n        return 0\\n\\n\\nX_train[\\\"CC_M\\\"] = X_train.apply(lambda X_train: CC_M(X_train), axis=1)\\nX_val[\\\"CC_M\\\"] = X_val.apply(lambda X_val: CC_M(X_val), axis=1)\\nX_test[\\\"CC_M\\\"] = X_test.apply(lambda X_test: CC_M(X_test), axis=1)\\n\\n\\ndef DC_M(df):\\n    if df[\\\"Payment\\\"] == \\\"Debit Card\\\" and df[\\\"Gender\\\"] == \\\"Male\\\":\\n        return 1\\n    else:\\n        return 0\\n\\n\\nX_train[\\\"DC_M\\\"] = X_train.apply(lambda X_train: DC_M(X_train), axis=1)\\nX_val[\\\"DC_M\\\"] = X_val.apply(lambda X_val: DC_M(X_val), axis=1)\\nX_test[\\\"DC_M\\\"] = X_test.apply(lambda X_test: DC_M(X_test), axis=1)\\n\\n\\ndef Ewallet_M(df):\\n    if df[\\\"Payment\\\"] == \\\"E wallet\\\" and df[\\\"Gender\\\"] == \\\"Male\\\":\\n        return 1\\n    else:\\n        return 0\\n\\n\\nX_train[\\\"Ewallet_M\\\"] = X_train.apply(lambda X_train: Ewallet_M(X_train), axis=1)\\nX_val[\\\"Ewallet_M\\\"] = X_val.apply(lambda X_val: Ewallet_M(X_val), axis=1)\\nX_test[\\\"Ewallet_M\\\"] = X_test.apply(lambda X_test: Ewallet_M(X_test), axis=1)\\n\\n\\ndef UPI_M(df):\\n    if df[\\\"Payment\\\"] == \\\"UPI\\\" and df[\\\"Gender\\\"] == \\\"Male\\\":\\n        return 1\\n    else:\\n        return 0\\n\\n\\nX_train[\\\"UPI_M\\\"] = X_train.apply(lambda X_train: UPI_M(X_train), axis=1)\\nX_val[\\\"UPI_M\\\"] = X_val.apply(lambda X_val: UPI_M(X_val), axis=1)\\nX_test[\\\"UPI_M\\\"] = X_test.apply(lambda X_test: UPI_M(X_test), axis=1)\";\n",
       "                var nbb_formatted_code = \"def COD_M(df):\\n    if df[\\\"Payment\\\"] == \\\"Cash on Delivery\\\" and df[\\\"Gender\\\"] == \\\"Male\\\":\\n        return 1\\n    else:\\n        return 0\\n\\n\\nX_train[\\\"COD_M\\\"] = X_train.apply(lambda X_train: COD_M(X_train), axis=1)\\nX_val[\\\"COD_M\\\"] = X_val.apply(lambda X_val: COD_M(X_val), axis=1)\\nX_test[\\\"COD_M\\\"] = X_test.apply(lambda X_test: COD_M(X_test), axis=1)\\n\\n\\ndef CC_M(df):\\n    if df[\\\"Payment\\\"] == \\\"Credit Card\\\" and df[\\\"Gender\\\"] == \\\"Male\\\":\\n        return 1\\n    else:\\n        return 0\\n\\n\\nX_train[\\\"CC_M\\\"] = X_train.apply(lambda X_train: CC_M(X_train), axis=1)\\nX_val[\\\"CC_M\\\"] = X_val.apply(lambda X_val: CC_M(X_val), axis=1)\\nX_test[\\\"CC_M\\\"] = X_test.apply(lambda X_test: CC_M(X_test), axis=1)\\n\\n\\ndef DC_M(df):\\n    if df[\\\"Payment\\\"] == \\\"Debit Card\\\" and df[\\\"Gender\\\"] == \\\"Male\\\":\\n        return 1\\n    else:\\n        return 0\\n\\n\\nX_train[\\\"DC_M\\\"] = X_train.apply(lambda X_train: DC_M(X_train), axis=1)\\nX_val[\\\"DC_M\\\"] = X_val.apply(lambda X_val: DC_M(X_val), axis=1)\\nX_test[\\\"DC_M\\\"] = X_test.apply(lambda X_test: DC_M(X_test), axis=1)\\n\\n\\ndef Ewallet_M(df):\\n    if df[\\\"Payment\\\"] == \\\"E wallet\\\" and df[\\\"Gender\\\"] == \\\"Male\\\":\\n        return 1\\n    else:\\n        return 0\\n\\n\\nX_train[\\\"Ewallet_M\\\"] = X_train.apply(lambda X_train: Ewallet_M(X_train), axis=1)\\nX_val[\\\"Ewallet_M\\\"] = X_val.apply(lambda X_val: Ewallet_M(X_val), axis=1)\\nX_test[\\\"Ewallet_M\\\"] = X_test.apply(lambda X_test: Ewallet_M(X_test), axis=1)\\n\\n\\ndef UPI_M(df):\\n    if df[\\\"Payment\\\"] == \\\"UPI\\\" and df[\\\"Gender\\\"] == \\\"Male\\\":\\n        return 1\\n    else:\\n        return 0\\n\\n\\nX_train[\\\"UPI_M\\\"] = X_train.apply(lambda X_train: UPI_M(X_train), axis=1)\\nX_val[\\\"UPI_M\\\"] = X_val.apply(lambda X_val: UPI_M(X_val), axis=1)\\nX_test[\\\"UPI_M\\\"] = X_test.apply(lambda X_test: UPI_M(X_test), axis=1)\";\n",
       "                var nbb_cells = Jupyter.notebook.get_cells();\n",
       "                for (var i = 0; i < nbb_cells.length; ++i) {\n",
       "                    if (nbb_cells[i].input_prompt_number == nbb_cell_id) {\n",
       "                        if (nbb_cells[i].get_text() == nbb_unformatted_code) {\n",
       "                             nbb_cells[i].set_text(nbb_formatted_code);\n",
       "                        }\n",
       "                        break;\n",
       "                    }\n",
       "                }\n",
       "            }, 500);\n",
       "            "
      ],
      "text/plain": [
       "<IPython.core.display.Javascript object>"
      ]
     },
     "metadata": {},
     "output_type": "display_data"
    }
   ],
   "source": [
    "def COD_M(df):\n",
    "    if df[\"Payment\"] == \"Cash on Delivery\" and df[\"Gender\"] == \"Male\":\n",
    "        return 1\n",
    "    else:\n",
    "        return 0\n",
    "\n",
    "\n",
    "X_train[\"COD_M\"] = X_train.apply(lambda X_train: COD_M(X_train), axis=1)\n",
    "X_val[\"COD_M\"] = X_val.apply(lambda X_val: COD_M(X_val), axis=1)\n",
    "X_test[\"COD_M\"] = X_test.apply(lambda X_test: COD_M(X_test), axis=1)\n",
    "\n",
    "\n",
    "def CC_M(df):\n",
    "    if df[\"Payment\"] == \"Credit Card\" and df[\"Gender\"] == \"Male\":\n",
    "        return 1\n",
    "    else:\n",
    "        return 0\n",
    "\n",
    "\n",
    "X_train[\"CC_M\"] = X_train.apply(lambda X_train: CC_M(X_train), axis=1)\n",
    "X_val[\"CC_M\"] = X_val.apply(lambda X_val: CC_M(X_val), axis=1)\n",
    "X_test[\"CC_M\"] = X_test.apply(lambda X_test: CC_M(X_test), axis=1)\n",
    "\n",
    "\n",
    "def DC_M(df):\n",
    "    if df[\"Payment\"] == \"Debit Card\" and df[\"Gender\"] == \"Male\":\n",
    "        return 1\n",
    "    else:\n",
    "        return 0\n",
    "\n",
    "\n",
    "X_train[\"DC_M\"] = X_train.apply(lambda X_train: DC_M(X_train), axis=1)\n",
    "X_val[\"DC_M\"] = X_val.apply(lambda X_val: DC_M(X_val), axis=1)\n",
    "X_test[\"DC_M\"] = X_test.apply(lambda X_test: DC_M(X_test), axis=1)\n",
    "\n",
    "\n",
    "def Ewallet_M(df):\n",
    "    if df[\"Payment\"] == \"E wallet\" and df[\"Gender\"] == \"Male\":\n",
    "        return 1\n",
    "    else:\n",
    "        return 0\n",
    "\n",
    "\n",
    "X_train[\"Ewallet_M\"] = X_train.apply(lambda X_train: Ewallet_M(X_train), axis=1)\n",
    "X_val[\"Ewallet_M\"] = X_val.apply(lambda X_val: Ewallet_M(X_val), axis=1)\n",
    "X_test[\"Ewallet_M\"] = X_test.apply(lambda X_test: Ewallet_M(X_test), axis=1)\n",
    "\n",
    "\n",
    "def UPI_M(df):\n",
    "    if df[\"Payment\"] == \"UPI\" and df[\"Gender\"] == \"Male\":\n",
    "        return 1\n",
    "    else:\n",
    "        return 0\n",
    "\n",
    "\n",
    "X_train[\"UPI_M\"] = X_train.apply(lambda X_train: UPI_M(X_train), axis=1)\n",
    "X_val[\"UPI_M\"] = X_val.apply(lambda X_val: UPI_M(X_val), axis=1)\n",
    "X_test[\"UPI_M\"] = X_test.apply(lambda X_test: UPI_M(X_test), axis=1)"
   ]
  },
  {
   "cell_type": "code",
   "execution_count": 115,
   "id": "d273f936",
   "metadata": {},
   "outputs": [
    {
     "name": "stdout",
     "output_type": "stream",
     "text": [
      "(6756, 25) (2252, 25) (2252, 25)\n"
     ]
    },
    {
     "data": {
      "application/javascript": [
       "\n",
       "            setTimeout(function() {\n",
       "                var nbb_cell_id = 115;\n",
       "                var nbb_unformatted_code = \"print(X_train.shape, X_val.shape, X_test.shape)\";\n",
       "                var nbb_formatted_code = \"print(X_train.shape, X_val.shape, X_test.shape)\";\n",
       "                var nbb_cells = Jupyter.notebook.get_cells();\n",
       "                for (var i = 0; i < nbb_cells.length; ++i) {\n",
       "                    if (nbb_cells[i].input_prompt_number == nbb_cell_id) {\n",
       "                        if (nbb_cells[i].get_text() == nbb_unformatted_code) {\n",
       "                             nbb_cells[i].set_text(nbb_formatted_code);\n",
       "                        }\n",
       "                        break;\n",
       "                    }\n",
       "                }\n",
       "            }, 500);\n",
       "            "
      ],
      "text/plain": [
       "<IPython.core.display.Javascript object>"
      ]
     },
     "metadata": {},
     "output_type": "display_data"
    }
   ],
   "source": [
    "print(X_train.shape, X_val.shape, X_test.shape)"
   ]
  },
  {
   "cell_type": "markdown",
   "id": "02420115",
   "metadata": {},
   "source": [
    "### Login_device and Gender"
   ]
  },
  {
   "cell_type": "code",
   "execution_count": 116,
   "id": "2ee8a93a",
   "metadata": {},
   "outputs": [
    {
     "data": {
      "application/javascript": [
       "\n",
       "            setTimeout(function() {\n",
       "                var nbb_cell_id = 116;\n",
       "                var nbb_unformatted_code = \"def Computer_M(df):\\n    if df[\\\"Login_device\\\"] == \\\"Computer\\\" and df[\\\"Gender\\\"] == \\\"Male\\\":\\n        return 1\\n    else:\\n        return 0\\n\\n\\nX_train[\\\"Computer_M\\\"] = X_train.apply(lambda X_train: Computer_M(X_train), axis=1)\\nX_val[\\\"Computer_M\\\"] = X_val.apply(lambda X_val: Computer_M(X_val), axis=1)\\nX_test[\\\"Computer_M\\\"] = X_test.apply(lambda X_test: Computer_M(X_test), axis=1)\\n\\n\\ndef Mobile_M(df):\\n    if df[\\\"Login_device\\\"] == \\\"Mobile\\\" and df[\\\"Gender\\\"] == \\\"Male\\\":\\n        return 1\\n    else:\\n        return 0\\n\\n\\nX_train[\\\"Mobile_M\\\"] = X_train.apply(lambda X_train: Mobile_M(X_train), axis=1)\\nX_val[\\\"Mobile_M\\\"] = X_val.apply(lambda X_val: Mobile_M(X_val), axis=1)\\nX_test[\\\"Mobile_M\\\"] = X_test.apply(lambda X_test: Mobile_M(X_test), axis=1)\\n\\n\\ndef Other_device_M(df):\\n    if df[\\\"Login_device\\\"] == \\\"Other\\\" and df[\\\"Gender\\\"] == \\\"Male\\\":\\n        return 1\\n    else:\\n        return 0\\n\\n\\nX_train[\\\"Other_device_M\\\"] = X_train.apply(\\n    lambda X_train: Other_device_M(X_train), axis=1\\n)\\nX_val[\\\"Other_device_M\\\"] = X_val.apply(lambda X_val: Other_device_M(X_val), axis=1)\\nX_test[\\\"Other_device_M\\\"] = X_test.apply(lambda X_test: Other_device_M(X_test), axis=1)\";\n",
       "                var nbb_formatted_code = \"def Computer_M(df):\\n    if df[\\\"Login_device\\\"] == \\\"Computer\\\" and df[\\\"Gender\\\"] == \\\"Male\\\":\\n        return 1\\n    else:\\n        return 0\\n\\n\\nX_train[\\\"Computer_M\\\"] = X_train.apply(lambda X_train: Computer_M(X_train), axis=1)\\nX_val[\\\"Computer_M\\\"] = X_val.apply(lambda X_val: Computer_M(X_val), axis=1)\\nX_test[\\\"Computer_M\\\"] = X_test.apply(lambda X_test: Computer_M(X_test), axis=1)\\n\\n\\ndef Mobile_M(df):\\n    if df[\\\"Login_device\\\"] == \\\"Mobile\\\" and df[\\\"Gender\\\"] == \\\"Male\\\":\\n        return 1\\n    else:\\n        return 0\\n\\n\\nX_train[\\\"Mobile_M\\\"] = X_train.apply(lambda X_train: Mobile_M(X_train), axis=1)\\nX_val[\\\"Mobile_M\\\"] = X_val.apply(lambda X_val: Mobile_M(X_val), axis=1)\\nX_test[\\\"Mobile_M\\\"] = X_test.apply(lambda X_test: Mobile_M(X_test), axis=1)\\n\\n\\ndef Other_device_M(df):\\n    if df[\\\"Login_device\\\"] == \\\"Other\\\" and df[\\\"Gender\\\"] == \\\"Male\\\":\\n        return 1\\n    else:\\n        return 0\\n\\n\\nX_train[\\\"Other_device_M\\\"] = X_train.apply(\\n    lambda X_train: Other_device_M(X_train), axis=1\\n)\\nX_val[\\\"Other_device_M\\\"] = X_val.apply(lambda X_val: Other_device_M(X_val), axis=1)\\nX_test[\\\"Other_device_M\\\"] = X_test.apply(lambda X_test: Other_device_M(X_test), axis=1)\";\n",
       "                var nbb_cells = Jupyter.notebook.get_cells();\n",
       "                for (var i = 0; i < nbb_cells.length; ++i) {\n",
       "                    if (nbb_cells[i].input_prompt_number == nbb_cell_id) {\n",
       "                        if (nbb_cells[i].get_text() == nbb_unformatted_code) {\n",
       "                             nbb_cells[i].set_text(nbb_formatted_code);\n",
       "                        }\n",
       "                        break;\n",
       "                    }\n",
       "                }\n",
       "            }, 500);\n",
       "            "
      ],
      "text/plain": [
       "<IPython.core.display.Javascript object>"
      ]
     },
     "metadata": {},
     "output_type": "display_data"
    }
   ],
   "source": [
    "def Computer_M(df):\n",
    "    if df[\"Login_device\"] == \"Computer\" and df[\"Gender\"] == \"Male\":\n",
    "        return 1\n",
    "    else:\n",
    "        return 0\n",
    "\n",
    "\n",
    "X_train[\"Computer_M\"] = X_train.apply(lambda X_train: Computer_M(X_train), axis=1)\n",
    "X_val[\"Computer_M\"] = X_val.apply(lambda X_val: Computer_M(X_val), axis=1)\n",
    "X_test[\"Computer_M\"] = X_test.apply(lambda X_test: Computer_M(X_test), axis=1)\n",
    "\n",
    "\n",
    "def Mobile_M(df):\n",
    "    if df[\"Login_device\"] == \"Mobile\" and df[\"Gender\"] == \"Male\":\n",
    "        return 1\n",
    "    else:\n",
    "        return 0\n",
    "\n",
    "\n",
    "X_train[\"Mobile_M\"] = X_train.apply(lambda X_train: Mobile_M(X_train), axis=1)\n",
    "X_val[\"Mobile_M\"] = X_val.apply(lambda X_val: Mobile_M(X_val), axis=1)\n",
    "X_test[\"Mobile_M\"] = X_test.apply(lambda X_test: Mobile_M(X_test), axis=1)\n",
    "\n",
    "\n",
    "def Other_device_M(df):\n",
    "    if df[\"Login_device\"] == \"Other\" and df[\"Gender\"] == \"Male\":\n",
    "        return 1\n",
    "    else:\n",
    "        return 0\n",
    "\n",
    "\n",
    "X_train[\"Other_device_M\"] = X_train.apply(\n",
    "    lambda X_train: Other_device_M(X_train), axis=1\n",
    ")\n",
    "X_val[\"Other_device_M\"] = X_val.apply(lambda X_val: Other_device_M(X_val), axis=1)\n",
    "X_test[\"Other_device_M\"] = X_test.apply(lambda X_test: Other_device_M(X_test), axis=1)"
   ]
  },
  {
   "cell_type": "code",
   "execution_count": 117,
   "id": "99bc0712",
   "metadata": {},
   "outputs": [
    {
     "name": "stdout",
     "output_type": "stream",
     "text": [
      "(6756, 28) (2252, 28) (2252, 28)\n"
     ]
    },
    {
     "data": {
      "application/javascript": [
       "\n",
       "            setTimeout(function() {\n",
       "                var nbb_cell_id = 117;\n",
       "                var nbb_unformatted_code = \"print(X_train.shape, X_val.shape, X_test.shape)\";\n",
       "                var nbb_formatted_code = \"print(X_train.shape, X_val.shape, X_test.shape)\";\n",
       "                var nbb_cells = Jupyter.notebook.get_cells();\n",
       "                for (var i = 0; i < nbb_cells.length; ++i) {\n",
       "                    if (nbb_cells[i].input_prompt_number == nbb_cell_id) {\n",
       "                        if (nbb_cells[i].get_text() == nbb_unformatted_code) {\n",
       "                             nbb_cells[i].set_text(nbb_formatted_code);\n",
       "                        }\n",
       "                        break;\n",
       "                    }\n",
       "                }\n",
       "            }, 500);\n",
       "            "
      ],
      "text/plain": [
       "<IPython.core.display.Javascript object>"
      ]
     },
     "metadata": {},
     "output_type": "display_data"
    }
   ],
   "source": [
    "print(X_train.shape, X_val.shape, X_test.shape)"
   ]
  },
  {
   "cell_type": "markdown",
   "id": "1b26ffd9",
   "metadata": {},
   "source": [
    "### Ratio Variable"
   ]
  },
  {
   "cell_type": "markdown",
   "id": "74f85778",
   "metadata": {},
   "source": [
    "### Account_user_count and Service_Score"
   ]
  },
  {
   "cell_type": "code",
   "execution_count": 118,
   "id": "e1b7643d",
   "metadata": {},
   "outputs": [
    {
     "data": {
      "application/javascript": [
       "\n",
       "            setTimeout(function() {\n",
       "                var nbb_cell_id = 118;\n",
       "                var nbb_unformatted_code = \"def user_count_ss(df):\\n    df[\\\"user_count_ss\\\"] = (df[\\\"Account_user_count\\\"] + 1) / (df[\\\"Service_Score\\\"] + 1)\\n    return df[\\\"user_count_ss\\\"]\\n\\n\\nX_train[\\\"user_count_ss\\\"] = X_train.apply(lambda X_train: user_count_ss(X_train), axis=1)\\nX_val[\\\"user_count_ss\\\"] = X_val.apply(lambda X_val: user_count_ss(X_val), axis=1)\\nX_test[\\\"user_count_ss\\\"] = X_test.apply(lambda X_test: user_count_ss(X_test), axis=1)\";\n",
       "                var nbb_formatted_code = \"def user_count_ss(df):\\n    df[\\\"user_count_ss\\\"] = (df[\\\"Account_user_count\\\"] + 1) / (df[\\\"Service_Score\\\"] + 1)\\n    return df[\\\"user_count_ss\\\"]\\n\\n\\nX_train[\\\"user_count_ss\\\"] = X_train.apply(lambda X_train: user_count_ss(X_train), axis=1)\\nX_val[\\\"user_count_ss\\\"] = X_val.apply(lambda X_val: user_count_ss(X_val), axis=1)\\nX_test[\\\"user_count_ss\\\"] = X_test.apply(lambda X_test: user_count_ss(X_test), axis=1)\";\n",
       "                var nbb_cells = Jupyter.notebook.get_cells();\n",
       "                for (var i = 0; i < nbb_cells.length; ++i) {\n",
       "                    if (nbb_cells[i].input_prompt_number == nbb_cell_id) {\n",
       "                        if (nbb_cells[i].get_text() == nbb_unformatted_code) {\n",
       "                             nbb_cells[i].set_text(nbb_formatted_code);\n",
       "                        }\n",
       "                        break;\n",
       "                    }\n",
       "                }\n",
       "            }, 500);\n",
       "            "
      ],
      "text/plain": [
       "<IPython.core.display.Javascript object>"
      ]
     },
     "metadata": {},
     "output_type": "display_data"
    }
   ],
   "source": [
    "def user_count_ss(df):\n",
    "    df[\"user_count_ss\"] = (df[\"Account_user_count\"] + 1) / (df[\"Service_Score\"] + 1)\n",
    "    return df[\"user_count_ss\"]\n",
    "\n",
    "\n",
    "X_train[\"user_count_ss\"] = X_train.apply(lambda X_train: user_count_ss(X_train), axis=1)\n",
    "X_val[\"user_count_ss\"] = X_val.apply(lambda X_val: user_count_ss(X_val), axis=1)\n",
    "X_test[\"user_count_ss\"] = X_test.apply(lambda X_test: user_count_ss(X_test), axis=1)"
   ]
  },
  {
   "cell_type": "code",
   "execution_count": 119,
   "id": "b9a46744",
   "metadata": {},
   "outputs": [
    {
     "name": "stdout",
     "output_type": "stream",
     "text": [
      "(6756, 29) (2252, 29) (2252, 29)\n"
     ]
    },
    {
     "data": {
      "application/javascript": [
       "\n",
       "            setTimeout(function() {\n",
       "                var nbb_cell_id = 119;\n",
       "                var nbb_unformatted_code = \"print(X_train.shape, X_val.shape, X_test.shape)\";\n",
       "                var nbb_formatted_code = \"print(X_train.shape, X_val.shape, X_test.shape)\";\n",
       "                var nbb_cells = Jupyter.notebook.get_cells();\n",
       "                for (var i = 0; i < nbb_cells.length; ++i) {\n",
       "                    if (nbb_cells[i].input_prompt_number == nbb_cell_id) {\n",
       "                        if (nbb_cells[i].get_text() == nbb_unformatted_code) {\n",
       "                             nbb_cells[i].set_text(nbb_formatted_code);\n",
       "                        }\n",
       "                        break;\n",
       "                    }\n",
       "                }\n",
       "            }, 500);\n",
       "            "
      ],
      "text/plain": [
       "<IPython.core.display.Javascript object>"
      ]
     },
     "metadata": {},
     "output_type": "display_data"
    }
   ],
   "source": [
    "print(X_train.shape, X_val.shape, X_test.shape)"
   ]
  },
  {
   "cell_type": "markdown",
   "id": "3e4b2909",
   "metadata": {},
   "source": [
    "- Train, validation and test sets now have 29 columns each"
   ]
  },
  {
   "cell_type": "markdown",
   "id": "59e4fd1f",
   "metadata": {},
   "source": [
    "## Feature Engineering"
   ]
  },
  {
   "cell_type": "code",
   "execution_count": 120,
   "id": "93f3173b",
   "metadata": {},
   "outputs": [
    {
     "data": {
      "application/javascript": [
       "\n",
       "            setTimeout(function() {\n",
       "                var nbb_cell_id = 120;\n",
       "                var nbb_unformatted_code = \"# Label encoding the features Payment, account_segment and Login_device\\n\\nle = LabelEncoder()\\n\\nX_train[\\\"Payment\\\"] = le.fit_transform(X_train[\\\"Payment\\\"])\\nX_val[\\\"Payment\\\"] = le.transform(X_val[\\\"Payment\\\"])\\nX_test[\\\"Payment\\\"] = le.transform(X_test[\\\"Payment\\\"])\\n\\nX_train[\\\"account_segment\\\"] = le.fit_transform(X_train[\\\"account_segment\\\"])\\nX_val[\\\"account_segment\\\"] = le.transform(X_val[\\\"account_segment\\\"])\\nX_test[\\\"account_segment\\\"] = le.transform(X_test[\\\"account_segment\\\"])\\n\\nX_train[\\\"Login_device\\\"] = le.fit_transform(X_train[\\\"Login_device\\\"])\\nX_val[\\\"Login_device\\\"] = le.transform(X_val[\\\"Login_device\\\"])\\nX_test[\\\"Login_device\\\"] = le.transform(X_test[\\\"Login_device\\\"])\";\n",
       "                var nbb_formatted_code = \"# Label encoding the features Payment, account_segment and Login_device\\n\\nle = LabelEncoder()\\n\\nX_train[\\\"Payment\\\"] = le.fit_transform(X_train[\\\"Payment\\\"])\\nX_val[\\\"Payment\\\"] = le.transform(X_val[\\\"Payment\\\"])\\nX_test[\\\"Payment\\\"] = le.transform(X_test[\\\"Payment\\\"])\\n\\nX_train[\\\"account_segment\\\"] = le.fit_transform(X_train[\\\"account_segment\\\"])\\nX_val[\\\"account_segment\\\"] = le.transform(X_val[\\\"account_segment\\\"])\\nX_test[\\\"account_segment\\\"] = le.transform(X_test[\\\"account_segment\\\"])\\n\\nX_train[\\\"Login_device\\\"] = le.fit_transform(X_train[\\\"Login_device\\\"])\\nX_val[\\\"Login_device\\\"] = le.transform(X_val[\\\"Login_device\\\"])\\nX_test[\\\"Login_device\\\"] = le.transform(X_test[\\\"Login_device\\\"])\";\n",
       "                var nbb_cells = Jupyter.notebook.get_cells();\n",
       "                for (var i = 0; i < nbb_cells.length; ++i) {\n",
       "                    if (nbb_cells[i].input_prompt_number == nbb_cell_id) {\n",
       "                        if (nbb_cells[i].get_text() == nbb_unformatted_code) {\n",
       "                             nbb_cells[i].set_text(nbb_formatted_code);\n",
       "                        }\n",
       "                        break;\n",
       "                    }\n",
       "                }\n",
       "            }, 500);\n",
       "            "
      ],
      "text/plain": [
       "<IPython.core.display.Javascript object>"
      ]
     },
     "metadata": {},
     "output_type": "display_data"
    }
   ],
   "source": [
    "# Label encoding the features Payment, account_segment and Login_device\n",
    "\n",
    "le = LabelEncoder()\n",
    "\n",
    "X_train[\"Payment\"] = le.fit_transform(X_train[\"Payment\"])\n",
    "X_val[\"Payment\"] = le.transform(X_val[\"Payment\"])\n",
    "X_test[\"Payment\"] = le.transform(X_test[\"Payment\"])\n",
    "\n",
    "X_train[\"account_segment\"] = le.fit_transform(X_train[\"account_segment\"])\n",
    "X_val[\"account_segment\"] = le.transform(X_val[\"account_segment\"])\n",
    "X_test[\"account_segment\"] = le.transform(X_test[\"account_segment\"])\n",
    "\n",
    "X_train[\"Login_device\"] = le.fit_transform(X_train[\"Login_device\"])\n",
    "X_val[\"Login_device\"] = le.transform(X_val[\"Login_device\"])\n",
    "X_test[\"Login_device\"] = le.transform(X_test[\"Login_device\"])"
   ]
  },
  {
   "cell_type": "code",
   "execution_count": 121,
   "id": "e4e2d924",
   "metadata": {},
   "outputs": [
    {
     "data": {
      "text/html": [
       "<div>\n",
       "<style scoped>\n",
       "    .dataframe tbody tr th:only-of-type {\n",
       "        vertical-align: middle;\n",
       "    }\n",
       "\n",
       "    .dataframe tbody tr th {\n",
       "        vertical-align: top;\n",
       "    }\n",
       "\n",
       "    .dataframe thead th {\n",
       "        text-align: right;\n",
       "    }\n",
       "</style>\n",
       "<table border=\"1\" class=\"dataframe\">\n",
       "  <thead>\n",
       "    <tr style=\"text-align: right;\">\n",
       "      <th></th>\n",
       "      <th>Tenure</th>\n",
       "      <th>City_Tier</th>\n",
       "      <th>CC_Contacted_LY</th>\n",
       "      <th>Payment</th>\n",
       "      <th>Gender</th>\n",
       "      <th>Service_Score</th>\n",
       "      <th>Account_user_count</th>\n",
       "      <th>account_segment</th>\n",
       "      <th>CC_Agent_Score</th>\n",
       "      <th>Marital_Status</th>\n",
       "      <th>rev_per_month</th>\n",
       "      <th>Complain_ly</th>\n",
       "      <th>rev_growth_yoy</th>\n",
       "      <th>coupon_used_for_payment</th>\n",
       "      <th>Day_Since_CC_connect</th>\n",
       "      <th>cashback</th>\n",
       "      <th>Login_device</th>\n",
       "      <th>Married_M</th>\n",
       "      <th>Single_M</th>\n",
       "      <th>Divorced_M</th>\n",
       "      <th>COD_M</th>\n",
       "      <th>CC_M</th>\n",
       "      <th>DC_M</th>\n",
       "      <th>Ewallet_M</th>\n",
       "      <th>UPI_M</th>\n",
       "      <th>Computer_M</th>\n",
       "      <th>Mobile_M</th>\n",
       "      <th>Other_device_M</th>\n",
       "      <th>user_count_ss</th>\n",
       "    </tr>\n",
       "  </thead>\n",
       "  <tbody>\n",
       "    <tr>\n",
       "      <th>4380</th>\n",
       "      <td>10.00</td>\n",
       "      <td>1.00</td>\n",
       "      <td>12.00</td>\n",
       "      <td>2</td>\n",
       "      <td>Male</td>\n",
       "      <td>4.00</td>\n",
       "      <td>4.00</td>\n",
       "      <td>3</td>\n",
       "      <td>4.00</td>\n",
       "      <td>Single</td>\n",
       "      <td>10.00</td>\n",
       "      <td>0.00</td>\n",
       "      <td>17.00</td>\n",
       "      <td>3.00</td>\n",
       "      <td>8.00</td>\n",
       "      <td>184.14</td>\n",
       "      <td>1</td>\n",
       "      <td>0</td>\n",
       "      <td>1</td>\n",
       "      <td>0</td>\n",
       "      <td>0</td>\n",
       "      <td>0</td>\n",
       "      <td>1</td>\n",
       "      <td>0</td>\n",
       "      <td>0</td>\n",
       "      <td>0</td>\n",
       "      <td>1</td>\n",
       "      <td>0</td>\n",
       "      <td>1.00</td>\n",
       "    </tr>\n",
       "    <tr>\n",
       "      <th>4221</th>\n",
       "      <td>12.00</td>\n",
       "      <td>1.00</td>\n",
       "      <td>36.00</td>\n",
       "      <td>2</td>\n",
       "      <td>Female</td>\n",
       "      <td>3.00</td>\n",
       "      <td>4.00</td>\n",
       "      <td>3</td>\n",
       "      <td>1.00</td>\n",
       "      <td>Single</td>\n",
       "      <td>3.00</td>\n",
       "      <td>0.00</td>\n",
       "      <td>12.00</td>\n",
       "      <td>7.00</td>\n",
       "      <td>4.80</td>\n",
       "      <td>149.06</td>\n",
       "      <td>0</td>\n",
       "      <td>0</td>\n",
       "      <td>0</td>\n",
       "      <td>0</td>\n",
       "      <td>0</td>\n",
       "      <td>0</td>\n",
       "      <td>0</td>\n",
       "      <td>0</td>\n",
       "      <td>0</td>\n",
       "      <td>0</td>\n",
       "      <td>0</td>\n",
       "      <td>0</td>\n",
       "      <td>1.25</td>\n",
       "    </tr>\n",
       "    <tr>\n",
       "      <th>4073</th>\n",
       "      <td>10.00</td>\n",
       "      <td>1.00</td>\n",
       "      <td>16.00</td>\n",
       "      <td>2</td>\n",
       "      <td>Male</td>\n",
       "      <td>4.00</td>\n",
       "      <td>2.00</td>\n",
       "      <td>2</td>\n",
       "      <td>4.00</td>\n",
       "      <td>Married</td>\n",
       "      <td>3.00</td>\n",
       "      <td>0.00</td>\n",
       "      <td>23.00</td>\n",
       "      <td>2.00</td>\n",
       "      <td>3.00</td>\n",
       "      <td>153.10</td>\n",
       "      <td>0</td>\n",
       "      <td>1</td>\n",
       "      <td>0</td>\n",
       "      <td>0</td>\n",
       "      <td>0</td>\n",
       "      <td>0</td>\n",
       "      <td>1</td>\n",
       "      <td>0</td>\n",
       "      <td>0</td>\n",
       "      <td>1</td>\n",
       "      <td>0</td>\n",
       "      <td>0</td>\n",
       "      <td>0.60</td>\n",
       "    </tr>\n",
       "    <tr>\n",
       "      <th>7246</th>\n",
       "      <td>10.00</td>\n",
       "      <td>1.00</td>\n",
       "      <td>40.00</td>\n",
       "      <td>2</td>\n",
       "      <td>Male</td>\n",
       "      <td>2.00</td>\n",
       "      <td>3.00</td>\n",
       "      <td>0</td>\n",
       "      <td>4.00</td>\n",
       "      <td>Married</td>\n",
       "      <td>6.00</td>\n",
       "      <td>1.00</td>\n",
       "      <td>14.00</td>\n",
       "      <td>4.00</td>\n",
       "      <td>9.00</td>\n",
       "      <td>218.49</td>\n",
       "      <td>0</td>\n",
       "      <td>1</td>\n",
       "      <td>0</td>\n",
       "      <td>0</td>\n",
       "      <td>0</td>\n",
       "      <td>0</td>\n",
       "      <td>1</td>\n",
       "      <td>0</td>\n",
       "      <td>0</td>\n",
       "      <td>1</td>\n",
       "      <td>0</td>\n",
       "      <td>0</td>\n",
       "      <td>1.33</td>\n",
       "    </tr>\n",
       "    <tr>\n",
       "      <th>6939</th>\n",
       "      <td>25.00</td>\n",
       "      <td>3.00</td>\n",
       "      <td>132.00</td>\n",
       "      <td>2</td>\n",
       "      <td>Male</td>\n",
       "      <td>2.00</td>\n",
       "      <td>3.00</td>\n",
       "      <td>2</td>\n",
       "      <td>1.00</td>\n",
       "      <td>Married</td>\n",
       "      <td>4.00</td>\n",
       "      <td>0.00</td>\n",
       "      <td>15.00</td>\n",
       "      <td>1.00</td>\n",
       "      <td>0.00</td>\n",
       "      <td>138.82</td>\n",
       "      <td>0</td>\n",
       "      <td>1</td>\n",
       "      <td>0</td>\n",
       "      <td>0</td>\n",
       "      <td>0</td>\n",
       "      <td>0</td>\n",
       "      <td>1</td>\n",
       "      <td>0</td>\n",
       "      <td>0</td>\n",
       "      <td>1</td>\n",
       "      <td>0</td>\n",
       "      <td>0</td>\n",
       "      <td>1.33</td>\n",
       "    </tr>\n",
       "  </tbody>\n",
       "</table>\n",
       "</div>"
      ],
      "text/plain": [
       "      Tenure  City_Tier  CC_Contacted_LY  Payment  Gender  Service_Score  \\\n",
       "4380   10.00       1.00            12.00        2    Male           4.00   \n",
       "4221   12.00       1.00            36.00        2  Female           3.00   \n",
       "4073   10.00       1.00            16.00        2    Male           4.00   \n",
       "7246   10.00       1.00            40.00        2    Male           2.00   \n",
       "6939   25.00       3.00           132.00        2    Male           2.00   \n",
       "\n",
       "      Account_user_count  account_segment  CC_Agent_Score Marital_Status  \\\n",
       "4380                4.00                3            4.00         Single   \n",
       "4221                4.00                3            1.00         Single   \n",
       "4073                2.00                2            4.00        Married   \n",
       "7246                3.00                0            4.00        Married   \n",
       "6939                3.00                2            1.00        Married   \n",
       "\n",
       "      rev_per_month  Complain_ly  rev_growth_yoy  coupon_used_for_payment  \\\n",
       "4380          10.00         0.00           17.00                     3.00   \n",
       "4221           3.00         0.00           12.00                     7.00   \n",
       "4073           3.00         0.00           23.00                     2.00   \n",
       "7246           6.00         1.00           14.00                     4.00   \n",
       "6939           4.00         0.00           15.00                     1.00   \n",
       "\n",
       "      Day_Since_CC_connect  cashback  Login_device  Married_M  Single_M  \\\n",
       "4380                  8.00    184.14             1          0         1   \n",
       "4221                  4.80    149.06             0          0         0   \n",
       "4073                  3.00    153.10             0          1         0   \n",
       "7246                  9.00    218.49             0          1         0   \n",
       "6939                  0.00    138.82             0          1         0   \n",
       "\n",
       "      Divorced_M  COD_M  CC_M  DC_M  Ewallet_M  UPI_M  Computer_M  Mobile_M  \\\n",
       "4380           0      0     0     1          0      0           0         1   \n",
       "4221           0      0     0     0          0      0           0         0   \n",
       "4073           0      0     0     1          0      0           1         0   \n",
       "7246           0      0     0     1          0      0           1         0   \n",
       "6939           0      0     0     1          0      0           1         0   \n",
       "\n",
       "      Other_device_M  user_count_ss  \n",
       "4380               0           1.00  \n",
       "4221               0           1.25  \n",
       "4073               0           0.60  \n",
       "7246               0           1.33  \n",
       "6939               0           1.33  "
      ]
     },
     "execution_count": 121,
     "metadata": {},
     "output_type": "execute_result"
    },
    {
     "data": {
      "application/javascript": [
       "\n",
       "            setTimeout(function() {\n",
       "                var nbb_cell_id = 121;\n",
       "                var nbb_unformatted_code = \"# Checking if the columns have been label encoded\\n\\nX_train.head()\";\n",
       "                var nbb_formatted_code = \"# Checking if the columns have been label encoded\\n\\nX_train.head()\";\n",
       "                var nbb_cells = Jupyter.notebook.get_cells();\n",
       "                for (var i = 0; i < nbb_cells.length; ++i) {\n",
       "                    if (nbb_cells[i].input_prompt_number == nbb_cell_id) {\n",
       "                        if (nbb_cells[i].get_text() == nbb_unformatted_code) {\n",
       "                             nbb_cells[i].set_text(nbb_formatted_code);\n",
       "                        }\n",
       "                        break;\n",
       "                    }\n",
       "                }\n",
       "            }, 500);\n",
       "            "
      ],
      "text/plain": [
       "<IPython.core.display.Javascript object>"
      ]
     },
     "metadata": {},
     "output_type": "display_data"
    }
   ],
   "source": [
    "# Checking if the columns have been label encoded\n",
    "\n",
    "X_train.head()"
   ]
  },
  {
   "cell_type": "code",
   "execution_count": 122,
   "id": "72c6afa4",
   "metadata": {},
   "outputs": [
    {
     "data": {
      "application/javascript": [
       "\n",
       "            setTimeout(function() {\n",
       "                var nbb_cell_id = 122;\n",
       "                var nbb_unformatted_code = \"# Creating dummy varibales for other categorical features\\n\\nX_train = pd.get_dummies(X_train, drop_first=True)\\nX_val = pd.get_dummies(X_val, drop_first=True)\\nX_test = pd.get_dummies(X_test, drop_first=True)\";\n",
       "                var nbb_formatted_code = \"# Creating dummy varibales for other categorical features\\n\\nX_train = pd.get_dummies(X_train, drop_first=True)\\nX_val = pd.get_dummies(X_val, drop_first=True)\\nX_test = pd.get_dummies(X_test, drop_first=True)\";\n",
       "                var nbb_cells = Jupyter.notebook.get_cells();\n",
       "                for (var i = 0; i < nbb_cells.length; ++i) {\n",
       "                    if (nbb_cells[i].input_prompt_number == nbb_cell_id) {\n",
       "                        if (nbb_cells[i].get_text() == nbb_unformatted_code) {\n",
       "                             nbb_cells[i].set_text(nbb_formatted_code);\n",
       "                        }\n",
       "                        break;\n",
       "                    }\n",
       "                }\n",
       "            }, 500);\n",
       "            "
      ],
      "text/plain": [
       "<IPython.core.display.Javascript object>"
      ]
     },
     "metadata": {},
     "output_type": "display_data"
    }
   ],
   "source": [
    "# Creating dummy varibales for other categorical features\n",
    "\n",
    "X_train = pd.get_dummies(X_train, drop_first=True)\n",
    "X_val = pd.get_dummies(X_val, drop_first=True)\n",
    "X_test = pd.get_dummies(X_test, drop_first=True)"
   ]
  },
  {
   "cell_type": "code",
   "execution_count": 123,
   "id": "985e72cd",
   "metadata": {},
   "outputs": [
    {
     "name": "stdout",
     "output_type": "stream",
     "text": [
      "(6756, 30) (2252, 30) (2252, 30)\n"
     ]
    },
    {
     "data": {
      "application/javascript": [
       "\n",
       "            setTimeout(function() {\n",
       "                var nbb_cell_id = 123;\n",
       "                var nbb_unformatted_code = \"# Checking the shape of data\\n\\nprint(X_train.shape, X_val.shape, X_test.shape)\";\n",
       "                var nbb_formatted_code = \"# Checking the shape of data\\n\\nprint(X_train.shape, X_val.shape, X_test.shape)\";\n",
       "                var nbb_cells = Jupyter.notebook.get_cells();\n",
       "                for (var i = 0; i < nbb_cells.length; ++i) {\n",
       "                    if (nbb_cells[i].input_prompt_number == nbb_cell_id) {\n",
       "                        if (nbb_cells[i].get_text() == nbb_unformatted_code) {\n",
       "                             nbb_cells[i].set_text(nbb_formatted_code);\n",
       "                        }\n",
       "                        break;\n",
       "                    }\n",
       "                }\n",
       "            }, 500);\n",
       "            "
      ],
      "text/plain": [
       "<IPython.core.display.Javascript object>"
      ]
     },
     "metadata": {},
     "output_type": "display_data"
    }
   ],
   "source": [
    "# Checking the shape of data\n",
    "\n",
    "print(X_train.shape, X_val.shape, X_test.shape)"
   ]
  },
  {
   "cell_type": "code",
   "execution_count": 124,
   "id": "40dc2b32",
   "metadata": {},
   "outputs": [
    {
     "data": {
      "text/html": [
       "<div>\n",
       "<style scoped>\n",
       "    .dataframe tbody tr th:only-of-type {\n",
       "        vertical-align: middle;\n",
       "    }\n",
       "\n",
       "    .dataframe tbody tr th {\n",
       "        vertical-align: top;\n",
       "    }\n",
       "\n",
       "    .dataframe thead th {\n",
       "        text-align: right;\n",
       "    }\n",
       "</style>\n",
       "<table border=\"1\" class=\"dataframe\">\n",
       "  <thead>\n",
       "    <tr style=\"text-align: right;\">\n",
       "      <th></th>\n",
       "      <th>Tenure</th>\n",
       "      <th>City_Tier</th>\n",
       "      <th>CC_Contacted_LY</th>\n",
       "      <th>Payment</th>\n",
       "      <th>Service_Score</th>\n",
       "      <th>Account_user_count</th>\n",
       "      <th>account_segment</th>\n",
       "      <th>CC_Agent_Score</th>\n",
       "      <th>rev_per_month</th>\n",
       "      <th>Complain_ly</th>\n",
       "      <th>rev_growth_yoy</th>\n",
       "      <th>coupon_used_for_payment</th>\n",
       "      <th>Day_Since_CC_connect</th>\n",
       "      <th>cashback</th>\n",
       "      <th>Login_device</th>\n",
       "      <th>Married_M</th>\n",
       "      <th>Single_M</th>\n",
       "      <th>Divorced_M</th>\n",
       "      <th>COD_M</th>\n",
       "      <th>CC_M</th>\n",
       "      <th>DC_M</th>\n",
       "      <th>Ewallet_M</th>\n",
       "      <th>UPI_M</th>\n",
       "      <th>Computer_M</th>\n",
       "      <th>Mobile_M</th>\n",
       "      <th>Other_device_M</th>\n",
       "      <th>user_count_ss</th>\n",
       "      <th>Gender_Male</th>\n",
       "      <th>Marital_Status_Married</th>\n",
       "      <th>Marital_Status_Single</th>\n",
       "    </tr>\n",
       "  </thead>\n",
       "  <tbody>\n",
       "    <tr>\n",
       "      <th>4380</th>\n",
       "      <td>10.00</td>\n",
       "      <td>1.00</td>\n",
       "      <td>12.00</td>\n",
       "      <td>2</td>\n",
       "      <td>4.00</td>\n",
       "      <td>4.00</td>\n",
       "      <td>3</td>\n",
       "      <td>4.00</td>\n",
       "      <td>10.00</td>\n",
       "      <td>0.00</td>\n",
       "      <td>17.00</td>\n",
       "      <td>3.00</td>\n",
       "      <td>8.00</td>\n",
       "      <td>184.14</td>\n",
       "      <td>1</td>\n",
       "      <td>0</td>\n",
       "      <td>1</td>\n",
       "      <td>0</td>\n",
       "      <td>0</td>\n",
       "      <td>0</td>\n",
       "      <td>1</td>\n",
       "      <td>0</td>\n",
       "      <td>0</td>\n",
       "      <td>0</td>\n",
       "      <td>1</td>\n",
       "      <td>0</td>\n",
       "      <td>1.00</td>\n",
       "      <td>1</td>\n",
       "      <td>0</td>\n",
       "      <td>1</td>\n",
       "    </tr>\n",
       "    <tr>\n",
       "      <th>4221</th>\n",
       "      <td>12.00</td>\n",
       "      <td>1.00</td>\n",
       "      <td>36.00</td>\n",
       "      <td>2</td>\n",
       "      <td>3.00</td>\n",
       "      <td>4.00</td>\n",
       "      <td>3</td>\n",
       "      <td>1.00</td>\n",
       "      <td>3.00</td>\n",
       "      <td>0.00</td>\n",
       "      <td>12.00</td>\n",
       "      <td>7.00</td>\n",
       "      <td>4.80</td>\n",
       "      <td>149.06</td>\n",
       "      <td>0</td>\n",
       "      <td>0</td>\n",
       "      <td>0</td>\n",
       "      <td>0</td>\n",
       "      <td>0</td>\n",
       "      <td>0</td>\n",
       "      <td>0</td>\n",
       "      <td>0</td>\n",
       "      <td>0</td>\n",
       "      <td>0</td>\n",
       "      <td>0</td>\n",
       "      <td>0</td>\n",
       "      <td>1.25</td>\n",
       "      <td>0</td>\n",
       "      <td>0</td>\n",
       "      <td>1</td>\n",
       "    </tr>\n",
       "    <tr>\n",
       "      <th>4073</th>\n",
       "      <td>10.00</td>\n",
       "      <td>1.00</td>\n",
       "      <td>16.00</td>\n",
       "      <td>2</td>\n",
       "      <td>4.00</td>\n",
       "      <td>2.00</td>\n",
       "      <td>2</td>\n",
       "      <td>4.00</td>\n",
       "      <td>3.00</td>\n",
       "      <td>0.00</td>\n",
       "      <td>23.00</td>\n",
       "      <td>2.00</td>\n",
       "      <td>3.00</td>\n",
       "      <td>153.10</td>\n",
       "      <td>0</td>\n",
       "      <td>1</td>\n",
       "      <td>0</td>\n",
       "      <td>0</td>\n",
       "      <td>0</td>\n",
       "      <td>0</td>\n",
       "      <td>1</td>\n",
       "      <td>0</td>\n",
       "      <td>0</td>\n",
       "      <td>1</td>\n",
       "      <td>0</td>\n",
       "      <td>0</td>\n",
       "      <td>0.60</td>\n",
       "      <td>1</td>\n",
       "      <td>1</td>\n",
       "      <td>0</td>\n",
       "    </tr>\n",
       "    <tr>\n",
       "      <th>7246</th>\n",
       "      <td>10.00</td>\n",
       "      <td>1.00</td>\n",
       "      <td>40.00</td>\n",
       "      <td>2</td>\n",
       "      <td>2.00</td>\n",
       "      <td>3.00</td>\n",
       "      <td>0</td>\n",
       "      <td>4.00</td>\n",
       "      <td>6.00</td>\n",
       "      <td>1.00</td>\n",
       "      <td>14.00</td>\n",
       "      <td>4.00</td>\n",
       "      <td>9.00</td>\n",
       "      <td>218.49</td>\n",
       "      <td>0</td>\n",
       "      <td>1</td>\n",
       "      <td>0</td>\n",
       "      <td>0</td>\n",
       "      <td>0</td>\n",
       "      <td>0</td>\n",
       "      <td>1</td>\n",
       "      <td>0</td>\n",
       "      <td>0</td>\n",
       "      <td>1</td>\n",
       "      <td>0</td>\n",
       "      <td>0</td>\n",
       "      <td>1.33</td>\n",
       "      <td>1</td>\n",
       "      <td>1</td>\n",
       "      <td>0</td>\n",
       "    </tr>\n",
       "    <tr>\n",
       "      <th>6939</th>\n",
       "      <td>25.00</td>\n",
       "      <td>3.00</td>\n",
       "      <td>132.00</td>\n",
       "      <td>2</td>\n",
       "      <td>2.00</td>\n",
       "      <td>3.00</td>\n",
       "      <td>2</td>\n",
       "      <td>1.00</td>\n",
       "      <td>4.00</td>\n",
       "      <td>0.00</td>\n",
       "      <td>15.00</td>\n",
       "      <td>1.00</td>\n",
       "      <td>0.00</td>\n",
       "      <td>138.82</td>\n",
       "      <td>0</td>\n",
       "      <td>1</td>\n",
       "      <td>0</td>\n",
       "      <td>0</td>\n",
       "      <td>0</td>\n",
       "      <td>0</td>\n",
       "      <td>1</td>\n",
       "      <td>0</td>\n",
       "      <td>0</td>\n",
       "      <td>1</td>\n",
       "      <td>0</td>\n",
       "      <td>0</td>\n",
       "      <td>1.33</td>\n",
       "      <td>1</td>\n",
       "      <td>1</td>\n",
       "      <td>0</td>\n",
       "    </tr>\n",
       "  </tbody>\n",
       "</table>\n",
       "</div>"
      ],
      "text/plain": [
       "      Tenure  City_Tier  CC_Contacted_LY  Payment  Service_Score  \\\n",
       "4380   10.00       1.00            12.00        2           4.00   \n",
       "4221   12.00       1.00            36.00        2           3.00   \n",
       "4073   10.00       1.00            16.00        2           4.00   \n",
       "7246   10.00       1.00            40.00        2           2.00   \n",
       "6939   25.00       3.00           132.00        2           2.00   \n",
       "\n",
       "      Account_user_count  account_segment  CC_Agent_Score  rev_per_month  \\\n",
       "4380                4.00                3            4.00          10.00   \n",
       "4221                4.00                3            1.00           3.00   \n",
       "4073                2.00                2            4.00           3.00   \n",
       "7246                3.00                0            4.00           6.00   \n",
       "6939                3.00                2            1.00           4.00   \n",
       "\n",
       "      Complain_ly  rev_growth_yoy  coupon_used_for_payment  \\\n",
       "4380         0.00           17.00                     3.00   \n",
       "4221         0.00           12.00                     7.00   \n",
       "4073         0.00           23.00                     2.00   \n",
       "7246         1.00           14.00                     4.00   \n",
       "6939         0.00           15.00                     1.00   \n",
       "\n",
       "      Day_Since_CC_connect  cashback  Login_device  Married_M  Single_M  \\\n",
       "4380                  8.00    184.14             1          0         1   \n",
       "4221                  4.80    149.06             0          0         0   \n",
       "4073                  3.00    153.10             0          1         0   \n",
       "7246                  9.00    218.49             0          1         0   \n",
       "6939                  0.00    138.82             0          1         0   \n",
       "\n",
       "      Divorced_M  COD_M  CC_M  DC_M  Ewallet_M  UPI_M  Computer_M  Mobile_M  \\\n",
       "4380           0      0     0     1          0      0           0         1   \n",
       "4221           0      0     0     0          0      0           0         0   \n",
       "4073           0      0     0     1          0      0           1         0   \n",
       "7246           0      0     0     1          0      0           1         0   \n",
       "6939           0      0     0     1          0      0           1         0   \n",
       "\n",
       "      Other_device_M  user_count_ss  Gender_Male  Marital_Status_Married  \\\n",
       "4380               0           1.00            1                       0   \n",
       "4221               0           1.25            0                       0   \n",
       "4073               0           0.60            1                       1   \n",
       "7246               0           1.33            1                       1   \n",
       "6939               0           1.33            1                       1   \n",
       "\n",
       "      Marital_Status_Single  \n",
       "4380                      1  \n",
       "4221                      1  \n",
       "4073                      0  \n",
       "7246                      0  \n",
       "6939                      0  "
      ]
     },
     "execution_count": 124,
     "metadata": {},
     "output_type": "execute_result"
    },
    {
     "data": {
      "application/javascript": [
       "\n",
       "            setTimeout(function() {\n",
       "                var nbb_cell_id = 124;\n",
       "                var nbb_unformatted_code = \"# Checking if the columns are properly encoded\\n\\nX_train.head()\";\n",
       "                var nbb_formatted_code = \"# Checking if the columns are properly encoded\\n\\nX_train.head()\";\n",
       "                var nbb_cells = Jupyter.notebook.get_cells();\n",
       "                for (var i = 0; i < nbb_cells.length; ++i) {\n",
       "                    if (nbb_cells[i].input_prompt_number == nbb_cell_id) {\n",
       "                        if (nbb_cells[i].get_text() == nbb_unformatted_code) {\n",
       "                             nbb_cells[i].set_text(nbb_formatted_code);\n",
       "                        }\n",
       "                        break;\n",
       "                    }\n",
       "                }\n",
       "            }, 500);\n",
       "            "
      ],
      "text/plain": [
       "<IPython.core.display.Javascript object>"
      ]
     },
     "metadata": {},
     "output_type": "display_data"
    }
   ],
   "source": [
    "# Checking if the columns are properly encoded\n",
    "\n",
    "X_train.head()"
   ]
  },
  {
   "cell_type": "code",
   "execution_count": 125,
   "id": "3e7bba0b",
   "metadata": {},
   "outputs": [
    {
     "data": {
      "text/html": [
       "<div>\n",
       "<style scoped>\n",
       "    .dataframe tbody tr th:only-of-type {\n",
       "        vertical-align: middle;\n",
       "    }\n",
       "\n",
       "    .dataframe tbody tr th {\n",
       "        vertical-align: top;\n",
       "    }\n",
       "\n",
       "    .dataframe thead th {\n",
       "        text-align: right;\n",
       "    }\n",
       "</style>\n",
       "<table border=\"1\" class=\"dataframe\">\n",
       "  <thead>\n",
       "    <tr style=\"text-align: right;\">\n",
       "      <th></th>\n",
       "      <th>Tenure</th>\n",
       "      <th>City_Tier</th>\n",
       "      <th>CC_Contacted_LY</th>\n",
       "      <th>Payment</th>\n",
       "      <th>Service_Score</th>\n",
       "      <th>Account_user_count</th>\n",
       "      <th>account_segment</th>\n",
       "      <th>CC_Agent_Score</th>\n",
       "      <th>rev_per_month</th>\n",
       "      <th>Complain_ly</th>\n",
       "      <th>rev_growth_yoy</th>\n",
       "      <th>coupon_used_for_payment</th>\n",
       "      <th>Day_Since_CC_connect</th>\n",
       "      <th>cashback</th>\n",
       "      <th>Login_device</th>\n",
       "      <th>Married_M</th>\n",
       "      <th>Single_M</th>\n",
       "      <th>Divorced_M</th>\n",
       "      <th>COD_M</th>\n",
       "      <th>CC_M</th>\n",
       "      <th>DC_M</th>\n",
       "      <th>Ewallet_M</th>\n",
       "      <th>UPI_M</th>\n",
       "      <th>Computer_M</th>\n",
       "      <th>Mobile_M</th>\n",
       "      <th>Other_device_M</th>\n",
       "      <th>user_count_ss</th>\n",
       "      <th>Gender_Male</th>\n",
       "      <th>Marital_Status_Married</th>\n",
       "      <th>Marital_Status_Single</th>\n",
       "    </tr>\n",
       "  </thead>\n",
       "  <tbody>\n",
       "    <tr>\n",
       "      <th>2414</th>\n",
       "      <td>1.00</td>\n",
       "      <td>1.00</td>\n",
       "      <td>7.00</td>\n",
       "      <td>2</td>\n",
       "      <td>3.00</td>\n",
       "      <td>4.00</td>\n",
       "      <td>2</td>\n",
       "      <td>3.00</td>\n",
       "      <td>2.00</td>\n",
       "      <td>0.00</td>\n",
       "      <td>14.00</td>\n",
       "      <td>0.00</td>\n",
       "      <td>0.00</td>\n",
       "      <td>115.63</td>\n",
       "      <td>1</td>\n",
       "      <td>1</td>\n",
       "      <td>0</td>\n",
       "      <td>0</td>\n",
       "      <td>0</td>\n",
       "      <td>0</td>\n",
       "      <td>1</td>\n",
       "      <td>0</td>\n",
       "      <td>0</td>\n",
       "      <td>0</td>\n",
       "      <td>1</td>\n",
       "      <td>0</td>\n",
       "      <td>1.25</td>\n",
       "      <td>1</td>\n",
       "      <td>1</td>\n",
       "      <td>0</td>\n",
       "    </tr>\n",
       "    <tr>\n",
       "      <th>6029</th>\n",
       "      <td>7.00</td>\n",
       "      <td>1.00</td>\n",
       "      <td>22.00</td>\n",
       "      <td>1</td>\n",
       "      <td>2.00</td>\n",
       "      <td>4.00</td>\n",
       "      <td>0</td>\n",
       "      <td>4.00</td>\n",
       "      <td>2.00</td>\n",
       "      <td>0.00</td>\n",
       "      <td>15.00</td>\n",
       "      <td>4.00</td>\n",
       "      <td>7.00</td>\n",
       "      <td>186.21</td>\n",
       "      <td>1</td>\n",
       "      <td>0</td>\n",
       "      <td>0</td>\n",
       "      <td>0</td>\n",
       "      <td>0</td>\n",
       "      <td>0</td>\n",
       "      <td>0</td>\n",
       "      <td>0</td>\n",
       "      <td>0</td>\n",
       "      <td>0</td>\n",
       "      <td>0</td>\n",
       "      <td>0</td>\n",
       "      <td>1.67</td>\n",
       "      <td>0</td>\n",
       "      <td>0</td>\n",
       "      <td>1</td>\n",
       "    </tr>\n",
       "    <tr>\n",
       "      <th>603</th>\n",
       "      <td>27.00</td>\n",
       "      <td>1.00</td>\n",
       "      <td>23.00</td>\n",
       "      <td>0</td>\n",
       "      <td>2.00</td>\n",
       "      <td>3.00</td>\n",
       "      <td>0</td>\n",
       "      <td>3.00</td>\n",
       "      <td>9.00</td>\n",
       "      <td>0.00</td>\n",
       "      <td>11.00</td>\n",
       "      <td>1.00</td>\n",
       "      <td>8.00</td>\n",
       "      <td>207.39</td>\n",
       "      <td>1</td>\n",
       "      <td>0</td>\n",
       "      <td>0</td>\n",
       "      <td>0</td>\n",
       "      <td>0</td>\n",
       "      <td>0</td>\n",
       "      <td>0</td>\n",
       "      <td>0</td>\n",
       "      <td>0</td>\n",
       "      <td>0</td>\n",
       "      <td>0</td>\n",
       "      <td>0</td>\n",
       "      <td>1.33</td>\n",
       "      <td>0</td>\n",
       "      <td>0</td>\n",
       "      <td>0</td>\n",
       "    </tr>\n",
       "    <tr>\n",
       "      <th>1890</th>\n",
       "      <td>3.00</td>\n",
       "      <td>3.00</td>\n",
       "      <td>33.00</td>\n",
       "      <td>3</td>\n",
       "      <td>3.00</td>\n",
       "      <td>3.00</td>\n",
       "      <td>3</td>\n",
       "      <td>1.00</td>\n",
       "      <td>8.00</td>\n",
       "      <td>0.00</td>\n",
       "      <td>23.00</td>\n",
       "      <td>2.00</td>\n",
       "      <td>7.00</td>\n",
       "      <td>153.04</td>\n",
       "      <td>1</td>\n",
       "      <td>1</td>\n",
       "      <td>0</td>\n",
       "      <td>0</td>\n",
       "      <td>0</td>\n",
       "      <td>0</td>\n",
       "      <td>0</td>\n",
       "      <td>1</td>\n",
       "      <td>0</td>\n",
       "      <td>0</td>\n",
       "      <td>1</td>\n",
       "      <td>0</td>\n",
       "      <td>1.00</td>\n",
       "      <td>1</td>\n",
       "      <td>1</td>\n",
       "      <td>0</td>\n",
       "    </tr>\n",
       "    <tr>\n",
       "      <th>5974</th>\n",
       "      <td>0.00</td>\n",
       "      <td>3.00</td>\n",
       "      <td>19.00</td>\n",
       "      <td>4</td>\n",
       "      <td>2.00</td>\n",
       "      <td>3.20</td>\n",
       "      <td>3</td>\n",
       "      <td>3.00</td>\n",
       "      <td>6.20</td>\n",
       "      <td>0.00</td>\n",
       "      <td>13.00</td>\n",
       "      <td>1.00</td>\n",
       "      <td>2.00</td>\n",
       "      <td>154.07</td>\n",
       "      <td>2</td>\n",
       "      <td>0</td>\n",
       "      <td>0</td>\n",
       "      <td>1</td>\n",
       "      <td>0</td>\n",
       "      <td>0</td>\n",
       "      <td>0</td>\n",
       "      <td>0</td>\n",
       "      <td>1</td>\n",
       "      <td>0</td>\n",
       "      <td>0</td>\n",
       "      <td>1</td>\n",
       "      <td>1.40</td>\n",
       "      <td>1</td>\n",
       "      <td>0</td>\n",
       "      <td>0</td>\n",
       "    </tr>\n",
       "  </tbody>\n",
       "</table>\n",
       "</div>"
      ],
      "text/plain": [
       "      Tenure  City_Tier  CC_Contacted_LY  Payment  Service_Score  \\\n",
       "2414    1.00       1.00             7.00        2           3.00   \n",
       "6029    7.00       1.00            22.00        1           2.00   \n",
       "603    27.00       1.00            23.00        0           2.00   \n",
       "1890    3.00       3.00            33.00        3           3.00   \n",
       "5974    0.00       3.00            19.00        4           2.00   \n",
       "\n",
       "      Account_user_count  account_segment  CC_Agent_Score  rev_per_month  \\\n",
       "2414                4.00                2            3.00           2.00   \n",
       "6029                4.00                0            4.00           2.00   \n",
       "603                 3.00                0            3.00           9.00   \n",
       "1890                3.00                3            1.00           8.00   \n",
       "5974                3.20                3            3.00           6.20   \n",
       "\n",
       "      Complain_ly  rev_growth_yoy  coupon_used_for_payment  \\\n",
       "2414         0.00           14.00                     0.00   \n",
       "6029         0.00           15.00                     4.00   \n",
       "603          0.00           11.00                     1.00   \n",
       "1890         0.00           23.00                     2.00   \n",
       "5974         0.00           13.00                     1.00   \n",
       "\n",
       "      Day_Since_CC_connect  cashback  Login_device  Married_M  Single_M  \\\n",
       "2414                  0.00    115.63             1          1         0   \n",
       "6029                  7.00    186.21             1          0         0   \n",
       "603                   8.00    207.39             1          0         0   \n",
       "1890                  7.00    153.04             1          1         0   \n",
       "5974                  2.00    154.07             2          0         0   \n",
       "\n",
       "      Divorced_M  COD_M  CC_M  DC_M  Ewallet_M  UPI_M  Computer_M  Mobile_M  \\\n",
       "2414           0      0     0     1          0      0           0         1   \n",
       "6029           0      0     0     0          0      0           0         0   \n",
       "603            0      0     0     0          0      0           0         0   \n",
       "1890           0      0     0     0          1      0           0         1   \n",
       "5974           1      0     0     0          0      1           0         0   \n",
       "\n",
       "      Other_device_M  user_count_ss  Gender_Male  Marital_Status_Married  \\\n",
       "2414               0           1.25            1                       1   \n",
       "6029               0           1.67            0                       0   \n",
       "603                0           1.33            0                       0   \n",
       "1890               0           1.00            1                       1   \n",
       "5974               1           1.40            1                       0   \n",
       "\n",
       "      Marital_Status_Single  \n",
       "2414                      0  \n",
       "6029                      1  \n",
       "603                       0  \n",
       "1890                      0  \n",
       "5974                      0  "
      ]
     },
     "execution_count": 125,
     "metadata": {},
     "output_type": "execute_result"
    },
    {
     "data": {
      "application/javascript": [
       "\n",
       "            setTimeout(function() {\n",
       "                var nbb_cell_id = 125;\n",
       "                var nbb_unformatted_code = \"X_val.head()\";\n",
       "                var nbb_formatted_code = \"X_val.head()\";\n",
       "                var nbb_cells = Jupyter.notebook.get_cells();\n",
       "                for (var i = 0; i < nbb_cells.length; ++i) {\n",
       "                    if (nbb_cells[i].input_prompt_number == nbb_cell_id) {\n",
       "                        if (nbb_cells[i].get_text() == nbb_unformatted_code) {\n",
       "                             nbb_cells[i].set_text(nbb_formatted_code);\n",
       "                        }\n",
       "                        break;\n",
       "                    }\n",
       "                }\n",
       "            }, 500);\n",
       "            "
      ],
      "text/plain": [
       "<IPython.core.display.Javascript object>"
      ]
     },
     "metadata": {},
     "output_type": "display_data"
    }
   ],
   "source": [
    "X_val.head()"
   ]
  },
  {
   "cell_type": "code",
   "execution_count": 126,
   "id": "161a6df9",
   "metadata": {},
   "outputs": [
    {
     "data": {
      "text/html": [
       "<div>\n",
       "<style scoped>\n",
       "    .dataframe tbody tr th:only-of-type {\n",
       "        vertical-align: middle;\n",
       "    }\n",
       "\n",
       "    .dataframe tbody tr th {\n",
       "        vertical-align: top;\n",
       "    }\n",
       "\n",
       "    .dataframe thead th {\n",
       "        text-align: right;\n",
       "    }\n",
       "</style>\n",
       "<table border=\"1\" class=\"dataframe\">\n",
       "  <thead>\n",
       "    <tr style=\"text-align: right;\">\n",
       "      <th></th>\n",
       "      <th>Tenure</th>\n",
       "      <th>City_Tier</th>\n",
       "      <th>CC_Contacted_LY</th>\n",
       "      <th>Payment</th>\n",
       "      <th>Service_Score</th>\n",
       "      <th>Account_user_count</th>\n",
       "      <th>account_segment</th>\n",
       "      <th>CC_Agent_Score</th>\n",
       "      <th>rev_per_month</th>\n",
       "      <th>Complain_ly</th>\n",
       "      <th>rev_growth_yoy</th>\n",
       "      <th>coupon_used_for_payment</th>\n",
       "      <th>Day_Since_CC_connect</th>\n",
       "      <th>cashback</th>\n",
       "      <th>Login_device</th>\n",
       "      <th>Married_M</th>\n",
       "      <th>Single_M</th>\n",
       "      <th>Divorced_M</th>\n",
       "      <th>COD_M</th>\n",
       "      <th>CC_M</th>\n",
       "      <th>DC_M</th>\n",
       "      <th>Ewallet_M</th>\n",
       "      <th>UPI_M</th>\n",
       "      <th>Computer_M</th>\n",
       "      <th>Mobile_M</th>\n",
       "      <th>Other_device_M</th>\n",
       "      <th>user_count_ss</th>\n",
       "      <th>Gender_Male</th>\n",
       "      <th>Marital_Status_Married</th>\n",
       "      <th>Marital_Status_Single</th>\n",
       "    </tr>\n",
       "  </thead>\n",
       "  <tbody>\n",
       "    <tr>\n",
       "      <th>4203</th>\n",
       "      <td>1.00</td>\n",
       "      <td>3.00</td>\n",
       "      <td>15.00</td>\n",
       "      <td>2</td>\n",
       "      <td>3.00</td>\n",
       "      <td>4.00</td>\n",
       "      <td>0</td>\n",
       "      <td>3.00</td>\n",
       "      <td>3.00</td>\n",
       "      <td>0.00</td>\n",
       "      <td>16.00</td>\n",
       "      <td>2.00</td>\n",
       "      <td>8.00</td>\n",
       "      <td>212.26</td>\n",
       "      <td>0</td>\n",
       "      <td>0</td>\n",
       "      <td>1</td>\n",
       "      <td>0</td>\n",
       "      <td>0</td>\n",
       "      <td>0</td>\n",
       "      <td>1</td>\n",
       "      <td>0</td>\n",
       "      <td>0</td>\n",
       "      <td>1</td>\n",
       "      <td>0</td>\n",
       "      <td>0</td>\n",
       "      <td>1.25</td>\n",
       "      <td>1</td>\n",
       "      <td>0</td>\n",
       "      <td>1</td>\n",
       "    </tr>\n",
       "    <tr>\n",
       "      <th>3636</th>\n",
       "      <td>4.00</td>\n",
       "      <td>3.00</td>\n",
       "      <td>32.00</td>\n",
       "      <td>3</td>\n",
       "      <td>3.00</td>\n",
       "      <td>5.00</td>\n",
       "      <td>0</td>\n",
       "      <td>4.00</td>\n",
       "      <td>4.00</td>\n",
       "      <td>1.00</td>\n",
       "      <td>13.00</td>\n",
       "      <td>1.00</td>\n",
       "      <td>1.00</td>\n",
       "      <td>215.94</td>\n",
       "      <td>1</td>\n",
       "      <td>0</td>\n",
       "      <td>1</td>\n",
       "      <td>0</td>\n",
       "      <td>0</td>\n",
       "      <td>0</td>\n",
       "      <td>0</td>\n",
       "      <td>1</td>\n",
       "      <td>0</td>\n",
       "      <td>0</td>\n",
       "      <td>1</td>\n",
       "      <td>0</td>\n",
       "      <td>1.50</td>\n",
       "      <td>1</td>\n",
       "      <td>0</td>\n",
       "      <td>1</td>\n",
       "    </tr>\n",
       "    <tr>\n",
       "      <th>5152</th>\n",
       "      <td>13.00</td>\n",
       "      <td>1.00</td>\n",
       "      <td>32.00</td>\n",
       "      <td>2</td>\n",
       "      <td>4.00</td>\n",
       "      <td>4.00</td>\n",
       "      <td>0</td>\n",
       "      <td>3.00</td>\n",
       "      <td>5.00</td>\n",
       "      <td>0.00</td>\n",
       "      <td>22.00</td>\n",
       "      <td>1.00</td>\n",
       "      <td>6.00</td>\n",
       "      <td>234.20</td>\n",
       "      <td>0</td>\n",
       "      <td>1</td>\n",
       "      <td>0</td>\n",
       "      <td>0</td>\n",
       "      <td>0</td>\n",
       "      <td>0</td>\n",
       "      <td>1</td>\n",
       "      <td>0</td>\n",
       "      <td>0</td>\n",
       "      <td>1</td>\n",
       "      <td>0</td>\n",
       "      <td>0</td>\n",
       "      <td>1.00</td>\n",
       "      <td>1</td>\n",
       "      <td>1</td>\n",
       "      <td>0</td>\n",
       "    </tr>\n",
       "    <tr>\n",
       "      <th>9665</th>\n",
       "      <td>99.00</td>\n",
       "      <td>1.00</td>\n",
       "      <td>30.00</td>\n",
       "      <td>4</td>\n",
       "      <td>3.00</td>\n",
       "      <td>5.00</td>\n",
       "      <td>3</td>\n",
       "      <td>4.00</td>\n",
       "      <td>2.00</td>\n",
       "      <td>1.00</td>\n",
       "      <td>12.00</td>\n",
       "      <td>2.00</td>\n",
       "      <td>3.00</td>\n",
       "      <td>176.88</td>\n",
       "      <td>1</td>\n",
       "      <td>0</td>\n",
       "      <td>0</td>\n",
       "      <td>0</td>\n",
       "      <td>0</td>\n",
       "      <td>0</td>\n",
       "      <td>0</td>\n",
       "      <td>0</td>\n",
       "      <td>0</td>\n",
       "      <td>0</td>\n",
       "      <td>0</td>\n",
       "      <td>0</td>\n",
       "      <td>1.50</td>\n",
       "      <td>0</td>\n",
       "      <td>1</td>\n",
       "      <td>0</td>\n",
       "    </tr>\n",
       "    <tr>\n",
       "      <th>6678</th>\n",
       "      <td>9.00</td>\n",
       "      <td>1.00</td>\n",
       "      <td>13.00</td>\n",
       "      <td>2</td>\n",
       "      <td>2.00</td>\n",
       "      <td>3.00</td>\n",
       "      <td>0</td>\n",
       "      <td>5.00</td>\n",
       "      <td>8.00</td>\n",
       "      <td>0.00</td>\n",
       "      <td>12.00</td>\n",
       "      <td>1.00</td>\n",
       "      <td>2.00</td>\n",
       "      <td>180.08</td>\n",
       "      <td>1</td>\n",
       "      <td>0</td>\n",
       "      <td>0</td>\n",
       "      <td>0</td>\n",
       "      <td>0</td>\n",
       "      <td>0</td>\n",
       "      <td>0</td>\n",
       "      <td>0</td>\n",
       "      <td>0</td>\n",
       "      <td>0</td>\n",
       "      <td>0</td>\n",
       "      <td>0</td>\n",
       "      <td>1.33</td>\n",
       "      <td>0</td>\n",
       "      <td>1</td>\n",
       "      <td>0</td>\n",
       "    </tr>\n",
       "  </tbody>\n",
       "</table>\n",
       "</div>"
      ],
      "text/plain": [
       "      Tenure  City_Tier  CC_Contacted_LY  Payment  Service_Score  \\\n",
       "4203    1.00       3.00            15.00        2           3.00   \n",
       "3636    4.00       3.00            32.00        3           3.00   \n",
       "5152   13.00       1.00            32.00        2           4.00   \n",
       "9665   99.00       1.00            30.00        4           3.00   \n",
       "6678    9.00       1.00            13.00        2           2.00   \n",
       "\n",
       "      Account_user_count  account_segment  CC_Agent_Score  rev_per_month  \\\n",
       "4203                4.00                0            3.00           3.00   \n",
       "3636                5.00                0            4.00           4.00   \n",
       "5152                4.00                0            3.00           5.00   \n",
       "9665                5.00                3            4.00           2.00   \n",
       "6678                3.00                0            5.00           8.00   \n",
       "\n",
       "      Complain_ly  rev_growth_yoy  coupon_used_for_payment  \\\n",
       "4203         0.00           16.00                     2.00   \n",
       "3636         1.00           13.00                     1.00   \n",
       "5152         0.00           22.00                     1.00   \n",
       "9665         1.00           12.00                     2.00   \n",
       "6678         0.00           12.00                     1.00   \n",
       "\n",
       "      Day_Since_CC_connect  cashback  Login_device  Married_M  Single_M  \\\n",
       "4203                  8.00    212.26             0          0         1   \n",
       "3636                  1.00    215.94             1          0         1   \n",
       "5152                  6.00    234.20             0          1         0   \n",
       "9665                  3.00    176.88             1          0         0   \n",
       "6678                  2.00    180.08             1          0         0   \n",
       "\n",
       "      Divorced_M  COD_M  CC_M  DC_M  Ewallet_M  UPI_M  Computer_M  Mobile_M  \\\n",
       "4203           0      0     0     1          0      0           1         0   \n",
       "3636           0      0     0     0          1      0           0         1   \n",
       "5152           0      0     0     1          0      0           1         0   \n",
       "9665           0      0     0     0          0      0           0         0   \n",
       "6678           0      0     0     0          0      0           0         0   \n",
       "\n",
       "      Other_device_M  user_count_ss  Gender_Male  Marital_Status_Married  \\\n",
       "4203               0           1.25            1                       0   \n",
       "3636               0           1.50            1                       0   \n",
       "5152               0           1.00            1                       1   \n",
       "9665               0           1.50            0                       1   \n",
       "6678               0           1.33            0                       1   \n",
       "\n",
       "      Marital_Status_Single  \n",
       "4203                      1  \n",
       "3636                      1  \n",
       "5152                      0  \n",
       "9665                      0  \n",
       "6678                      0  "
      ]
     },
     "execution_count": 126,
     "metadata": {},
     "output_type": "execute_result"
    },
    {
     "data": {
      "application/javascript": [
       "\n",
       "            setTimeout(function() {\n",
       "                var nbb_cell_id = 126;\n",
       "                var nbb_unformatted_code = \"X_test.head()\";\n",
       "                var nbb_formatted_code = \"X_test.head()\";\n",
       "                var nbb_cells = Jupyter.notebook.get_cells();\n",
       "                for (var i = 0; i < nbb_cells.length; ++i) {\n",
       "                    if (nbb_cells[i].input_prompt_number == nbb_cell_id) {\n",
       "                        if (nbb_cells[i].get_text() == nbb_unformatted_code) {\n",
       "                             nbb_cells[i].set_text(nbb_formatted_code);\n",
       "                        }\n",
       "                        break;\n",
       "                    }\n",
       "                }\n",
       "            }, 500);\n",
       "            "
      ],
      "text/plain": [
       "<IPython.core.display.Javascript object>"
      ]
     },
     "metadata": {},
     "output_type": "display_data"
    }
   ],
   "source": [
    "X_test.head()"
   ]
  },
  {
   "cell_type": "markdown",
   "id": "c1dac040",
   "metadata": {},
   "source": [
    "- Train, validation and test sets are now ready for model building"
   ]
  },
  {
   "cell_type": "markdown",
   "id": "6cc4fd5e",
   "metadata": {},
   "source": [
    "## Alternate Analytical Approach"
   ]
  },
  {
   "cell_type": "markdown",
   "id": "8da3f415",
   "metadata": {},
   "source": [
    "- Use Simple Imputer to impute missing values\n",
    "- Cap the outliers w.r.t Inter-Quartile Range\n",
    "- Bin features like Tenure / rev_growth_yoy\n",
    "- Ordinal encode account_segment on the basis of spend\n",
    "- Scale continuous features using StandardScaler() to build Logistic Regression model"
   ]
  },
  {
   "cell_type": "markdown",
   "id": "9f5d907d",
   "metadata": {},
   "source": [
    "## Model Evaluation Criterion"
   ]
  },
  {
   "cell_type": "markdown",
   "id": "679891b7",
   "metadata": {},
   "source": [
    "### Model can make wrong predictions such as :\n",
    "\n",
    "   1. Predicting a customer will churn but in reality the customer will not\n",
    "   2. Predicting a customer will not quit the service but in reality the customer will churn\n",
    "    \n",
    "### Prediction of concern :\n",
    "\n",
    "The second prediction is our major concern as customers renouncing the services would lead to loss and our aim is to build a prediction model to minimize the churn\n",
    "\n",
    "### Minimizing false negatives :\n",
    "\n",
    "**Recall** score should be maximized. Greater the Recall score, higher the chances of predicting the customers who may churn"
   ]
  },
  {
   "cell_type": "markdown",
   "id": "7f88f274",
   "metadata": {},
   "source": [
    "## User-defined functions to evaluate and plot metric scores"
   ]
  },
  {
   "cell_type": "code",
   "execution_count": 127,
   "id": "1aff34ca",
   "metadata": {},
   "outputs": [
    {
     "data": {
      "application/javascript": [
       "\n",
       "            setTimeout(function() {\n",
       "                var nbb_cell_id = 127;\n",
       "                var nbb_unformatted_code = \"# defining a function to compute different metrics to check performance of classification models built using sklearn\\n\\n\\ndef model_performance_classification(model, predictors, target):\\n    \\\"\\\"\\\"\\n    Function to compute different metrics to check classification model performance\\n    model : classifier\\n    predictors : independent variables\\n    target : dependent variable\\n    \\n    \\\"\\\"\\\"\\n    # predicting using the independent variables\\n    pred = model.predict(predictors)\\n    acc = accuracy_score(target, pred)  # to compute Accuracy\\n    recall = recall_score(target, pred)  # to compute Recall\\n    precision = precision_score(target, pred)\\n    f1 = f1_score(target, pred)  # to compute F1-score\\n\\n    # creating a dataframe of metrics\\n    df_perf = pd.DataFrame(\\n        {\\\"Accuracy\\\": acc, \\\"Recall\\\": recall, \\\"Precision\\\": precision, \\\"F1\\\": f1}, index=[0]\\n    )\\n    return df_perf\";\n",
       "                var nbb_formatted_code = \"# defining a function to compute different metrics to check performance of classification models built using sklearn\\n\\n\\ndef model_performance_classification(model, predictors, target):\\n    \\\"\\\"\\\"\\n    Function to compute different metrics to check classification model performance\\n    model : classifier\\n    predictors : independent variables\\n    target : dependent variable\\n    \\n    \\\"\\\"\\\"\\n    # predicting using the independent variables\\n    pred = model.predict(predictors)\\n    acc = accuracy_score(target, pred)  # to compute Accuracy\\n    recall = recall_score(target, pred)  # to compute Recall\\n    precision = precision_score(target, pred)\\n    f1 = f1_score(target, pred)  # to compute F1-score\\n\\n    # creating a dataframe of metrics\\n    df_perf = pd.DataFrame(\\n        {\\\"Accuracy\\\": acc, \\\"Recall\\\": recall, \\\"Precision\\\": precision, \\\"F1\\\": f1}, index=[0]\\n    )\\n    return df_perf\";\n",
       "                var nbb_cells = Jupyter.notebook.get_cells();\n",
       "                for (var i = 0; i < nbb_cells.length; ++i) {\n",
       "                    if (nbb_cells[i].input_prompt_number == nbb_cell_id) {\n",
       "                        if (nbb_cells[i].get_text() == nbb_unformatted_code) {\n",
       "                             nbb_cells[i].set_text(nbb_formatted_code);\n",
       "                        }\n",
       "                        break;\n",
       "                    }\n",
       "                }\n",
       "            }, 500);\n",
       "            "
      ],
      "text/plain": [
       "<IPython.core.display.Javascript object>"
      ]
     },
     "metadata": {},
     "output_type": "display_data"
    }
   ],
   "source": [
    "# defining a function to compute different metrics to check performance of classification models built using sklearn\n",
    "\n",
    "\n",
    "def model_performance_classification(model, predictors, target):\n",
    "    \"\"\"\n",
    "    Function to compute different metrics to check classification model performance\n",
    "    model : classifier\n",
    "    predictors : independent variables\n",
    "    target : dependent variable\n",
    "    \n",
    "    \"\"\"\n",
    "    # predicting using the independent variables\n",
    "    pred = model.predict(predictors)\n",
    "    acc = accuracy_score(target, pred)  # to compute Accuracy\n",
    "    recall = recall_score(target, pred)  # to compute Recall\n",
    "    precision = precision_score(target, pred)\n",
    "    f1 = f1_score(target, pred)  # to compute F1-score\n",
    "\n",
    "    # creating a dataframe of metrics\n",
    "    df_perf = pd.DataFrame(\n",
    "        {\"Accuracy\": acc, \"Recall\": recall, \"Precision\": precision, \"F1\": f1}, index=[0]\n",
    "    )\n",
    "    return df_perf"
   ]
  },
  {
   "cell_type": "code",
   "execution_count": 128,
   "id": "f6cf7ac6",
   "metadata": {},
   "outputs": [
    {
     "data": {
      "application/javascript": [
       "\n",
       "            setTimeout(function() {\n",
       "                var nbb_cell_id = 128;\n",
       "                var nbb_unformatted_code = \"# defining a function to plot the confusion matrix\\n\\n\\ndef confusion_matrix_sklearn(model, predictors, target):\\n    \\\"\\\"\\\"\\n    To plot the confusion_matrix with percentages\\n    model: classifier\\n    predictors: independent variables\\n    target: dependent variable\\n    \\n    \\\"\\\"\\\"\\n    y_pred = model.predict(predictors)\\n    cm = confusion_matrix(target, y_pred)\\n    labels = np.asarray(\\n        [\\n            [\\\"{0:0.0f}\\\".format(item) + \\\"\\\\n{0:.2%}\\\".format(item / cm.flatten().sum())]\\n            for item in cm.flatten()\\n        ]\\n    ).reshape(2, 2)\\n\\n    plt.figure(figsize=(6, 4))\\n    sns.heatmap(cm, annot=labels, fmt=\\\"\\\")\\n    plt.ylabel(\\\"True label\\\")\\n    plt.xlabel(\\\"Predicted label\\\")\";\n",
       "                var nbb_formatted_code = \"# defining a function to plot the confusion matrix\\n\\n\\ndef confusion_matrix_sklearn(model, predictors, target):\\n    \\\"\\\"\\\"\\n    To plot the confusion_matrix with percentages\\n    model: classifier\\n    predictors: independent variables\\n    target: dependent variable\\n    \\n    \\\"\\\"\\\"\\n    y_pred = model.predict(predictors)\\n    cm = confusion_matrix(target, y_pred)\\n    labels = np.asarray(\\n        [\\n            [\\\"{0:0.0f}\\\".format(item) + \\\"\\\\n{0:.2%}\\\".format(item / cm.flatten().sum())]\\n            for item in cm.flatten()\\n        ]\\n    ).reshape(2, 2)\\n\\n    plt.figure(figsize=(6, 4))\\n    sns.heatmap(cm, annot=labels, fmt=\\\"\\\")\\n    plt.ylabel(\\\"True label\\\")\\n    plt.xlabel(\\\"Predicted label\\\")\";\n",
       "                var nbb_cells = Jupyter.notebook.get_cells();\n",
       "                for (var i = 0; i < nbb_cells.length; ++i) {\n",
       "                    if (nbb_cells[i].input_prompt_number == nbb_cell_id) {\n",
       "                        if (nbb_cells[i].get_text() == nbb_unformatted_code) {\n",
       "                             nbb_cells[i].set_text(nbb_formatted_code);\n",
       "                        }\n",
       "                        break;\n",
       "                    }\n",
       "                }\n",
       "            }, 500);\n",
       "            "
      ],
      "text/plain": [
       "<IPython.core.display.Javascript object>"
      ]
     },
     "metadata": {},
     "output_type": "display_data"
    }
   ],
   "source": [
    "# defining a function to plot the confusion matrix\n",
    "\n",
    "\n",
    "def confusion_matrix_sklearn(model, predictors, target):\n",
    "    \"\"\"\n",
    "    To plot the confusion_matrix with percentages\n",
    "    model: classifier\n",
    "    predictors: independent variables\n",
    "    target: dependent variable\n",
    "    \n",
    "    \"\"\"\n",
    "    y_pred = model.predict(predictors)\n",
    "    cm = confusion_matrix(target, y_pred)\n",
    "    labels = np.asarray(\n",
    "        [\n",
    "            [\"{0:0.0f}\".format(item) + \"\\n{0:.2%}\".format(item / cm.flatten().sum())]\n",
    "            for item in cm.flatten()\n",
    "        ]\n",
    "    ).reshape(2, 2)\n",
    "\n",
    "    plt.figure(figsize=(6, 4))\n",
    "    sns.heatmap(cm, annot=labels, fmt=\"\")\n",
    "    plt.ylabel(\"True label\")\n",
    "    plt.xlabel(\"Predicted label\")"
   ]
  },
  {
   "cell_type": "markdown",
   "id": "d01be970",
   "metadata": {},
   "source": [
    "## Model Building"
   ]
  },
  {
   "cell_type": "code",
   "execution_count": 129,
   "id": "4a285da9",
   "metadata": {},
   "outputs": [
    {
     "name": "stdout",
     "output_type": "stream",
     "text": [
      "Cross-Validation Performance :\n",
      "\n",
      "LR : 37.257516036788004\n",
      "Dtree : 78.11925187417884\n",
      "Bagging : 76.18826802689543\n",
      "RandomForest : 78.99837699976814\n",
      "Adaboost : 57.208439601205654\n",
      "GBM : 60.548342221191746\n",
      "XGBoost : 83.74294767756396\n",
      "\n",
      "Validation set Performance :\n",
      "\n",
      "LR : 42.480211081794195\n",
      "Dtree : 85.75197889182058\n",
      "Bagging : 83.37730870712402\n",
      "RandomForest : 86.54353562005277\n",
      "Adaboost : 61.477572559366756\n",
      "GBM : 62.796833773087066\n",
      "XGBoost : 88.12664907651715\n"
     ]
    },
    {
     "data": {
      "application/javascript": [
       "\n",
       "            setTimeout(function() {\n",
       "                var nbb_cell_id = 129;\n",
       "                var nbb_unformatted_code = \"# K-Folds cross validation of model performances\\n\\nmodels = []  # Empty list to store all the models\\n\\n# Appending the models to the list\\nmodels.append((\\\"LR\\\", LogisticRegression(solver=\\\"newton-cg\\\", random_state=1)))\\nmodels.append((\\\"Dtree\\\", DecisionTreeClassifier(random_state=1)))\\nmodels.append((\\\"Bagging\\\", BaggingClassifier(random_state=1)))\\nmodels.append((\\\"RandomForest\\\", RandomForestClassifier(random_state=1)))\\nmodels.append((\\\"Adaboost\\\", AdaBoostClassifier(random_state=1)))\\nmodels.append((\\\"GBM\\\", GradientBoostingClassifier(random_state=1)))\\nmodels.append((\\\"XGBoost\\\", XGBClassifier(random_state=1, eval_metric=\\\"logloss\\\")))\\n\\nresults = []  # Empty list to store all models' CV scores\\nnames = []  # Empty list to store name of the models\\n\\n# Looping through all the models to get the mean cross validated score\\nprint(\\\"Cross-Validation Performance :\\\\n\\\")\\nfor name, model in models:\\n    scoring = \\\"recall\\\"\\n    kfold = StratifiedKFold(\\n        n_splits=5, shuffle=True, random_state=1\\n    )  # Setting the number of splits to 5\\n    cv_result = cross_val_score(\\n        estimator=model, X=X_train, y=y_train, scoring=scoring, cv=kfold\\n    )\\n    results.append(cv_result)\\n    names.append(name)\\n    print(\\\"{} : {}\\\".format(name, cv_result.mean() * 100))\\n\\nprint(\\\"\\\\nValidation set Performance :\\\\n\\\")\\nfor name, model in models:\\n    model.fit(X_train, y_train)\\n    scores = recall_score(y_val, model.predict(X_val)) * 100\\n    print(\\\"{} : {}\\\".format(name, scores))\";\n",
       "                var nbb_formatted_code = \"# K-Folds cross validation of model performances\\n\\nmodels = []  # Empty list to store all the models\\n\\n# Appending the models to the list\\nmodels.append((\\\"LR\\\", LogisticRegression(solver=\\\"newton-cg\\\", random_state=1)))\\nmodels.append((\\\"Dtree\\\", DecisionTreeClassifier(random_state=1)))\\nmodels.append((\\\"Bagging\\\", BaggingClassifier(random_state=1)))\\nmodels.append((\\\"RandomForest\\\", RandomForestClassifier(random_state=1)))\\nmodels.append((\\\"Adaboost\\\", AdaBoostClassifier(random_state=1)))\\nmodels.append((\\\"GBM\\\", GradientBoostingClassifier(random_state=1)))\\nmodels.append((\\\"XGBoost\\\", XGBClassifier(random_state=1, eval_metric=\\\"logloss\\\")))\\n\\nresults = []  # Empty list to store all models' CV scores\\nnames = []  # Empty list to store name of the models\\n\\n# Looping through all the models to get the mean cross validated score\\nprint(\\\"Cross-Validation Performance :\\\\n\\\")\\nfor name, model in models:\\n    scoring = \\\"recall\\\"\\n    kfold = StratifiedKFold(\\n        n_splits=5, shuffle=True, random_state=1\\n    )  # Setting the number of splits to 5\\n    cv_result = cross_val_score(\\n        estimator=model, X=X_train, y=y_train, scoring=scoring, cv=kfold\\n    )\\n    results.append(cv_result)\\n    names.append(name)\\n    print(\\\"{} : {}\\\".format(name, cv_result.mean() * 100))\\n\\nprint(\\\"\\\\nValidation set Performance :\\\\n\\\")\\nfor name, model in models:\\n    model.fit(X_train, y_train)\\n    scores = recall_score(y_val, model.predict(X_val)) * 100\\n    print(\\\"{} : {}\\\".format(name, scores))\";\n",
       "                var nbb_cells = Jupyter.notebook.get_cells();\n",
       "                for (var i = 0; i < nbb_cells.length; ++i) {\n",
       "                    if (nbb_cells[i].input_prompt_number == nbb_cell_id) {\n",
       "                        if (nbb_cells[i].get_text() == nbb_unformatted_code) {\n",
       "                             nbb_cells[i].set_text(nbb_formatted_code);\n",
       "                        }\n",
       "                        break;\n",
       "                    }\n",
       "                }\n",
       "            }, 500);\n",
       "            "
      ],
      "text/plain": [
       "<IPython.core.display.Javascript object>"
      ]
     },
     "metadata": {},
     "output_type": "display_data"
    }
   ],
   "source": [
    "# K-Folds cross validation of model performances\n",
    "\n",
    "models = []  # Empty list to store all the models\n",
    "\n",
    "# Appending the models to the list\n",
    "models.append((\"LR\", LogisticRegression(solver=\"newton-cg\", random_state=1)))\n",
    "models.append((\"Dtree\", DecisionTreeClassifier(random_state=1)))\n",
    "models.append((\"Bagging\", BaggingClassifier(random_state=1)))\n",
    "models.append((\"RandomForest\", RandomForestClassifier(random_state=1)))\n",
    "models.append((\"Adaboost\", AdaBoostClassifier(random_state=1)))\n",
    "models.append((\"GBM\", GradientBoostingClassifier(random_state=1)))\n",
    "models.append((\"XGBoost\", XGBClassifier(random_state=1, eval_metric=\"logloss\")))\n",
    "\n",
    "results = []  # Empty list to store all models' CV scores\n",
    "names = []  # Empty list to store name of the models\n",
    "\n",
    "# Looping through all the models to get the mean cross validated score\n",
    "print(\"Cross-Validation Performance :\\n\")\n",
    "for name, model in models:\n",
    "    scoring = \"recall\"\n",
    "    kfold = StratifiedKFold(\n",
    "        n_splits=5, shuffle=True, random_state=1\n",
    "    )  # Setting the number of splits to 5\n",
    "    cv_result = cross_val_score(\n",
    "        estimator=model, X=X_train, y=y_train, scoring=scoring, cv=kfold\n",
    "    )\n",
    "    results.append(cv_result)\n",
    "    names.append(name)\n",
    "    print(\"{} : {}\".format(name, cv_result.mean() * 100))\n",
    "\n",
    "print(\"\\nValidation set Performance :\\n\")\n",
    "for name, model in models:\n",
    "    model.fit(X_train, y_train)\n",
    "    scores = recall_score(y_val, model.predict(X_val)) * 100\n",
    "    print(\"{} : {}\".format(name, scores))"
   ]
  },
  {
   "cell_type": "code",
   "execution_count": 130,
   "id": "6a5adaa5",
   "metadata": {},
   "outputs": [
    {
     "data": {
      "image/png": "[encoded data removed]",
      "text/plain": [
       "<Figure size 720x504 with 1 Axes>"
      ]
     },
     "metadata": {},
     "output_type": "display_data"
    },
    {
     "data": {
      "application/javascript": [
       "\n",
       "            setTimeout(function() {\n",
       "                var nbb_cell_id = 130;\n",
       "                var nbb_unformatted_code = \"# Plotting boxplots for CV scores of models defined above\\n\\nfig = plt.figure(figsize=(10, 7))\\nfig.suptitle(\\\"Algorithm Comparison\\\")\\nax = fig.add_subplot(111)\\nplt.boxplot(results)\\nax.set_xticklabels(names)\\nplt.show()\";\n",
       "                var nbb_formatted_code = \"# Plotting boxplots for CV scores of models defined above\\n\\nfig = plt.figure(figsize=(10, 7))\\nfig.suptitle(\\\"Algorithm Comparison\\\")\\nax = fig.add_subplot(111)\\nplt.boxplot(results)\\nax.set_xticklabels(names)\\nplt.show()\";\n",
       "                var nbb_cells = Jupyter.notebook.get_cells();\n",
       "                for (var i = 0; i < nbb_cells.length; ++i) {\n",
       "                    if (nbb_cells[i].input_prompt_number == nbb_cell_id) {\n",
       "                        if (nbb_cells[i].get_text() == nbb_unformatted_code) {\n",
       "                             nbb_cells[i].set_text(nbb_formatted_code);\n",
       "                        }\n",
       "                        break;\n",
       "                    }\n",
       "                }\n",
       "            }, 500);\n",
       "            "
      ],
      "text/plain": [
       "<IPython.core.display.Javascript object>"
      ]
     },
     "metadata": {},
     "output_type": "display_data"
    }
   ],
   "source": [
    "# Plotting boxplots for CV scores of models defined above\n",
    "\n",
    "fig = plt.figure(figsize=(10, 7))\n",
    "fig.suptitle(\"Algorithm Comparison\")\n",
    "ax = fig.add_subplot(111)\n",
    "plt.boxplot(results)\n",
    "ax.set_xticklabels(names)\n",
    "plt.show()"
   ]
  },
  {
   "cell_type": "markdown",
   "id": "f9c20776",
   "metadata": {},
   "source": [
    "- XGBoost is giving the highest mean cross-validated Recall followed by RandomForest, DecisionTree and Bagging classifiers\n",
    "- All the above models are consistent without any outliers\n",
    "- Highest validation set Recall achieved is 88 by XGBoost. \n",
    "- **Will build the above models, hypertune and stack them to get much better results**"
   ]
  },
  {
   "cell_type": "markdown",
   "id": "2980a930",
   "metadata": {},
   "source": [
    "## Decision Tree Classifier"
   ]
  },
  {
   "cell_type": "code",
   "execution_count": 131,
   "id": "34e51175",
   "metadata": {},
   "outputs": [
    {
     "data": {
      "text/plain": [
       "DecisionTreeClassifier(random_state=1)"
      ]
     },
     "execution_count": 131,
     "metadata": {},
     "output_type": "execute_result"
    },
    {
     "data": {
      "application/javascript": [
       "\n",
       "            setTimeout(function() {\n",
       "                var nbb_cell_id = 131;\n",
       "                var nbb_unformatted_code = \"# Fitting the model\\ndtree = DecisionTreeClassifier(random_state=1)\\ndtree.fit(X_train, y_train)\";\n",
       "                var nbb_formatted_code = \"# Fitting the model\\ndtree = DecisionTreeClassifier(random_state=1)\\ndtree.fit(X_train, y_train)\";\n",
       "                var nbb_cells = Jupyter.notebook.get_cells();\n",
       "                for (var i = 0; i < nbb_cells.length; ++i) {\n",
       "                    if (nbb_cells[i].input_prompt_number == nbb_cell_id) {\n",
       "                        if (nbb_cells[i].get_text() == nbb_unformatted_code) {\n",
       "                             nbb_cells[i].set_text(nbb_formatted_code);\n",
       "                        }\n",
       "                        break;\n",
       "                    }\n",
       "                }\n",
       "            }, 500);\n",
       "            "
      ],
      "text/plain": [
       "<IPython.core.display.Javascript object>"
      ]
     },
     "metadata": {},
     "output_type": "display_data"
    }
   ],
   "source": [
    "# Fitting the model\n",
    "dtree = DecisionTreeClassifier(random_state=1)\n",
    "dtree.fit(X_train, y_train)"
   ]
  },
  {
   "cell_type": "code",
   "execution_count": 132,
   "id": "0573656c",
   "metadata": {},
   "outputs": [
    {
     "name": "stdout",
     "output_type": "stream",
     "text": [
      "Training Performance :\n",
      "   Accuracy  Recall  Precision   F1\n",
      "0      1.00    1.00       1.00 1.00\n",
      "\n",
      "Validation Performace :\n",
      "   Accuracy  Recall  Precision   F1\n",
      "0      0.95    0.86       0.85 0.85 \n",
      "\n"
     ]
    },
    {
     "data": {
      "image/png": "[encoded data removed]",
      "text/plain": [
       "<Figure size 432x288 with 2 Axes>"
      ]
     },
     "metadata": {},
     "output_type": "display_data"
    },
    {
     "data": {
      "application/javascript": [
       "\n",
       "            setTimeout(function() {\n",
       "                var nbb_cell_id = 132;\n",
       "                var nbb_unformatted_code = \"# Calculating different metrics\\n\\nprint(\\\"Training Performance :\\\")\\ndtree_train_perf = model_performance_classification(dtree, X_train, y_train)\\nprint(dtree_train_perf)\\n\\nprint(\\\"\\\\nValidation Performace :\\\")\\ndtree_val_perf = model_performance_classification(dtree, X_val, y_val)\\nprint(dtree_val_perf, \\\"\\\\n\\\")\\n\\nconfusion_matrix_sklearn(dtree, X_val, y_val)\";\n",
       "                var nbb_formatted_code = \"# Calculating different metrics\\n\\nprint(\\\"Training Performance :\\\")\\ndtree_train_perf = model_performance_classification(dtree, X_train, y_train)\\nprint(dtree_train_perf)\\n\\nprint(\\\"\\\\nValidation Performace :\\\")\\ndtree_val_perf = model_performance_classification(dtree, X_val, y_val)\\nprint(dtree_val_perf, \\\"\\\\n\\\")\\n\\nconfusion_matrix_sklearn(dtree, X_val, y_val)\";\n",
       "                var nbb_cells = Jupyter.notebook.get_cells();\n",
       "                for (var i = 0; i < nbb_cells.length; ++i) {\n",
       "                    if (nbb_cells[i].input_prompt_number == nbb_cell_id) {\n",
       "                        if (nbb_cells[i].get_text() == nbb_unformatted_code) {\n",
       "                             nbb_cells[i].set_text(nbb_formatted_code);\n",
       "                        }\n",
       "                        break;\n",
       "                    }\n",
       "                }\n",
       "            }, 500);\n",
       "            "
      ],
      "text/plain": [
       "<IPython.core.display.Javascript object>"
      ]
     },
     "metadata": {},
     "output_type": "display_data"
    }
   ],
   "source": [
    "# Calculating different metrics\n",
    "\n",
    "print(\"Training Performance :\")\n",
    "dtree_train_perf = model_performance_classification(dtree, X_train, y_train)\n",
    "print(dtree_train_perf)\n",
    "\n",
    "print(\"\\nValidation Performace :\")\n",
    "dtree_val_perf = model_performance_classification(dtree, X_val, y_val)\n",
    "print(dtree_val_perf, \"\\n\")\n",
    "\n",
    "confusion_matrix_sklearn(dtree, X_val, y_val)"
   ]
  },
  {
   "cell_type": "markdown",
   "id": "dd254c63",
   "metadata": {},
   "source": [
    "- The model is overfitting the train data with default parameters\n",
    "- Will hypertune to reduce overfitting"
   ]
  },
  {
   "cell_type": "markdown",
   "id": "12b26d28",
   "metadata": {},
   "source": [
    "### Hyperparameter tuning"
   ]
  },
  {
   "cell_type": "code",
   "execution_count": 133,
   "id": "eaf9f8db",
   "metadata": {},
   "outputs": [
    {
     "data": {
      "text/plain": [
       "DecisionTreeClassifier(class_weight={0: 0.2, 1: 0.8}, max_depth=7,\n",
       "                       max_leaf_nodes=15, random_state=1)"
      ]
     },
     "execution_count": 133,
     "metadata": {},
     "output_type": "execute_result"
    },
    {
     "data": {
      "application/javascript": [
       "\n",
       "            setTimeout(function() {\n",
       "                var nbb_cell_id = 133;\n",
       "                var nbb_unformatted_code = \"# Choose the type of classifier\\ndtree_tuned = DecisionTreeClassifier(class_weight={0: 0.20, 1: 0.80}, random_state=1)\\n\\n# Grid of parameters to choose from\\nparameters = {\\n    \\\"max_depth\\\": np.arange(2, 30),\\n    \\\"min_samples_leaf\\\": [1, 2, 5, 7, 10],\\n    \\\"max_leaf_nodes\\\": [2, 3, 5, 10, 15],\\n}\\n\\n# Type of scoring used to compare parameter combinations\\n# scorer = metrics.make_scorer(metrics.recall_score)\\n\\n# Run the grid search\\ngrid_obj = GridSearchCV(dtree_tuned, parameters, scoring=\\\"recall\\\", n_jobs=-1)\\ngrid_obj = grid_obj.fit(X_train, y_train)\\n\\n# Set the classifier to the best combination of parameters\\ndtree_tuned = grid_obj.best_estimator_\\n\\n# Fit the best algorithm to the data\\ndtree_tuned.fit(X_train, y_train)\";\n",
       "                var nbb_formatted_code = \"# Choose the type of classifier\\ndtree_tuned = DecisionTreeClassifier(class_weight={0: 0.20, 1: 0.80}, random_state=1)\\n\\n# Grid of parameters to choose from\\nparameters = {\\n    \\\"max_depth\\\": np.arange(2, 30),\\n    \\\"min_samples_leaf\\\": [1, 2, 5, 7, 10],\\n    \\\"max_leaf_nodes\\\": [2, 3, 5, 10, 15],\\n}\\n\\n# Type of scoring used to compare parameter combinations\\n# scorer = metrics.make_scorer(metrics.recall_score)\\n\\n# Run the grid search\\ngrid_obj = GridSearchCV(dtree_tuned, parameters, scoring=\\\"recall\\\", n_jobs=-1)\\ngrid_obj = grid_obj.fit(X_train, y_train)\\n\\n# Set the classifier to the best combination of parameters\\ndtree_tuned = grid_obj.best_estimator_\\n\\n# Fit the best algorithm to the data\\ndtree_tuned.fit(X_train, y_train)\";\n",
       "                var nbb_cells = Jupyter.notebook.get_cells();\n",
       "                for (var i = 0; i < nbb_cells.length; ++i) {\n",
       "                    if (nbb_cells[i].input_prompt_number == nbb_cell_id) {\n",
       "                        if (nbb_cells[i].get_text() == nbb_unformatted_code) {\n",
       "                             nbb_cells[i].set_text(nbb_formatted_code);\n",
       "                        }\n",
       "                        break;\n",
       "                    }\n",
       "                }\n",
       "            }, 500);\n",
       "            "
      ],
      "text/plain": [
       "<IPython.core.display.Javascript object>"
      ]
     },
     "metadata": {},
     "output_type": "display_data"
    }
   ],
   "source": [
    "# Choose the type of classifier\n",
    "dtree_tuned = DecisionTreeClassifier(class_weight={0: 0.20, 1: 0.80}, random_state=1)\n",
    "\n",
    "# Grid of parameters to choose from\n",
    "parameters = {\n",
    "    \"max_depth\": np.arange(2, 30),\n",
    "    \"min_samples_leaf\": [1, 2, 5, 7, 10],\n",
    "    \"max_leaf_nodes\": [2, 3, 5, 10, 15],\n",
    "}\n",
    "\n",
    "# Type of scoring used to compare parameter combinations\n",
    "# scorer = metrics.make_scorer(metrics.recall_score)\n",
    "\n",
    "# Run the grid search\n",
    "grid_obj = GridSearchCV(dtree_tuned, parameters, scoring=\"recall\", n_jobs=-1)\n",
    "grid_obj = grid_obj.fit(X_train, y_train)\n",
    "\n",
    "# Set the classifier to the best combination of parameters\n",
    "dtree_tuned = grid_obj.best_estimator_\n",
    "\n",
    "# Fit the best algorithm to the data\n",
    "dtree_tuned.fit(X_train, y_train)"
   ]
  },
  {
   "cell_type": "code",
   "execution_count": 134,
   "id": "73d2c62d",
   "metadata": {},
   "outputs": [
    {
     "name": "stdout",
     "output_type": "stream",
     "text": [
      "Training Performance :\n",
      "   Accuracy  Recall  Precision   F1\n",
      "0      0.87    0.76       0.58 0.66\n",
      "\n",
      "Validation Performace :\n",
      "   Accuracy  Recall  Precision   F1\n",
      "0      0.87    0.74       0.58 0.65 \n",
      "\n"
     ]
    },
    {
     "data": {
      "image/png": "[encoded data removed]",
      "text/plain": [
       "<Figure size 432x288 with 2 Axes>"
      ]
     },
     "metadata": {},
     "output_type": "display_data"
    },
    {
     "data": {
      "application/javascript": [
       "\n",
       "            setTimeout(function() {\n",
       "                var nbb_cell_id = 134;\n",
       "                var nbb_unformatted_code = \"# Calculating different metrics\\n\\nprint(\\\"Training Performance :\\\")\\ndtree_tuned_train_perf = model_performance_classification(dtree_tuned, X_train, y_train)\\nprint(dtree_tuned_train_perf)\\n\\nprint(\\\"\\\\nValidation Performace :\\\")\\ndtree_tuned_val_perf = model_performance_classification(dtree_tuned, X_val, y_val)\\nprint(dtree_tuned_val_perf, \\\"\\\\n\\\")\\n\\nconfusion_matrix_sklearn(dtree_tuned, X_val, y_val)\";\n",
       "                var nbb_formatted_code = \"# Calculating different metrics\\n\\nprint(\\\"Training Performance :\\\")\\ndtree_tuned_train_perf = model_performance_classification(dtree_tuned, X_train, y_train)\\nprint(dtree_tuned_train_perf)\\n\\nprint(\\\"\\\\nValidation Performace :\\\")\\ndtree_tuned_val_perf = model_performance_classification(dtree_tuned, X_val, y_val)\\nprint(dtree_tuned_val_perf, \\\"\\\\n\\\")\\n\\nconfusion_matrix_sklearn(dtree_tuned, X_val, y_val)\";\n",
       "                var nbb_cells = Jupyter.notebook.get_cells();\n",
       "                for (var i = 0; i < nbb_cells.length; ++i) {\n",
       "                    if (nbb_cells[i].input_prompt_number == nbb_cell_id) {\n",
       "                        if (nbb_cells[i].get_text() == nbb_unformatted_code) {\n",
       "                             nbb_cells[i].set_text(nbb_formatted_code);\n",
       "                        }\n",
       "                        break;\n",
       "                    }\n",
       "                }\n",
       "            }, 500);\n",
       "            "
      ],
      "text/plain": [
       "<IPython.core.display.Javascript object>"
      ]
     },
     "metadata": {},
     "output_type": "display_data"
    }
   ],
   "source": [
    "# Calculating different metrics\n",
    "\n",
    "print(\"Training Performance :\")\n",
    "dtree_tuned_train_perf = model_performance_classification(dtree_tuned, X_train, y_train)\n",
    "print(dtree_tuned_train_perf)\n",
    "\n",
    "print(\"\\nValidation Performace :\")\n",
    "dtree_tuned_val_perf = model_performance_classification(dtree_tuned, X_val, y_val)\n",
    "print(dtree_tuned_val_perf, \"\\n\")\n",
    "\n",
    "confusion_matrix_sklearn(dtree_tuned, X_val, y_val)"
   ]
  },
  {
   "cell_type": "markdown",
   "id": "322081ec",
   "metadata": {},
   "source": [
    "- The model is generalizing well with tuned parameters but with low metric scores"
   ]
  },
  {
   "cell_type": "markdown",
   "id": "4d6b9a9b",
   "metadata": {},
   "source": [
    "## Bagging Classifier"
   ]
  },
  {
   "cell_type": "code",
   "execution_count": 135,
   "id": "a0071be8",
   "metadata": {},
   "outputs": [
    {
     "data": {
      "text/plain": [
       "BaggingClassifier(random_state=1)"
      ]
     },
     "execution_count": 135,
     "metadata": {},
     "output_type": "execute_result"
    },
    {
     "data": {
      "application/javascript": [
       "\n",
       "            setTimeout(function() {\n",
       "                var nbb_cell_id = 135;\n",
       "                var nbb_unformatted_code = \"# Fitting the model\\nbagging = BaggingClassifier(random_state=1)\\nbagging.fit(X_train, y_train)\";\n",
       "                var nbb_formatted_code = \"# Fitting the model\\nbagging = BaggingClassifier(random_state=1)\\nbagging.fit(X_train, y_train)\";\n",
       "                var nbb_cells = Jupyter.notebook.get_cells();\n",
       "                for (var i = 0; i < nbb_cells.length; ++i) {\n",
       "                    if (nbb_cells[i].input_prompt_number == nbb_cell_id) {\n",
       "                        if (nbb_cells[i].get_text() == nbb_unformatted_code) {\n",
       "                             nbb_cells[i].set_text(nbb_formatted_code);\n",
       "                        }\n",
       "                        break;\n",
       "                    }\n",
       "                }\n",
       "            }, 500);\n",
       "            "
      ],
      "text/plain": [
       "<IPython.core.display.Javascript object>"
      ]
     },
     "metadata": {},
     "output_type": "display_data"
    }
   ],
   "source": [
    "# Fitting the model\n",
    "bagging = BaggingClassifier(random_state=1)\n",
    "bagging.fit(X_train, y_train)"
   ]
  },
  {
   "cell_type": "code",
   "execution_count": 136,
   "id": "2dc1ffa3",
   "metadata": {},
   "outputs": [
    {
     "name": "stdout",
     "output_type": "stream",
     "text": [
      "Training Performance :\n",
      "   Accuracy  Recall  Precision   F1\n",
      "0      1.00    0.99       0.99 0.99\n",
      "\n",
      "Validation Performace :\n",
      "   Accuracy  Recall  Precision   F1\n",
      "0      0.96    0.83       0.92 0.87 \n",
      "\n"
     ]
    },
    {
     "data": {
      "image/png": "[encoded data removed]",
      "text/plain": [
       "<Figure size 432x288 with 2 Axes>"
      ]
     },
     "metadata": {},
     "output_type": "display_data"
    },
    {
     "data": {
      "application/javascript": [
       "\n",
       "            setTimeout(function() {\n",
       "                var nbb_cell_id = 136;\n",
       "                var nbb_unformatted_code = \"# Calculating different metrics\\n\\nprint(\\\"Training Performance :\\\")\\nbagging_train_perf = model_performance_classification(bagging, X_train, y_train)\\nprint(bagging_train_perf)\\n\\nprint(\\\"\\\\nValidation Performace :\\\")\\nbagging_val_perf = model_performance_classification(bagging, X_val, y_val)\\nprint(bagging_val_perf, \\\"\\\\n\\\")\\n\\nconfusion_matrix_sklearn(bagging, X_val, y_val)\";\n",
       "                var nbb_formatted_code = \"# Calculating different metrics\\n\\nprint(\\\"Training Performance :\\\")\\nbagging_train_perf = model_performance_classification(bagging, X_train, y_train)\\nprint(bagging_train_perf)\\n\\nprint(\\\"\\\\nValidation Performace :\\\")\\nbagging_val_perf = model_performance_classification(bagging, X_val, y_val)\\nprint(bagging_val_perf, \\\"\\\\n\\\")\\n\\nconfusion_matrix_sklearn(bagging, X_val, y_val)\";\n",
       "                var nbb_cells = Jupyter.notebook.get_cells();\n",
       "                for (var i = 0; i < nbb_cells.length; ++i) {\n",
       "                    if (nbb_cells[i].input_prompt_number == nbb_cell_id) {\n",
       "                        if (nbb_cells[i].get_text() == nbb_unformatted_code) {\n",
       "                             nbb_cells[i].set_text(nbb_formatted_code);\n",
       "                        }\n",
       "                        break;\n",
       "                    }\n",
       "                }\n",
       "            }, 500);\n",
       "            "
      ],
      "text/plain": [
       "<IPython.core.display.Javascript object>"
      ]
     },
     "metadata": {},
     "output_type": "display_data"
    }
   ],
   "source": [
    "# Calculating different metrics\n",
    "\n",
    "print(\"Training Performance :\")\n",
    "bagging_train_perf = model_performance_classification(bagging, X_train, y_train)\n",
    "print(bagging_train_perf)\n",
    "\n",
    "print(\"\\nValidation Performace :\")\n",
    "bagging_val_perf = model_performance_classification(bagging, X_val, y_val)\n",
    "print(bagging_val_perf, \"\\n\")\n",
    "\n",
    "confusion_matrix_sklearn(bagging, X_val, y_val)"
   ]
  },
  {
   "cell_type": "markdown",
   "id": "c3bb3f8d",
   "metadata": {},
   "source": [
    "- The model is overfitting the train set\n",
    "- With default parameters, the bagging classifier is performing better in terms of Precision than Recall"
   ]
  },
  {
   "cell_type": "code",
   "execution_count": 137,
   "id": "76200eb7",
   "metadata": {},
   "outputs": [
    {
     "data": {
      "text/plain": [
       "BaggingClassifier(base_estimator=DecisionTreeClassifier(class_weight={0: 0.2,\n",
       "                                                                      1: 0.8},\n",
       "                                                        max_depth=7,\n",
       "                                                        max_leaf_nodes=15,\n",
       "                                                        random_state=1),\n",
       "                  random_state=1)"
      ]
     },
     "execution_count": 137,
     "metadata": {},
     "output_type": "execute_result"
    },
    {
     "data": {
      "application/javascript": [
       "\n",
       "            setTimeout(function() {\n",
       "                var nbb_cell_id = 137;\n",
       "                var nbb_unformatted_code = \"# Fitting the model with dtree_tuned as base_estimator\\nbagging_tdtree = BaggingClassifier(base_estimator=dtree_tuned, random_state=1)\\nbagging_tdtree.fit(X_train, y_train)\";\n",
       "                var nbb_formatted_code = \"# Fitting the model with dtree_tuned as base_estimator\\nbagging_tdtree = BaggingClassifier(base_estimator=dtree_tuned, random_state=1)\\nbagging_tdtree.fit(X_train, y_train)\";\n",
       "                var nbb_cells = Jupyter.notebook.get_cells();\n",
       "                for (var i = 0; i < nbb_cells.length; ++i) {\n",
       "                    if (nbb_cells[i].input_prompt_number == nbb_cell_id) {\n",
       "                        if (nbb_cells[i].get_text() == nbb_unformatted_code) {\n",
       "                             nbb_cells[i].set_text(nbb_formatted_code);\n",
       "                        }\n",
       "                        break;\n",
       "                    }\n",
       "                }\n",
       "            }, 500);\n",
       "            "
      ],
      "text/plain": [
       "<IPython.core.display.Javascript object>"
      ]
     },
     "metadata": {},
     "output_type": "display_data"
    }
   ],
   "source": [
    "# Fitting the model with dtree_tuned as base_estimator\n",
    "bagging_tdtree = BaggingClassifier(base_estimator=dtree_tuned, random_state=1)\n",
    "bagging_tdtree.fit(X_train, y_train)"
   ]
  },
  {
   "cell_type": "code",
   "execution_count": 138,
   "id": "d269e691",
   "metadata": {},
   "outputs": [
    {
     "name": "stdout",
     "output_type": "stream",
     "text": [
      "Training Performance :\n",
      "   Accuracy  Recall  Precision   F1\n",
      "0      0.87    0.82       0.59 0.68\n",
      "\n",
      "Validation Performace :\n",
      "   Accuracy  Recall  Precision   F1\n",
      "0      0.88    0.84       0.61 0.71 \n",
      "\n"
     ]
    },
    {
     "data": {
      "image/png": "[encoded data removed]",
      "text/plain": [
       "<Figure size 432x288 with 2 Axes>"
      ]
     },
     "metadata": {},
     "output_type": "display_data"
    },
    {
     "data": {
      "application/javascript": [
       "\n",
       "            setTimeout(function() {\n",
       "                var nbb_cell_id = 138;\n",
       "                var nbb_unformatted_code = \"# Calculating different metrics\\n\\nprint(\\\"Training Performance :\\\")\\nbagging_tdtree_train_perf = model_performance_classification(\\n    bagging_tdtree, X_train, y_train\\n)\\nprint(bagging_tdtree_train_perf)\\n\\nprint(\\\"\\\\nValidation Performace :\\\")\\nbagging_tdtree_val_perf = model_performance_classification(bagging_tdtree, X_val, y_val)\\nprint(bagging_tdtree_val_perf, \\\"\\\\n\\\")\\n\\nconfusion_matrix_sklearn(bagging_tdtree, X_val, y_val)\";\n",
       "                var nbb_formatted_code = \"# Calculating different metrics\\n\\nprint(\\\"Training Performance :\\\")\\nbagging_tdtree_train_perf = model_performance_classification(\\n    bagging_tdtree, X_train, y_train\\n)\\nprint(bagging_tdtree_train_perf)\\n\\nprint(\\\"\\\\nValidation Performace :\\\")\\nbagging_tdtree_val_perf = model_performance_classification(bagging_tdtree, X_val, y_val)\\nprint(bagging_tdtree_val_perf, \\\"\\\\n\\\")\\n\\nconfusion_matrix_sklearn(bagging_tdtree, X_val, y_val)\";\n",
       "                var nbb_cells = Jupyter.notebook.get_cells();\n",
       "                for (var i = 0; i < nbb_cells.length; ++i) {\n",
       "                    if (nbb_cells[i].input_prompt_number == nbb_cell_id) {\n",
       "                        if (nbb_cells[i].get_text() == nbb_unformatted_code) {\n",
       "                             nbb_cells[i].set_text(nbb_formatted_code);\n",
       "                        }\n",
       "                        break;\n",
       "                    }\n",
       "                }\n",
       "            }, 500);\n",
       "            "
      ],
      "text/plain": [
       "<IPython.core.display.Javascript object>"
      ]
     },
     "metadata": {},
     "output_type": "display_data"
    }
   ],
   "source": [
    "# Calculating different metrics\n",
    "\n",
    "print(\"Training Performance :\")\n",
    "bagging_tdtree_train_perf = model_performance_classification(\n",
    "    bagging_tdtree, X_train, y_train\n",
    ")\n",
    "print(bagging_tdtree_train_perf)\n",
    "\n",
    "print(\"\\nValidation Performace :\")\n",
    "bagging_tdtree_val_perf = model_performance_classification(bagging_tdtree, X_val, y_val)\n",
    "print(bagging_tdtree_val_perf, \"\\n\")\n",
    "\n",
    "confusion_matrix_sklearn(bagging_tdtree, X_val, y_val)"
   ]
  },
  {
   "cell_type": "markdown",
   "id": "c01c25d3",
   "metadata": {},
   "source": [
    "- The model is generalizing well, but precision is too low\n",
    "- Will try to improve the scores by tuning this model"
   ]
  },
  {
   "cell_type": "markdown",
   "id": "baf6fd39",
   "metadata": {},
   "source": [
    "### Hyperparameter tuning"
   ]
  },
  {
   "cell_type": "code",
   "execution_count": 139,
   "id": "46178d8e",
   "metadata": {},
   "outputs": [
    {
     "data": {
      "text/plain": [
       "BaggingClassifier(base_estimator=DecisionTreeClassifier(class_weight={0: 0.2,\n",
       "                                                                      1: 0.8},\n",
       "                                                        max_depth=7,\n",
       "                                                        max_leaf_nodes=15,\n",
       "                                                        random_state=1),\n",
       "                  max_features=0.9000000000000001,\n",
       "                  max_samples=0.9000000000000001, n_estimators=50,\n",
       "                  random_state=1)"
      ]
     },
     "execution_count": 139,
     "metadata": {},
     "output_type": "execute_result"
    },
    {
     "data": {
      "application/javascript": [
       "\n",
       "            setTimeout(function() {\n",
       "                var nbb_cell_id = 139;\n",
       "                var nbb_unformatted_code = \"# Choose the type of classifier\\nbagging_tuned_tdtree = BaggingClassifier(base_estimator=dtree_tuned, random_state=1)\\n\\n# Grid of parameters to choose from\\nparameters = {\\n    \\\"max_samples\\\": np.arange(0.2, 1, 0.1),\\n    \\\"n_estimators\\\": [40, 50, 60],\\n    \\\"max_features\\\": np.arange(0.2, 1, 0.1),\\n}\\n\\n# Run the grid search\\ngrid_obj = GridSearchCV(bagging_tuned_tdtree, parameters, scoring=\\\"recall\\\", cv=5)\\ngrid_obj = grid_obj.fit(X_train, y_train)\\n\\n# Set the classifier to the best combination of parameters\\nbagging_tuned_tdtree = grid_obj.best_estimator_\\n\\n# Fit the best algorithm to the data\\nbagging_tuned_tdtree.fit(X_train, y_train)\";\n",
       "                var nbb_formatted_code = \"# Choose the type of classifier\\nbagging_tuned_tdtree = BaggingClassifier(base_estimator=dtree_tuned, random_state=1)\\n\\n# Grid of parameters to choose from\\nparameters = {\\n    \\\"max_samples\\\": np.arange(0.2, 1, 0.1),\\n    \\\"n_estimators\\\": [40, 50, 60],\\n    \\\"max_features\\\": np.arange(0.2, 1, 0.1),\\n}\\n\\n# Run the grid search\\ngrid_obj = GridSearchCV(bagging_tuned_tdtree, parameters, scoring=\\\"recall\\\", cv=5)\\ngrid_obj = grid_obj.fit(X_train, y_train)\\n\\n# Set the classifier to the best combination of parameters\\nbagging_tuned_tdtree = grid_obj.best_estimator_\\n\\n# Fit the best algorithm to the data\\nbagging_tuned_tdtree.fit(X_train, y_train)\";\n",
       "                var nbb_cells = Jupyter.notebook.get_cells();\n",
       "                for (var i = 0; i < nbb_cells.length; ++i) {\n",
       "                    if (nbb_cells[i].input_prompt_number == nbb_cell_id) {\n",
       "                        if (nbb_cells[i].get_text() == nbb_unformatted_code) {\n",
       "                             nbb_cells[i].set_text(nbb_formatted_code);\n",
       "                        }\n",
       "                        break;\n",
       "                    }\n",
       "                }\n",
       "            }, 500);\n",
       "            "
      ],
      "text/plain": [
       "<IPython.core.display.Javascript object>"
      ]
     },
     "metadata": {},
     "output_type": "display_data"
    }
   ],
   "source": [
    "# Choose the type of classifier\n",
    "bagging_tuned_tdtree = BaggingClassifier(base_estimator=dtree_tuned, random_state=1)\n",
    "\n",
    "# Grid of parameters to choose from\n",
    "parameters = {\n",
    "    \"max_samples\": np.arange(0.2, 1, 0.1),\n",
    "    \"n_estimators\": [40, 50, 60],\n",
    "    \"max_features\": np.arange(0.2, 1, 0.1),\n",
    "}\n",
    "\n",
    "# Run the grid search\n",
    "grid_obj = GridSearchCV(bagging_tuned_tdtree, parameters, scoring=\"recall\", cv=5)\n",
    "grid_obj = grid_obj.fit(X_train, y_train)\n",
    "\n",
    "# Set the classifier to the best combination of parameters\n",
    "bagging_tuned_tdtree = grid_obj.best_estimator_\n",
    "\n",
    "# Fit the best algorithm to the data\n",
    "bagging_tuned_tdtree.fit(X_train, y_train)"
   ]
  },
  {
   "cell_type": "code",
   "execution_count": 140,
   "id": "194c46c0",
   "metadata": {},
   "outputs": [
    {
     "name": "stdout",
     "output_type": "stream",
     "text": [
      "Training Performance :\n",
      "   Accuracy  Recall  Precision   F1\n",
      "0      0.87    0.81       0.59 0.68\n",
      "\n",
      "Validation Performace :\n",
      "   Accuracy  Recall  Precision   F1\n",
      "0      0.88    0.81       0.61 0.70 \n",
      "\n"
     ]
    },
    {
     "data": {
      "image/png": "[encoded data removed]",
      "text/plain": [
       "<Figure size 432x288 with 2 Axes>"
      ]
     },
     "metadata": {},
     "output_type": "display_data"
    },
    {
     "data": {
      "application/javascript": [
       "\n",
       "            setTimeout(function() {\n",
       "                var nbb_cell_id = 140;\n",
       "                var nbb_unformatted_code = \"# Calculating different metrics\\n\\nprint(\\\"Training Performance :\\\")\\nbagging_tuned_tdtree_train_perf = model_performance_classification(\\n    bagging_tuned_tdtree, X_train, y_train\\n)\\nprint(bagging_tuned_tdtree_train_perf)\\n\\nprint(\\\"\\\\nValidation Performace :\\\")\\nbagging_tuned_tdtree_val_perf = model_performance_classification(\\n    bagging_tuned_tdtree, X_val, y_val\\n)\\nprint(bagging_tuned_tdtree_val_perf, \\\"\\\\n\\\")\\n\\nconfusion_matrix_sklearn(bagging_tuned_tdtree, X_val, y_val)\";\n",
       "                var nbb_formatted_code = \"# Calculating different metrics\\n\\nprint(\\\"Training Performance :\\\")\\nbagging_tuned_tdtree_train_perf = model_performance_classification(\\n    bagging_tuned_tdtree, X_train, y_train\\n)\\nprint(bagging_tuned_tdtree_train_perf)\\n\\nprint(\\\"\\\\nValidation Performace :\\\")\\nbagging_tuned_tdtree_val_perf = model_performance_classification(\\n    bagging_tuned_tdtree, X_val, y_val\\n)\\nprint(bagging_tuned_tdtree_val_perf, \\\"\\\\n\\\")\\n\\nconfusion_matrix_sklearn(bagging_tuned_tdtree, X_val, y_val)\";\n",
       "                var nbb_cells = Jupyter.notebook.get_cells();\n",
       "                for (var i = 0; i < nbb_cells.length; ++i) {\n",
       "                    if (nbb_cells[i].input_prompt_number == nbb_cell_id) {\n",
       "                        if (nbb_cells[i].get_text() == nbb_unformatted_code) {\n",
       "                             nbb_cells[i].set_text(nbb_formatted_code);\n",
       "                        }\n",
       "                        break;\n",
       "                    }\n",
       "                }\n",
       "            }, 500);\n",
       "            "
      ],
      "text/plain": [
       "<IPython.core.display.Javascript object>"
      ]
     },
     "metadata": {},
     "output_type": "display_data"
    }
   ],
   "source": [
    "# Calculating different metrics\n",
    "\n",
    "print(\"Training Performance :\")\n",
    "bagging_tuned_tdtree_train_perf = model_performance_classification(\n",
    "    bagging_tuned_tdtree, X_train, y_train\n",
    ")\n",
    "print(bagging_tuned_tdtree_train_perf)\n",
    "\n",
    "print(\"\\nValidation Performace :\")\n",
    "bagging_tuned_tdtree_val_perf = model_performance_classification(\n",
    "    bagging_tuned_tdtree, X_val, y_val\n",
    ")\n",
    "print(bagging_tuned_tdtree_val_perf, \"\\n\")\n",
    "\n",
    "confusion_matrix_sklearn(bagging_tuned_tdtree, X_val, y_val)"
   ]
  },
  {
   "cell_type": "markdown",
   "id": "93d2fb44",
   "metadata": {},
   "source": [
    "- Bagging classifier with tuned decision tree as base is a well fit model as it gives a consistent recall scores in train and test data\n",
    "- However no improvement in the scores\n",
    "- Will tune the model with dtree as base to check for better recall"
   ]
  },
  {
   "cell_type": "code",
   "execution_count": 141,
   "id": "9b6124d2",
   "metadata": {},
   "outputs": [
    {
     "data": {
      "text/plain": [
       "BaggingClassifier(base_estimator=DecisionTreeClassifier(random_state=1),\n",
       "                  max_features=0.9, max_samples=0.9000000000000001,\n",
       "                  n_estimators=70, random_state=1)"
      ]
     },
     "execution_count": 141,
     "metadata": {},
     "output_type": "execute_result"
    },
    {
     "data": {
      "application/javascript": [
       "\n",
       "            setTimeout(function() {\n",
       "                var nbb_cell_id = 141;\n",
       "                var nbb_unformatted_code = \"# Choose the type of classifier\\nbagging_tuned_dt = BaggingClassifier(base_estimator=dtree, random_state=1)\\n\\n# Grid of parameters to choose from\\nparameters = {\\n    \\\"max_samples\\\": np.arange(0.2, 1, 0.1),\\n    \\\"n_estimators\\\": [60, 70, 80],\\n    \\\"max_features\\\": [0.7, 0.8, 0.9, 1],\\n}\\n\\n# Run the grid search\\ngrid_obj = GridSearchCV(bagging_tuned_dt, parameters, scoring=\\\"recall\\\", cv=5)\\ngrid_obj = grid_obj.fit(X_train, y_train)\\n\\n# Set the classifier to the best combination of parameters\\nbagging_tuned_dt = grid_obj.best_estimator_\\n\\n# Fit the best algorithm to the data\\nbagging_tuned_dt.fit(X_train, y_train)\";\n",
       "                var nbb_formatted_code = \"# Choose the type of classifier\\nbagging_tuned_dt = BaggingClassifier(base_estimator=dtree, random_state=1)\\n\\n# Grid of parameters to choose from\\nparameters = {\\n    \\\"max_samples\\\": np.arange(0.2, 1, 0.1),\\n    \\\"n_estimators\\\": [60, 70, 80],\\n    \\\"max_features\\\": [0.7, 0.8, 0.9, 1],\\n}\\n\\n# Run the grid search\\ngrid_obj = GridSearchCV(bagging_tuned_dt, parameters, scoring=\\\"recall\\\", cv=5)\\ngrid_obj = grid_obj.fit(X_train, y_train)\\n\\n# Set the classifier to the best combination of parameters\\nbagging_tuned_dt = grid_obj.best_estimator_\\n\\n# Fit the best algorithm to the data\\nbagging_tuned_dt.fit(X_train, y_train)\";\n",
       "                var nbb_cells = Jupyter.notebook.get_cells();\n",
       "                for (var i = 0; i < nbb_cells.length; ++i) {\n",
       "                    if (nbb_cells[i].input_prompt_number == nbb_cell_id) {\n",
       "                        if (nbb_cells[i].get_text() == nbb_unformatted_code) {\n",
       "                             nbb_cells[i].set_text(nbb_formatted_code);\n",
       "                        }\n",
       "                        break;\n",
       "                    }\n",
       "                }\n",
       "            }, 500);\n",
       "            "
      ],
      "text/plain": [
       "<IPython.core.display.Javascript object>"
      ]
     },
     "metadata": {},
     "output_type": "display_data"
    }
   ],
   "source": [
    "# Choose the type of classifier\n",
    "bagging_tuned_dt = BaggingClassifier(base_estimator=dtree, random_state=1)\n",
    "\n",
    "# Grid of parameters to choose from\n",
    "parameters = {\n",
    "    \"max_samples\": np.arange(0.2, 1, 0.1),\n",
    "    \"n_estimators\": [60, 70, 80],\n",
    "    \"max_features\": [0.7, 0.8, 0.9, 1],\n",
    "}\n",
    "\n",
    "# Run the grid search\n",
    "grid_obj = GridSearchCV(bagging_tuned_dt, parameters, scoring=\"recall\", cv=5)\n",
    "grid_obj = grid_obj.fit(X_train, y_train)\n",
    "\n",
    "# Set the classifier to the best combination of parameters\n",
    "bagging_tuned_dt = grid_obj.best_estimator_\n",
    "\n",
    "# Fit the best algorithm to the data\n",
    "bagging_tuned_dt.fit(X_train, y_train)"
   ]
  },
  {
   "cell_type": "code",
   "execution_count": 142,
   "id": "042e0a88",
   "metadata": {},
   "outputs": [
    {
     "name": "stdout",
     "output_type": "stream",
     "text": [
      "Training Performance :\n",
      "   Accuracy  Recall  Precision   F1\n",
      "0      1.00    1.00       1.00 1.00\n",
      "\n",
      "Validation Performace :\n",
      "   Accuracy  Recall  Precision   F1\n",
      "0      0.97    0.88       0.95 0.91 \n",
      "\n"
     ]
    },
    {
     "data": {
      "image/png": "[encoded data removed]",
      "text/plain": [
       "<Figure size 432x288 with 2 Axes>"
      ]
     },
     "metadata": {},
     "output_type": "display_data"
    },
    {
     "data": {
      "application/javascript": [
       "\n",
       "            setTimeout(function() {\n",
       "                var nbb_cell_id = 142;\n",
       "                var nbb_unformatted_code = \"# Calculating different metrics\\n\\nprint(\\\"Training Performance :\\\")\\nbagging_tuned_dt_train_perf = model_performance_classification(\\n    bagging_tuned_dt, X_train, y_train\\n)\\nprint(bagging_tuned_dt_train_perf)\\n\\nprint(\\\"\\\\nValidation Performace :\\\")\\nbagging_tuned_dt_val_perf = model_performance_classification(\\n    bagging_tuned_dt, X_val, y_val\\n)\\nprint(bagging_tuned_dt_val_perf, \\\"\\\\n\\\")\\n\\nconfusion_matrix_sklearn(bagging_tuned_dt, X_val, y_val)\";\n",
       "                var nbb_formatted_code = \"# Calculating different metrics\\n\\nprint(\\\"Training Performance :\\\")\\nbagging_tuned_dt_train_perf = model_performance_classification(\\n    bagging_tuned_dt, X_train, y_train\\n)\\nprint(bagging_tuned_dt_train_perf)\\n\\nprint(\\\"\\\\nValidation Performace :\\\")\\nbagging_tuned_dt_val_perf = model_performance_classification(\\n    bagging_tuned_dt, X_val, y_val\\n)\\nprint(bagging_tuned_dt_val_perf, \\\"\\\\n\\\")\\n\\nconfusion_matrix_sklearn(bagging_tuned_dt, X_val, y_val)\";\n",
       "                var nbb_cells = Jupyter.notebook.get_cells();\n",
       "                for (var i = 0; i < nbb_cells.length; ++i) {\n",
       "                    if (nbb_cells[i].input_prompt_number == nbb_cell_id) {\n",
       "                        if (nbb_cells[i].get_text() == nbb_unformatted_code) {\n",
       "                             nbb_cells[i].set_text(nbb_formatted_code);\n",
       "                        }\n",
       "                        break;\n",
       "                    }\n",
       "                }\n",
       "            }, 500);\n",
       "            "
      ],
      "text/plain": [
       "<IPython.core.display.Javascript object>"
      ]
     },
     "metadata": {},
     "output_type": "display_data"
    }
   ],
   "source": [
    "# Calculating different metrics\n",
    "\n",
    "print(\"Training Performance :\")\n",
    "bagging_tuned_dt_train_perf = model_performance_classification(\n",
    "    bagging_tuned_dt, X_train, y_train\n",
    ")\n",
    "print(bagging_tuned_dt_train_perf)\n",
    "\n",
    "print(\"\\nValidation Performace :\")\n",
    "bagging_tuned_dt_val_perf = model_performance_classification(\n",
    "    bagging_tuned_dt, X_val, y_val\n",
    ")\n",
    "print(bagging_tuned_dt_val_perf, \"\\n\")\n",
    "\n",
    "confusion_matrix_sklearn(bagging_tuned_dt, X_val, y_val)"
   ]
  },
  {
   "cell_type": "markdown",
   "id": "0628b62b",
   "metadata": {},
   "source": [
    "- Model is overfit on the train data\n",
    "- Precision is much higher than Recall"
   ]
  },
  {
   "cell_type": "markdown",
   "id": "62be79dc",
   "metadata": {},
   "source": [
    "## Random Forest Classifier"
   ]
  },
  {
   "cell_type": "code",
   "execution_count": 143,
   "id": "42476ab0",
   "metadata": {},
   "outputs": [
    {
     "data": {
      "text/plain": [
       "RandomForestClassifier(random_state=1)"
      ]
     },
     "execution_count": 143,
     "metadata": {},
     "output_type": "execute_result"
    },
    {
     "data": {
      "application/javascript": [
       "\n",
       "            setTimeout(function() {\n",
       "                var nbb_cell_id = 143;\n",
       "                var nbb_unformatted_code = \"# Fitting the model\\nrf = RandomForestClassifier(random_state=1)\\nrf.fit(X_train, y_train)\";\n",
       "                var nbb_formatted_code = \"# Fitting the model\\nrf = RandomForestClassifier(random_state=1)\\nrf.fit(X_train, y_train)\";\n",
       "                var nbb_cells = Jupyter.notebook.get_cells();\n",
       "                for (var i = 0; i < nbb_cells.length; ++i) {\n",
       "                    if (nbb_cells[i].input_prompt_number == nbb_cell_id) {\n",
       "                        if (nbb_cells[i].get_text() == nbb_unformatted_code) {\n",
       "                             nbb_cells[i].set_text(nbb_formatted_code);\n",
       "                        }\n",
       "                        break;\n",
       "                    }\n",
       "                }\n",
       "            }, 500);\n",
       "            "
      ],
      "text/plain": [
       "<IPython.core.display.Javascript object>"
      ]
     },
     "metadata": {},
     "output_type": "display_data"
    }
   ],
   "source": [
    "# Fitting the model\n",
    "rf = RandomForestClassifier(random_state=1)\n",
    "rf.fit(X_train, y_train)"
   ]
  },
  {
   "cell_type": "code",
   "execution_count": 144,
   "id": "b127d682",
   "metadata": {},
   "outputs": [
    {
     "name": "stdout",
     "output_type": "stream",
     "text": [
      "Training Performance :\n",
      "   Accuracy  Recall  Precision   F1\n",
      "0      1.00    1.00       1.00 1.00\n",
      "\n",
      "Validation Performace :\n",
      "   Accuracy  Recall  Precision   F1\n",
      "0      0.97    0.87       0.97 0.91 \n",
      "\n"
     ]
    },
    {
     "data": {
      "image/png": "[encoded data removed]",
      "text/plain": [
       "<Figure size 432x288 with 2 Axes>"
      ]
     },
     "metadata": {},
     "output_type": "display_data"
    },
    {
     "data": {
      "application/javascript": [
       "\n",
       "            setTimeout(function() {\n",
       "                var nbb_cell_id = 144;\n",
       "                var nbb_unformatted_code = \"# Calculating different metrics\\n\\nprint(\\\"Training Performance :\\\")\\nrf_train_perf = model_performance_classification(rf, X_train, y_train)\\nprint(rf_train_perf)\\n\\nprint(\\\"\\\\nValidation Performace :\\\")\\nrf_val_perf = model_performance_classification(rf, X_val, y_val)\\nprint(rf_val_perf, \\\"\\\\n\\\")\\n\\nconfusion_matrix_sklearn(rf, X_val, y_val)\";\n",
       "                var nbb_formatted_code = \"# Calculating different metrics\\n\\nprint(\\\"Training Performance :\\\")\\nrf_train_perf = model_performance_classification(rf, X_train, y_train)\\nprint(rf_train_perf)\\n\\nprint(\\\"\\\\nValidation Performace :\\\")\\nrf_val_perf = model_performance_classification(rf, X_val, y_val)\\nprint(rf_val_perf, \\\"\\\\n\\\")\\n\\nconfusion_matrix_sklearn(rf, X_val, y_val)\";\n",
       "                var nbb_cells = Jupyter.notebook.get_cells();\n",
       "                for (var i = 0; i < nbb_cells.length; ++i) {\n",
       "                    if (nbb_cells[i].input_prompt_number == nbb_cell_id) {\n",
       "                        if (nbb_cells[i].get_text() == nbb_unformatted_code) {\n",
       "                             nbb_cells[i].set_text(nbb_formatted_code);\n",
       "                        }\n",
       "                        break;\n",
       "                    }\n",
       "                }\n",
       "            }, 500);\n",
       "            "
      ],
      "text/plain": [
       "<IPython.core.display.Javascript object>"
      ]
     },
     "metadata": {},
     "output_type": "display_data"
    }
   ],
   "source": [
    "# Calculating different metrics\n",
    "\n",
    "print(\"Training Performance :\")\n",
    "rf_train_perf = model_performance_classification(rf, X_train, y_train)\n",
    "print(rf_train_perf)\n",
    "\n",
    "print(\"\\nValidation Performace :\")\n",
    "rf_val_perf = model_performance_classification(rf, X_val, y_val)\n",
    "print(rf_val_perf, \"\\n\")\n",
    "\n",
    "confusion_matrix_sklearn(rf, X_val, y_val)"
   ]
  },
  {
   "cell_type": "markdown",
   "id": "a61ebda4",
   "metadata": {},
   "source": [
    "- Similar to the previous model performance\n",
    "- Will try tuning the model by adding class weights"
   ]
  },
  {
   "cell_type": "markdown",
   "id": "d246948d",
   "metadata": {},
   "source": [
    "### Feature importance of Random Forest"
   ]
  },
  {
   "cell_type": "code",
   "execution_count": 145,
   "id": "9a88ccc6",
   "metadata": {},
   "outputs": [
    {
     "name": "stdout",
     "output_type": "stream",
     "text": [
      "                         Imp\n",
      "Tenure                  0.22\n",
      "cashback                0.08\n",
      "Complain_ly             0.07\n",
      "Day_Since_CC_connect    0.07\n",
      "CC_Contacted_LY         0.06\n",
      "CC_Agent_Score          0.05\n",
      "rev_per_month           0.05\n",
      "rev_growth_yoy          0.05\n",
      "user_count_ss           0.05\n",
      "Payment                 0.03\n",
      "account_segment         0.03\n",
      "coupon_used_for_payment 0.03\n",
      "Account_user_count      0.03\n",
      "City_Tier               0.02\n",
      "Marital_Status_Single   0.02\n",
      "Login_device            0.02\n",
      "Service_Score           0.02\n",
      "Single_M                0.01\n",
      "Marital_Status_Married  0.01\n",
      "DC_M                    0.01\n",
      "Mobile_M                0.01\n",
      "CC_M                    0.01\n",
      "Computer_M              0.01\n",
      "Gender_Male             0.01\n",
      "COD_M                   0.01\n",
      "Married_M               0.01\n",
      "Ewallet_M               0.01\n",
      "Divorced_M              0.00\n",
      "UPI_M                   0.00\n",
      "Other_device_M          0.00\n"
     ]
    },
    {
     "data": {
      "application/javascript": [
       "\n",
       "            setTimeout(function() {\n",
       "                var nbb_cell_id = 145;\n",
       "                var nbb_unformatted_code = \"# Importance of features in the tree building\\n\\nprint(\\n    pd.DataFrame(\\n        rf.feature_importances_, columns=[\\\"Imp\\\"], index=X_train.columns\\n    ).sort_values(by=\\\"Imp\\\", ascending=False)\\n)\";\n",
       "                var nbb_formatted_code = \"# Importance of features in the tree building\\n\\nprint(\\n    pd.DataFrame(\\n        rf.feature_importances_, columns=[\\\"Imp\\\"], index=X_train.columns\\n    ).sort_values(by=\\\"Imp\\\", ascending=False)\\n)\";\n",
       "                var nbb_cells = Jupyter.notebook.get_cells();\n",
       "                for (var i = 0; i < nbb_cells.length; ++i) {\n",
       "                    if (nbb_cells[i].input_prompt_number == nbb_cell_id) {\n",
       "                        if (nbb_cells[i].get_text() == nbb_unformatted_code) {\n",
       "                             nbb_cells[i].set_text(nbb_formatted_code);\n",
       "                        }\n",
       "                        break;\n",
       "                    }\n",
       "                }\n",
       "            }, 500);\n",
       "            "
      ],
      "text/plain": [
       "<IPython.core.display.Javascript object>"
      ]
     },
     "metadata": {},
     "output_type": "display_data"
    }
   ],
   "source": [
    "# Importance of features in the tree building\n",
    "\n",
    "print(\n",
    "    pd.DataFrame(\n",
    "        rf.feature_importances_, columns=[\"Imp\"], index=X_train.columns\n",
    "    ).sort_values(by=\"Imp\", ascending=False)\n",
    ")"
   ]
  },
  {
   "cell_type": "code",
   "execution_count": 146,
   "id": "7d3274ac",
   "metadata": {},
   "outputs": [
    {
     "data": {
      "image/png": "[encoded data removed]",
      "text/plain": [
       "<Figure size 864x864 with 1 Axes>"
      ]
     },
     "metadata": {},
     "output_type": "display_data"
    },
    {
     "data": {
      "application/javascript": [
       "\n",
       "            setTimeout(function() {\n",
       "                var nbb_cell_id = 146;\n",
       "                var nbb_unformatted_code = \"importances = rf.feature_importances_\\nindices = np.argsort(importances)\\nfeature_names = list(X_train.columns)\\n\\nplt.figure(figsize=(12, 12))\\nplt.title(\\\"Feature Importances\\\")\\nplt.barh(range(len(indices)), importances[indices], color=\\\"violet\\\", align=\\\"center\\\")\\nplt.yticks(range(len(indices)), [feature_names[i] for i in indices])\\nplt.xlabel(\\\"Relative Importance\\\")\\nplt.show()\";\n",
       "                var nbb_formatted_code = \"importances = rf.feature_importances_\\nindices = np.argsort(importances)\\nfeature_names = list(X_train.columns)\\n\\nplt.figure(figsize=(12, 12))\\nplt.title(\\\"Feature Importances\\\")\\nplt.barh(range(len(indices)), importances[indices], color=\\\"violet\\\", align=\\\"center\\\")\\nplt.yticks(range(len(indices)), [feature_names[i] for i in indices])\\nplt.xlabel(\\\"Relative Importance\\\")\\nplt.show()\";\n",
       "                var nbb_cells = Jupyter.notebook.get_cells();\n",
       "                for (var i = 0; i < nbb_cells.length; ++i) {\n",
       "                    if (nbb_cells[i].input_prompt_number == nbb_cell_id) {\n",
       "                        if (nbb_cells[i].get_text() == nbb_unformatted_code) {\n",
       "                             nbb_cells[i].set_text(nbb_formatted_code);\n",
       "                        }\n",
       "                        break;\n",
       "                    }\n",
       "                }\n",
       "            }, 500);\n",
       "            "
      ],
      "text/plain": [
       "<IPython.core.display.Javascript object>"
      ]
     },
     "metadata": {},
     "output_type": "display_data"
    }
   ],
   "source": [
    "importances = rf.feature_importances_\n",
    "indices = np.argsort(importances)\n",
    "feature_names = list(X_train.columns)\n",
    "\n",
    "plt.figure(figsize=(12, 12))\n",
    "plt.title(\"Feature Importances\")\n",
    "plt.barh(range(len(indices)), importances[indices], color=\"violet\", align=\"center\")\n",
    "plt.yticks(range(len(indices)), [feature_names[i] for i in indices])\n",
    "plt.xlabel(\"Relative Importance\")\n",
    "plt.show()"
   ]
  },
  {
   "cell_type": "markdown",
   "id": "112a0a57",
   "metadata": {},
   "source": [
    "- Tenure is given the highest feature importance\n",
    "- Most of the newly created features have been given importance in model building with user_count_ss with much higher significance"
   ]
  },
  {
   "cell_type": "code",
   "execution_count": 147,
   "id": "0e035963",
   "metadata": {},
   "outputs": [
    {
     "data": {
      "text/plain": [
       "RandomForestClassifier(class_weight={0: 17, 1: 83},\n",
       "                       max_features=0.6000000000000001, max_samples=0.7,\n",
       "                       min_samples_leaf=6, n_estimators=206, random_state=1)"
      ]
     },
     "execution_count": 147,
     "metadata": {},
     "output_type": "execute_result"
    },
    {
     "data": {
      "application/javascript": [
       "\n",
       "            setTimeout(function() {\n",
       "                var nbb_cell_id = 147;\n",
       "                var nbb_unformatted_code = \"# Choose the type of classifier\\nrf_tuned = RandomForestClassifier(class_weight={0: 17, 1: 83}, random_state=1)\\n\\n# Grid of parameters to choose from\\nparameters = {\\n    \\\"n_estimators\\\": [206],\\n    \\\"min_samples_leaf\\\": [5, 6, 7],\\n    \\\"max_samples\\\": [0.5, 0.6, 0.7],\\n    \\\"max_features\\\": np.arange(0.2, 0.7, 0.1),\\n}\\n\\n# Run the grid search\\ngrid_obj = GridSearchCV(rf_tuned, parameters, scoring=\\\"recall\\\", cv=5, n_jobs=-1)\\ngrid_obj = grid_obj.fit(X_train, y_train)\\n\\n# Set the classifier to the best combination of parameters\\nrf_tuned = grid_obj.best_estimator_\\n\\n# Fit the best algorithm to the data\\nrf_tuned.fit(X_train, y_train)\";\n",
       "                var nbb_formatted_code = \"# Choose the type of classifier\\nrf_tuned = RandomForestClassifier(class_weight={0: 17, 1: 83}, random_state=1)\\n\\n# Grid of parameters to choose from\\nparameters = {\\n    \\\"n_estimators\\\": [206],\\n    \\\"min_samples_leaf\\\": [5, 6, 7],\\n    \\\"max_samples\\\": [0.5, 0.6, 0.7],\\n    \\\"max_features\\\": np.arange(0.2, 0.7, 0.1),\\n}\\n\\n# Run the grid search\\ngrid_obj = GridSearchCV(rf_tuned, parameters, scoring=\\\"recall\\\", cv=5, n_jobs=-1)\\ngrid_obj = grid_obj.fit(X_train, y_train)\\n\\n# Set the classifier to the best combination of parameters\\nrf_tuned = grid_obj.best_estimator_\\n\\n# Fit the best algorithm to the data\\nrf_tuned.fit(X_train, y_train)\";\n",
       "                var nbb_cells = Jupyter.notebook.get_cells();\n",
       "                for (var i = 0; i < nbb_cells.length; ++i) {\n",
       "                    if (nbb_cells[i].input_prompt_number == nbb_cell_id) {\n",
       "                        if (nbb_cells[i].get_text() == nbb_unformatted_code) {\n",
       "                             nbb_cells[i].set_text(nbb_formatted_code);\n",
       "                        }\n",
       "                        break;\n",
       "                    }\n",
       "                }\n",
       "            }, 500);\n",
       "            "
      ],
      "text/plain": [
       "<IPython.core.display.Javascript object>"
      ]
     },
     "metadata": {},
     "output_type": "display_data"
    }
   ],
   "source": [
    "# Choose the type of classifier\n",
    "rf_tuned = RandomForestClassifier(class_weight={0: 17, 1: 83}, random_state=1)\n",
    "\n",
    "# Grid of parameters to choose from\n",
    "parameters = {\n",
    "    \"n_estimators\": [206],\n",
    "    \"min_samples_leaf\": [5, 6, 7],\n",
    "    \"max_samples\": [0.5, 0.6, 0.7],\n",
    "    \"max_features\": np.arange(0.2, 0.7, 0.1),\n",
    "}\n",
    "\n",
    "# Run the grid search\n",
    "grid_obj = GridSearchCV(rf_tuned, parameters, scoring=\"recall\", cv=5, n_jobs=-1)\n",
    "grid_obj = grid_obj.fit(X_train, y_train)\n",
    "\n",
    "# Set the classifier to the best combination of parameters\n",
    "rf_tuned = grid_obj.best_estimator_\n",
    "\n",
    "# Fit the best algorithm to the data\n",
    "rf_tuned.fit(X_train, y_train)"
   ]
  },
  {
   "cell_type": "code",
   "execution_count": 148,
   "id": "8014636d",
   "metadata": {},
   "outputs": [
    {
     "name": "stdout",
     "output_type": "stream",
     "text": [
      "Training Performance :\n",
      "   Accuracy  Recall  Precision   F1\n",
      "0      0.96    0.96       0.83 0.89\n",
      "\n",
      "Validation Performace :\n",
      "   Accuracy  Recall  Precision   F1\n",
      "0      0.94    0.88       0.77 0.82 \n",
      "\n"
     ]
    },
    {
     "data": {
      "image/png": "[encoded data removed]",
      "text/plain": [
       "<Figure size 432x288 with 2 Axes>"
      ]
     },
     "metadata": {},
     "output_type": "display_data"
    },
    {
     "data": {
      "application/javascript": [
       "\n",
       "            setTimeout(function() {\n",
       "                var nbb_cell_id = 148;\n",
       "                var nbb_unformatted_code = \"# Calculating different metrics\\n\\nprint(\\\"Training Performance :\\\")\\nrf_tuned_train_perf = model_performance_classification(rf_tuned, X_train, y_train)\\nprint(rf_tuned_train_perf)\\n\\nprint(\\\"\\\\nValidation Performace :\\\")\\nrf_tuned_val_perf = model_performance_classification(rf_tuned, X_val, y_val)\\nprint(rf_tuned_val_perf, \\\"\\\\n\\\")\\n\\nconfusion_matrix_sklearn(rf_tuned, X_val, y_val)\";\n",
       "                var nbb_formatted_code = \"# Calculating different metrics\\n\\nprint(\\\"Training Performance :\\\")\\nrf_tuned_train_perf = model_performance_classification(rf_tuned, X_train, y_train)\\nprint(rf_tuned_train_perf)\\n\\nprint(\\\"\\\\nValidation Performace :\\\")\\nrf_tuned_val_perf = model_performance_classification(rf_tuned, X_val, y_val)\\nprint(rf_tuned_val_perf, \\\"\\\\n\\\")\\n\\nconfusion_matrix_sklearn(rf_tuned, X_val, y_val)\";\n",
       "                var nbb_cells = Jupyter.notebook.get_cells();\n",
       "                for (var i = 0; i < nbb_cells.length; ++i) {\n",
       "                    if (nbb_cells[i].input_prompt_number == nbb_cell_id) {\n",
       "                        if (nbb_cells[i].get_text() == nbb_unformatted_code) {\n",
       "                             nbb_cells[i].set_text(nbb_formatted_code);\n",
       "                        }\n",
       "                        break;\n",
       "                    }\n",
       "                }\n",
       "            }, 500);\n",
       "            "
      ],
      "text/plain": [
       "<IPython.core.display.Javascript object>"
      ]
     },
     "metadata": {},
     "output_type": "display_data"
    }
   ],
   "source": [
    "# Calculating different metrics\n",
    "\n",
    "print(\"Training Performance :\")\n",
    "rf_tuned_train_perf = model_performance_classification(rf_tuned, X_train, y_train)\n",
    "print(rf_tuned_train_perf)\n",
    "\n",
    "print(\"\\nValidation Performace :\")\n",
    "rf_tuned_val_perf = model_performance_classification(rf_tuned, X_val, y_val)\n",
    "print(rf_tuned_val_perf, \"\\n\")\n",
    "\n",
    "confusion_matrix_sklearn(rf_tuned, X_val, y_val)"
   ]
  },
  {
   "cell_type": "markdown",
   "id": "fb609c53",
   "metadata": {},
   "source": [
    "- Better performance on the train data \n",
    "- Not so generalized performance on the validation data"
   ]
  },
  {
   "cell_type": "markdown",
   "id": "f6937a44",
   "metadata": {},
   "source": [
    "## XGBoost Classifier"
   ]
  },
  {
   "cell_type": "code",
   "execution_count": 149,
   "id": "96fceb7d",
   "metadata": {},
   "outputs": [
    {
     "data": {
      "text/plain": [
       "XGBClassifier(base_score=0.5, booster='gbtree', colsample_bylevel=1,\n",
       "              colsample_bynode=1, colsample_bytree=1, eval_metric='logloss',\n",
       "              gamma=0, gpu_id=-1, importance_type='gain',\n",
       "              interaction_constraints='', learning_rate=0.300000012,\n",
       "              max_delta_step=0, max_depth=6, min_child_weight=1, missing=nan,\n",
       "              monotone_constraints='()', n_estimators=100, n_jobs=8,\n",
       "              num_parallel_tree=1, random_state=1, reg_alpha=0, reg_lambda=1,\n",
       "              scale_pos_weight=1, subsample=1, tree_method='exact',\n",
       "              validate_parameters=1, verbosity=None)"
      ]
     },
     "execution_count": 149,
     "metadata": {},
     "output_type": "execute_result"
    },
    {
     "data": {
      "application/javascript": [
       "\n",
       "            setTimeout(function() {\n",
       "                var nbb_cell_id = 149;\n",
       "                var nbb_unformatted_code = \"# Fitting the model\\nxgb = XGBClassifier(random_state=1, eval_metric=\\\"logloss\\\")\\nxgb.fit(X_train, y_train)\";\n",
       "                var nbb_formatted_code = \"# Fitting the model\\nxgb = XGBClassifier(random_state=1, eval_metric=\\\"logloss\\\")\\nxgb.fit(X_train, y_train)\";\n",
       "                var nbb_cells = Jupyter.notebook.get_cells();\n",
       "                for (var i = 0; i < nbb_cells.length; ++i) {\n",
       "                    if (nbb_cells[i].input_prompt_number == nbb_cell_id) {\n",
       "                        if (nbb_cells[i].get_text() == nbb_unformatted_code) {\n",
       "                             nbb_cells[i].set_text(nbb_formatted_code);\n",
       "                        }\n",
       "                        break;\n",
       "                    }\n",
       "                }\n",
       "            }, 500);\n",
       "            "
      ],
      "text/plain": [
       "<IPython.core.display.Javascript object>"
      ]
     },
     "metadata": {},
     "output_type": "display_data"
    }
   ],
   "source": [
    "# Fitting the model\n",
    "xgb = XGBClassifier(random_state=1, eval_metric=\"logloss\")\n",
    "xgb.fit(X_train, y_train)"
   ]
  },
  {
   "cell_type": "code",
   "execution_count": 150,
   "id": "75c6d022",
   "metadata": {},
   "outputs": [
    {
     "name": "stdout",
     "output_type": "stream",
     "text": [
      "Training Performance :\n",
      "   Accuracy  Recall  Precision   F1\n",
      "0      1.00    1.00       1.00 1.00\n",
      "\n",
      "Validation Performace :\n",
      "   Accuracy  Recall  Precision   F1\n",
      "0      0.97    0.88       0.95 0.92 \n",
      "\n"
     ]
    },
    {
     "data": {
      "image/png": "[encoded data removed]",
      "text/plain": [
       "<Figure size 432x288 with 2 Axes>"
      ]
     },
     "metadata": {},
     "output_type": "display_data"
    },
    {
     "data": {
      "application/javascript": [
       "\n",
       "            setTimeout(function() {\n",
       "                var nbb_cell_id = 150;\n",
       "                var nbb_unformatted_code = \"# Calculating different metrics\\n\\nprint(\\\"Training Performance :\\\")\\nxgb_train_perf = model_performance_classification(xgb, X_train, y_train)\\nprint(xgb_train_perf)\\n\\nprint(\\\"\\\\nValidation Performace :\\\")\\nxgb_val_perf = model_performance_classification(xgb, X_val, y_val)\\nprint(xgb_val_perf, \\\"\\\\n\\\")\\n\\nconfusion_matrix_sklearn(xgb, X_val, y_val)\";\n",
       "                var nbb_formatted_code = \"# Calculating different metrics\\n\\nprint(\\\"Training Performance :\\\")\\nxgb_train_perf = model_performance_classification(xgb, X_train, y_train)\\nprint(xgb_train_perf)\\n\\nprint(\\\"\\\\nValidation Performace :\\\")\\nxgb_val_perf = model_performance_classification(xgb, X_val, y_val)\\nprint(xgb_val_perf, \\\"\\\\n\\\")\\n\\nconfusion_matrix_sklearn(xgb, X_val, y_val)\";\n",
       "                var nbb_cells = Jupyter.notebook.get_cells();\n",
       "                for (var i = 0; i < nbb_cells.length; ++i) {\n",
       "                    if (nbb_cells[i].input_prompt_number == nbb_cell_id) {\n",
       "                        if (nbb_cells[i].get_text() == nbb_unformatted_code) {\n",
       "                             nbb_cells[i].set_text(nbb_formatted_code);\n",
       "                        }\n",
       "                        break;\n",
       "                    }\n",
       "                }\n",
       "            }, 500);\n",
       "            "
      ],
      "text/plain": [
       "<IPython.core.display.Javascript object>"
      ]
     },
     "metadata": {},
     "output_type": "display_data"
    }
   ],
   "source": [
    "# Calculating different metrics\n",
    "\n",
    "print(\"Training Performance :\")\n",
    "xgb_train_perf = model_performance_classification(xgb, X_train, y_train)\n",
    "print(xgb_train_perf)\n",
    "\n",
    "print(\"\\nValidation Performace :\")\n",
    "xgb_val_perf = model_performance_classification(xgb, X_val, y_val)\n",
    "print(xgb_val_perf, \"\\n\")\n",
    "\n",
    "confusion_matrix_sklearn(xgb, X_val, y_val)"
   ]
  },
  {
   "cell_type": "markdown",
   "id": "c9f9abad",
   "metadata": {},
   "source": [
    "- Model overfit on the train data\n",
    "- Precision much higher than Recall"
   ]
  },
  {
   "cell_type": "markdown",
   "id": "30c0c804",
   "metadata": {},
   "source": [
    "### Hyperparameter tuning"
   ]
  },
  {
   "cell_type": "code",
   "execution_count": 151,
   "id": "fcf8b263",
   "metadata": {},
   "outputs": [
    {
     "data": {
      "text/plain": [
       "XGBClassifier(base_score=0.5, booster='gbtree', colsample_bylevel=0.5,\n",
       "              colsample_bynode=1, colsample_bytree=0.9, eval_metric='logloss',\n",
       "              gamma=3, gpu_id=-1, importance_type='gain',\n",
       "              interaction_constraints='', learning_rate=0.2, max_delta_step=0,\n",
       "              max_depth=6, min_child_weight=1, missing=nan,\n",
       "              monotone_constraints='()', n_estimators=90, n_jobs=8,\n",
       "              num_parallel_tree=1, random_state=1, reg_alpha=0, reg_lambda=1,\n",
       "              scale_pos_weight=5, subsample=1, tree_method='exact',\n",
       "              validate_parameters=1, verbosity=None)"
      ]
     },
     "execution_count": 151,
     "metadata": {},
     "output_type": "execute_result"
    },
    {
     "data": {
      "application/javascript": [
       "\n",
       "            setTimeout(function() {\n",
       "                var nbb_cell_id = 151;\n",
       "                var nbb_unformatted_code = \"# Choose the type of classifier.\\nxgb_tuned = XGBClassifier(random_state=1, eval_metric=\\\"logloss\\\")\\n\\n# Grid of parameters to choose from\\nparameters = {\\n    \\\"n_estimators\\\": [90],  # np.arange(10, 100, 10),\\n    \\\"scale_pos_weight\\\": [5],  # [0, 1, 2, 5],\\n    \\\"subsample\\\": [1],  # [0.5, 0.7, 0.9, 1],\\n    \\\"learning_rate\\\": [0.2],  # [0.01, 0.1, 0.2, 0.05],\\n    \\\"gamma\\\": [3],  # [0, 1, 3],\\n    \\\"colsample_bytree\\\": [0.9],  # [0.5, 0.7, 0.9, 1],\\n    \\\"colsample_bylevel\\\": [0.5],  # [0.5, 0.7, 0.9, 1],\\n}\\n\\n# Run the grid search\\ngrid_obj = GridSearchCV(xgb_tuned, parameters, scoring=\\\"recall\\\", cv=5, n_jobs=-1)\\ngrid_obj = grid_obj.fit(X_train, y_train)\\n\\n# Set the clf to the best combination of parameters\\nxgb_tuned = grid_obj.best_estimator_\\n\\n# Fit the best algorithm to the data\\nxgb_tuned.fit(X_train, y_train)\";\n",
       "                var nbb_formatted_code = \"# Choose the type of classifier.\\nxgb_tuned = XGBClassifier(random_state=1, eval_metric=\\\"logloss\\\")\\n\\n# Grid of parameters to choose from\\nparameters = {\\n    \\\"n_estimators\\\": [90],  # np.arange(10, 100, 10),\\n    \\\"scale_pos_weight\\\": [5],  # [0, 1, 2, 5],\\n    \\\"subsample\\\": [1],  # [0.5, 0.7, 0.9, 1],\\n    \\\"learning_rate\\\": [0.2],  # [0.01, 0.1, 0.2, 0.05],\\n    \\\"gamma\\\": [3],  # [0, 1, 3],\\n    \\\"colsample_bytree\\\": [0.9],  # [0.5, 0.7, 0.9, 1],\\n    \\\"colsample_bylevel\\\": [0.5],  # [0.5, 0.7, 0.9, 1],\\n}\\n\\n# Run the grid search\\ngrid_obj = GridSearchCV(xgb_tuned, parameters, scoring=\\\"recall\\\", cv=5, n_jobs=-1)\\ngrid_obj = grid_obj.fit(X_train, y_train)\\n\\n# Set the clf to the best combination of parameters\\nxgb_tuned = grid_obj.best_estimator_\\n\\n# Fit the best algorithm to the data\\nxgb_tuned.fit(X_train, y_train)\";\n",
       "                var nbb_cells = Jupyter.notebook.get_cells();\n",
       "                for (var i = 0; i < nbb_cells.length; ++i) {\n",
       "                    if (nbb_cells[i].input_prompt_number == nbb_cell_id) {\n",
       "                        if (nbb_cells[i].get_text() == nbb_unformatted_code) {\n",
       "                             nbb_cells[i].set_text(nbb_formatted_code);\n",
       "                        }\n",
       "                        break;\n",
       "                    }\n",
       "                }\n",
       "            }, 500);\n",
       "            "
      ],
      "text/plain": [
       "<IPython.core.display.Javascript object>"
      ]
     },
     "metadata": {},
     "output_type": "display_data"
    }
   ],
   "source": [
    "# Choose the type of classifier.\n",
    "xgb_tuned = XGBClassifier(random_state=1, eval_metric=\"logloss\")\n",
    "\n",
    "# Grid of parameters to choose from\n",
    "parameters = {\n",
    "    \"n_estimators\": [90],  # np.arange(10, 100, 10),\n",
    "    \"scale_pos_weight\": [5],  # [0, 1, 2, 5],\n",
    "    \"subsample\": [1],  # [0.5, 0.7, 0.9, 1],\n",
    "    \"learning_rate\": [0.2],  # [0.01, 0.1, 0.2, 0.05],\n",
    "    \"gamma\": [3],  # [0, 1, 3],\n",
    "    \"colsample_bytree\": [0.9],  # [0.5, 0.7, 0.9, 1],\n",
    "    \"colsample_bylevel\": [0.5],  # [0.5, 0.7, 0.9, 1],\n",
    "}\n",
    "\n",
    "# Run the grid search\n",
    "grid_obj = GridSearchCV(xgb_tuned, parameters, scoring=\"recall\", cv=5, n_jobs=-1)\n",
    "grid_obj = grid_obj.fit(X_train, y_train)\n",
    "\n",
    "# Set the clf to the best combination of parameters\n",
    "xgb_tuned = grid_obj.best_estimator_\n",
    "\n",
    "# Fit the best algorithm to the data\n",
    "xgb_tuned.fit(X_train, y_train)"
   ]
  },
  {
   "cell_type": "code",
   "execution_count": 152,
   "id": "71128eb2",
   "metadata": {},
   "outputs": [
    {
     "name": "stdout",
     "output_type": "stream",
     "text": [
      "Training Performance :\n",
      "   Accuracy  Recall  Precision   F1\n",
      "0      0.99    1.00       0.93 0.97\n",
      "\n",
      "Validation Performace :\n",
      "   Accuracy  Recall  Precision   F1\n",
      "0      0.95    0.93       0.82 0.87 \n",
      "\n"
     ]
    },
    {
     "data": {
      "image/png": "[encoded data removed]",
      "text/plain": [
       "<Figure size 432x288 with 2 Axes>"
      ]
     },
     "metadata": {},
     "output_type": "display_data"
    },
    {
     "data": {
      "application/javascript": [
       "\n",
       "            setTimeout(function() {\n",
       "                var nbb_cell_id = 152;\n",
       "                var nbb_unformatted_code = \"# Calculating different metrics\\n\\nprint(\\\"Training Performance :\\\")\\nxgb_tuned_train_perf = model_performance_classification(xgb_tuned, X_train, y_train)\\nprint(xgb_tuned_train_perf)\\n\\nprint(\\\"\\\\nValidation Performace :\\\")\\nxgb_tuned_val_perf = model_performance_classification(xgb_tuned, X_val, y_val)\\nprint(xgb_tuned_val_perf, \\\"\\\\n\\\")\\n\\nconfusion_matrix_sklearn(xgb_tuned, X_val, y_val)\";\n",
       "                var nbb_formatted_code = \"# Calculating different metrics\\n\\nprint(\\\"Training Performance :\\\")\\nxgb_tuned_train_perf = model_performance_classification(xgb_tuned, X_train, y_train)\\nprint(xgb_tuned_train_perf)\\n\\nprint(\\\"\\\\nValidation Performace :\\\")\\nxgb_tuned_val_perf = model_performance_classification(xgb_tuned, X_val, y_val)\\nprint(xgb_tuned_val_perf, \\\"\\\\n\\\")\\n\\nconfusion_matrix_sklearn(xgb_tuned, X_val, y_val)\";\n",
       "                var nbb_cells = Jupyter.notebook.get_cells();\n",
       "                for (var i = 0; i < nbb_cells.length; ++i) {\n",
       "                    if (nbb_cells[i].input_prompt_number == nbb_cell_id) {\n",
       "                        if (nbb_cells[i].get_text() == nbb_unformatted_code) {\n",
       "                             nbb_cells[i].set_text(nbb_formatted_code);\n",
       "                        }\n",
       "                        break;\n",
       "                    }\n",
       "                }\n",
       "            }, 500);\n",
       "            "
      ],
      "text/plain": [
       "<IPython.core.display.Javascript object>"
      ]
     },
     "metadata": {},
     "output_type": "display_data"
    }
   ],
   "source": [
    "# Calculating different metrics\n",
    "\n",
    "print(\"Training Performance :\")\n",
    "xgb_tuned_train_perf = model_performance_classification(xgb_tuned, X_train, y_train)\n",
    "print(xgb_tuned_train_perf)\n",
    "\n",
    "print(\"\\nValidation Performace :\")\n",
    "xgb_tuned_val_perf = model_performance_classification(xgb_tuned, X_val, y_val)\n",
    "print(xgb_tuned_val_perf, \"\\n\")\n",
    "\n",
    "confusion_matrix_sklearn(xgb_tuned, X_val, y_val)"
   ]
  },
  {
   "cell_type": "markdown",
   "id": "04536f9d",
   "metadata": {},
   "source": [
    "- Model overfit on the train data\n",
    "- Highest Recall achieved so far"
   ]
  },
  {
   "cell_type": "markdown",
   "id": "53bb0c2d",
   "metadata": {},
   "source": [
    "### Feature importance of XGBoost (Tuned)"
   ]
  },
  {
   "cell_type": "code",
   "execution_count": 153,
   "id": "e9dbae31",
   "metadata": {},
   "outputs": [
    {
     "name": "stdout",
     "output_type": "stream",
     "text": [
      "                         Imp\n",
      "Tenure                  0.14\n",
      "Complain_ly             0.08\n",
      "Marital_Status_Single   0.05\n",
      "account_segment         0.04\n",
      "Single_M                0.04\n",
      "City_Tier               0.04\n",
      "CC_Agent_Score          0.04\n",
      "COD_M                   0.03\n",
      "Day_Since_CC_connect    0.03\n",
      "CC_M                    0.03\n",
      "rev_per_month           0.03\n",
      "Login_device            0.03\n",
      "Computer_M              0.03\n",
      "coupon_used_for_payment 0.03\n",
      "Account_user_count      0.03\n",
      "DC_M                    0.03\n",
      "Payment                 0.03\n",
      "Gender_Male             0.02\n",
      "CC_Contacted_LY         0.02\n",
      "Married_M               0.02\n",
      "user_count_ss           0.02\n",
      "Mobile_M                0.02\n",
      "Marital_Status_Married  0.02\n",
      "cashback                0.02\n",
      "rev_growth_yoy          0.02\n",
      "Ewallet_M               0.02\n",
      "Service_Score           0.02\n",
      "Other_device_M          0.02\n",
      "UPI_M                   0.02\n",
      "Divorced_M              0.01\n"
     ]
    },
    {
     "data": {
      "application/javascript": [
       "\n",
       "            setTimeout(function() {\n",
       "                var nbb_cell_id = 153;\n",
       "                var nbb_unformatted_code = \"# Importance of features in the model building\\n\\nprint(\\n    pd.DataFrame(\\n        xgb_tuned.feature_importances_, columns=[\\\"Imp\\\"], index=X_train.columns\\n    ).sort_values(by=\\\"Imp\\\", ascending=False)\\n)\";\n",
       "                var nbb_formatted_code = \"# Importance of features in the model building\\n\\nprint(\\n    pd.DataFrame(\\n        xgb_tuned.feature_importances_, columns=[\\\"Imp\\\"], index=X_train.columns\\n    ).sort_values(by=\\\"Imp\\\", ascending=False)\\n)\";\n",
       "                var nbb_cells = Jupyter.notebook.get_cells();\n",
       "                for (var i = 0; i < nbb_cells.length; ++i) {\n",
       "                    if (nbb_cells[i].input_prompt_number == nbb_cell_id) {\n",
       "                        if (nbb_cells[i].get_text() == nbb_unformatted_code) {\n",
       "                             nbb_cells[i].set_text(nbb_formatted_code);\n",
       "                        }\n",
       "                        break;\n",
       "                    }\n",
       "                }\n",
       "            }, 500);\n",
       "            "
      ],
      "text/plain": [
       "<IPython.core.display.Javascript object>"
      ]
     },
     "metadata": {},
     "output_type": "display_data"
    }
   ],
   "source": [
    "# Importance of features in the model building\n",
    "\n",
    "print(\n",
    "    pd.DataFrame(\n",
    "        xgb_tuned.feature_importances_, columns=[\"Imp\"], index=X_train.columns\n",
    "    ).sort_values(by=\"Imp\", ascending=False)\n",
    ")"
   ]
  },
  {
   "cell_type": "code",
   "execution_count": 154,
   "id": "7d93b120",
   "metadata": {},
   "outputs": [
    {
     "data": {
      "image/png": "[encoded data removed]",
      "text/plain": [
       "<Figure size 864x864 with 1 Axes>"
      ]
     },
     "metadata": {},
     "output_type": "display_data"
    },
    {
     "data": {
      "application/javascript": [
       "\n",
       "            setTimeout(function() {\n",
       "                var nbb_cell_id = 154;\n",
       "                var nbb_unformatted_code = \"importances = xgb_tuned.feature_importances_\\nindices = np.argsort(importances)\\nfeature_names = list(X_train.columns)\\n\\nplt.figure(figsize=(12, 12))\\nplt.title(\\\"Feature Importances\\\")\\nplt.barh(range(len(indices)), importances[indices], color=\\\"violet\\\", align=\\\"center\\\")\\nplt.yticks(range(len(indices)), [feature_names[i] for i in indices])\\nplt.xlabel(\\\"Relative Importance\\\")\\nplt.show()\";\n",
       "                var nbb_formatted_code = \"importances = xgb_tuned.feature_importances_\\nindices = np.argsort(importances)\\nfeature_names = list(X_train.columns)\\n\\nplt.figure(figsize=(12, 12))\\nplt.title(\\\"Feature Importances\\\")\\nplt.barh(range(len(indices)), importances[indices], color=\\\"violet\\\", align=\\\"center\\\")\\nplt.yticks(range(len(indices)), [feature_names[i] for i in indices])\\nplt.xlabel(\\\"Relative Importance\\\")\\nplt.show()\";\n",
       "                var nbb_cells = Jupyter.notebook.get_cells();\n",
       "                for (var i = 0; i < nbb_cells.length; ++i) {\n",
       "                    if (nbb_cells[i].input_prompt_number == nbb_cell_id) {\n",
       "                        if (nbb_cells[i].get_text() == nbb_unformatted_code) {\n",
       "                             nbb_cells[i].set_text(nbb_formatted_code);\n",
       "                        }\n",
       "                        break;\n",
       "                    }\n",
       "                }\n",
       "            }, 500);\n",
       "            "
      ],
      "text/plain": [
       "<IPython.core.display.Javascript object>"
      ]
     },
     "metadata": {},
     "output_type": "display_data"
    }
   ],
   "source": [
    "importances = xgb_tuned.feature_importances_\n",
    "indices = np.argsort(importances)\n",
    "feature_names = list(X_train.columns)\n",
    "\n",
    "plt.figure(figsize=(12, 12))\n",
    "plt.title(\"Feature Importances\")\n",
    "plt.barh(range(len(indices)), importances[indices], color=\"violet\", align=\"center\")\n",
    "plt.yticks(range(len(indices)), [feature_names[i] for i in indices])\n",
    "plt.xlabel(\"Relative Importance\")\n",
    "plt.show()"
   ]
  },
  {
   "cell_type": "markdown",
   "id": "3e4546ef",
   "metadata": {},
   "source": [
    "- Tenure is given the highest importance \n",
    "- Each newly created feature has some significance in model building "
   ]
  },
  {
   "cell_type": "markdown",
   "id": "a66fbb64",
   "metadata": {},
   "source": [
    "## Comparison of Train and Validation Performances"
   ]
  },
  {
   "cell_type": "code",
   "execution_count": 155,
   "id": "3e3ec66a",
   "metadata": {},
   "outputs": [
    {
     "data": {
      "application/javascript": [
       "\n",
       "            setTimeout(function() {\n",
       "                var nbb_cell_id = 155;\n",
       "                var nbb_unformatted_code = \"# Training performance comparison\\n# Creating a dataframe of training scores\\n\\nmodels_train_comp_df = pd.concat(\\n    [\\n        dtree_train_perf.T,\\n        dtree_tuned_train_perf.T,\\n        bagging_train_perf.T,\\n        bagging_tdtree_train_perf.T,\\n        bagging_tuned_tdtree_train_perf.T,\\n        bagging_tuned_dt_train_perf.T,\\n        rf_train_perf.T,\\n        rf_tuned_train_perf.T,\\n        xgb_train_perf.T,\\n        xgb_tuned_train_perf.T,\\n    ],\\n    axis=1,\\n)\\n\\nmodels_train_comp_df.columns = [\\n    \\\"Decision Tree\\\",\\n    \\\"Decision Tree Tuned\\\",\\n    \\\"Bagging with default parameters\\\",\\n    \\\"Bagging with base dtree_tuned\\\",\\n    \\\"Bagging Tuned with base dtree_tuned\\\",\\n    \\\"Bagging Tuned with base dtree\\\",\\n    \\\"Random Forest\\\",\\n    \\\"Random Forest Tuned\\\",\\n    \\\"XGBoost\\\",\\n    \\\"XGBoost Tuned\\\",\\n]\";\n",
       "                var nbb_formatted_code = \"# Training performance comparison\\n# Creating a dataframe of training scores\\n\\nmodels_train_comp_df = pd.concat(\\n    [\\n        dtree_train_perf.T,\\n        dtree_tuned_train_perf.T,\\n        bagging_train_perf.T,\\n        bagging_tdtree_train_perf.T,\\n        bagging_tuned_tdtree_train_perf.T,\\n        bagging_tuned_dt_train_perf.T,\\n        rf_train_perf.T,\\n        rf_tuned_train_perf.T,\\n        xgb_train_perf.T,\\n        xgb_tuned_train_perf.T,\\n    ],\\n    axis=1,\\n)\\n\\nmodels_train_comp_df.columns = [\\n    \\\"Decision Tree\\\",\\n    \\\"Decision Tree Tuned\\\",\\n    \\\"Bagging with default parameters\\\",\\n    \\\"Bagging with base dtree_tuned\\\",\\n    \\\"Bagging Tuned with base dtree_tuned\\\",\\n    \\\"Bagging Tuned with base dtree\\\",\\n    \\\"Random Forest\\\",\\n    \\\"Random Forest Tuned\\\",\\n    \\\"XGBoost\\\",\\n    \\\"XGBoost Tuned\\\",\\n]\";\n",
       "                var nbb_cells = Jupyter.notebook.get_cells();\n",
       "                for (var i = 0; i < nbb_cells.length; ++i) {\n",
       "                    if (nbb_cells[i].input_prompt_number == nbb_cell_id) {\n",
       "                        if (nbb_cells[i].get_text() == nbb_unformatted_code) {\n",
       "                             nbb_cells[i].set_text(nbb_formatted_code);\n",
       "                        }\n",
       "                        break;\n",
       "                    }\n",
       "                }\n",
       "            }, 500);\n",
       "            "
      ],
      "text/plain": [
       "<IPython.core.display.Javascript object>"
      ]
     },
     "metadata": {},
     "output_type": "display_data"
    }
   ],
   "source": [
    "# Training performance comparison\n",
    "# Creating a dataframe of training scores\n",
    "\n",
    "models_train_comp_df = pd.concat(\n",
    "    [\n",
    "        dtree_train_perf.T,\n",
    "        dtree_tuned_train_perf.T,\n",
    "        bagging_train_perf.T,\n",
    "        bagging_tdtree_train_perf.T,\n",
    "        bagging_tuned_tdtree_train_perf.T,\n",
    "        bagging_tuned_dt_train_perf.T,\n",
    "        rf_train_perf.T,\n",
    "        rf_tuned_train_perf.T,\n",
    "        xgb_train_perf.T,\n",
    "        xgb_tuned_train_perf.T,\n",
    "    ],\n",
    "    axis=1,\n",
    ")\n",
    "\n",
    "models_train_comp_df.columns = [\n",
    "    \"Decision Tree\",\n",
    "    \"Decision Tree Tuned\",\n",
    "    \"Bagging with default parameters\",\n",
    "    \"Bagging with base dtree_tuned\",\n",
    "    \"Bagging Tuned with base dtree_tuned\",\n",
    "    \"Bagging Tuned with base dtree\",\n",
    "    \"Random Forest\",\n",
    "    \"Random Forest Tuned\",\n",
    "    \"XGBoost\",\n",
    "    \"XGBoost Tuned\",\n",
    "]"
   ]
  },
  {
   "cell_type": "code",
   "execution_count": 156,
   "id": "fef48880",
   "metadata": {},
   "outputs": [
    {
     "data": {
      "application/javascript": [
       "\n",
       "            setTimeout(function() {\n",
       "                var nbb_cell_id = 156;\n",
       "                var nbb_unformatted_code = \"# Validation performance comparison\\n# Creating a dataframe of validation scores\\n\\nmodels_val_comp_df = pd.concat(\\n    [\\n        dtree_val_perf.T,\\n        dtree_tuned_val_perf.T,\\n        bagging_val_perf.T,\\n        bagging_tdtree_val_perf.T,\\n        bagging_tuned_tdtree_val_perf.T,\\n        bagging_tuned_dt_val_perf.T,\\n        rf_val_perf.T,\\n        rf_tuned_val_perf.T,\\n        xgb_val_perf.T,\\n        xgb_tuned_val_perf.T,\\n    ],\\n    axis=1,\\n)\\n\\nmodels_val_comp_df.columns = [\\n    \\\"Decision Tree\\\",\\n    \\\"Decision Tree Tuned\\\",\\n    \\\"Bagging with default parameters\\\",\\n    \\\"Bagging with base dtree_tuned\\\",\\n    \\\"Bagging Tuned with base dtree_tuned\\\",\\n    \\\"Bagging Tuned with dtree\\\",\\n    \\\"Random Forest\\\",\\n    \\\"Random Forest Tuned\\\",\\n    \\\"XGBoost\\\",\\n    \\\"XGBoost Tuned\\\",\\n]\";\n",
       "                var nbb_formatted_code = \"# Validation performance comparison\\n# Creating a dataframe of validation scores\\n\\nmodels_val_comp_df = pd.concat(\\n    [\\n        dtree_val_perf.T,\\n        dtree_tuned_val_perf.T,\\n        bagging_val_perf.T,\\n        bagging_tdtree_val_perf.T,\\n        bagging_tuned_tdtree_val_perf.T,\\n        bagging_tuned_dt_val_perf.T,\\n        rf_val_perf.T,\\n        rf_tuned_val_perf.T,\\n        xgb_val_perf.T,\\n        xgb_tuned_val_perf.T,\\n    ],\\n    axis=1,\\n)\\n\\nmodels_val_comp_df.columns = [\\n    \\\"Decision Tree\\\",\\n    \\\"Decision Tree Tuned\\\",\\n    \\\"Bagging with default parameters\\\",\\n    \\\"Bagging with base dtree_tuned\\\",\\n    \\\"Bagging Tuned with base dtree_tuned\\\",\\n    \\\"Bagging Tuned with dtree\\\",\\n    \\\"Random Forest\\\",\\n    \\\"Random Forest Tuned\\\",\\n    \\\"XGBoost\\\",\\n    \\\"XGBoost Tuned\\\",\\n]\";\n",
       "                var nbb_cells = Jupyter.notebook.get_cells();\n",
       "                for (var i = 0; i < nbb_cells.length; ++i) {\n",
       "                    if (nbb_cells[i].input_prompt_number == nbb_cell_id) {\n",
       "                        if (nbb_cells[i].get_text() == nbb_unformatted_code) {\n",
       "                             nbb_cells[i].set_text(nbb_formatted_code);\n",
       "                        }\n",
       "                        break;\n",
       "                    }\n",
       "                }\n",
       "            }, 500);\n",
       "            "
      ],
      "text/plain": [
       "<IPython.core.display.Javascript object>"
      ]
     },
     "metadata": {},
     "output_type": "display_data"
    }
   ],
   "source": [
    "# Validation performance comparison\n",
    "# Creating a dataframe of validation scores\n",
    "\n",
    "models_val_comp_df = pd.concat(\n",
    "    [\n",
    "        dtree_val_perf.T,\n",
    "        dtree_tuned_val_perf.T,\n",
    "        bagging_val_perf.T,\n",
    "        bagging_tdtree_val_perf.T,\n",
    "        bagging_tuned_tdtree_val_perf.T,\n",
    "        bagging_tuned_dt_val_perf.T,\n",
    "        rf_val_perf.T,\n",
    "        rf_tuned_val_perf.T,\n",
    "        xgb_val_perf.T,\n",
    "        xgb_tuned_val_perf.T,\n",
    "    ],\n",
    "    axis=1,\n",
    ")\n",
    "\n",
    "models_val_comp_df.columns = [\n",
    "    \"Decision Tree\",\n",
    "    \"Decision Tree Tuned\",\n",
    "    \"Bagging with default parameters\",\n",
    "    \"Bagging with base dtree_tuned\",\n",
    "    \"Bagging Tuned with base dtree_tuned\",\n",
    "    \"Bagging Tuned with dtree\",\n",
    "    \"Random Forest\",\n",
    "    \"Random Forest Tuned\",\n",
    "    \"XGBoost\",\n",
    "    \"XGBoost Tuned\",\n",
    "]"
   ]
  },
  {
   "cell_type": "code",
   "execution_count": 157,
   "id": "22e3b034",
   "metadata": {},
   "outputs": [
    {
     "name": "stdout",
     "output_type": "stream",
     "text": [
      "Training performance comparison :\n"
     ]
    },
    {
     "data": {
      "text/html": [
       "<div>\n",
       "<style scoped>\n",
       "    .dataframe tbody tr th:only-of-type {\n",
       "        vertical-align: middle;\n",
       "    }\n",
       "\n",
       "    .dataframe tbody tr th {\n",
       "        vertical-align: top;\n",
       "    }\n",
       "\n",
       "    .dataframe thead th {\n",
       "        text-align: right;\n",
       "    }\n",
       "</style>\n",
       "<table border=\"1\" class=\"dataframe\">\n",
       "  <thead>\n",
       "    <tr style=\"text-align: right;\">\n",
       "      <th></th>\n",
       "      <th>Decision Tree</th>\n",
       "      <th>Decision Tree Tuned</th>\n",
       "      <th>Bagging with default parameters</th>\n",
       "      <th>Bagging with base dtree_tuned</th>\n",
       "      <th>Bagging Tuned with base dtree_tuned</th>\n",
       "      <th>Bagging Tuned with base dtree</th>\n",
       "      <th>Random Forest</th>\n",
       "      <th>Random Forest Tuned</th>\n",
       "      <th>XGBoost</th>\n",
       "      <th>XGBoost Tuned</th>\n",
       "    </tr>\n",
       "  </thead>\n",
       "  <tbody>\n",
       "    <tr>\n",
       "      <th>Accuracy</th>\n",
       "      <td>1.00</td>\n",
       "      <td>0.87</td>\n",
       "      <td>1.00</td>\n",
       "      <td>0.87</td>\n",
       "      <td>0.87</td>\n",
       "      <td>1.00</td>\n",
       "      <td>1.00</td>\n",
       "      <td>0.96</td>\n",
       "      <td>1.00</td>\n",
       "      <td>0.99</td>\n",
       "    </tr>\n",
       "    <tr>\n",
       "      <th>Recall</th>\n",
       "      <td>1.00</td>\n",
       "      <td>0.76</td>\n",
       "      <td>0.99</td>\n",
       "      <td>0.82</td>\n",
       "      <td>0.81</td>\n",
       "      <td>1.00</td>\n",
       "      <td>1.00</td>\n",
       "      <td>0.96</td>\n",
       "      <td>1.00</td>\n",
       "      <td>1.00</td>\n",
       "    </tr>\n",
       "    <tr>\n",
       "      <th>Precision</th>\n",
       "      <td>1.00</td>\n",
       "      <td>0.58</td>\n",
       "      <td>0.99</td>\n",
       "      <td>0.59</td>\n",
       "      <td>0.59</td>\n",
       "      <td>1.00</td>\n",
       "      <td>1.00</td>\n",
       "      <td>0.83</td>\n",
       "      <td>1.00</td>\n",
       "      <td>0.93</td>\n",
       "    </tr>\n",
       "    <tr>\n",
       "      <th>F1</th>\n",
       "      <td>1.00</td>\n",
       "      <td>0.66</td>\n",
       "      <td>0.99</td>\n",
       "      <td>0.68</td>\n",
       "      <td>0.68</td>\n",
       "      <td>1.00</td>\n",
       "      <td>1.00</td>\n",
       "      <td>0.89</td>\n",
       "      <td>1.00</td>\n",
       "      <td>0.97</td>\n",
       "    </tr>\n",
       "  </tbody>\n",
       "</table>\n",
       "</div>"
      ],
      "text/plain": [
       "           Decision Tree  Decision Tree Tuned  \\\n",
       "Accuracy            1.00                 0.87   \n",
       "Recall              1.00                 0.76   \n",
       "Precision           1.00                 0.58   \n",
       "F1                  1.00                 0.66   \n",
       "\n",
       "           Bagging with default parameters  Bagging with base dtree_tuned  \\\n",
       "Accuracy                              1.00                           0.87   \n",
       "Recall                                0.99                           0.82   \n",
       "Precision                             0.99                           0.59   \n",
       "F1                                    0.99                           0.68   \n",
       "\n",
       "           Bagging Tuned with base dtree_tuned  Bagging Tuned with base dtree  \\\n",
       "Accuracy                                  0.87                           1.00   \n",
       "Recall                                    0.81                           1.00   \n",
       "Precision                                 0.59                           1.00   \n",
       "F1                                        0.68                           1.00   \n",
       "\n",
       "           Random Forest  Random Forest Tuned  XGBoost  XGBoost Tuned  \n",
       "Accuracy            1.00                 0.96     1.00           0.99  \n",
       "Recall              1.00                 0.96     1.00           1.00  \n",
       "Precision           1.00                 0.83     1.00           0.93  \n",
       "F1                  1.00                 0.89     1.00           0.97  "
      ]
     },
     "execution_count": 157,
     "metadata": {},
     "output_type": "execute_result"
    },
    {
     "data": {
      "application/javascript": [
       "\n",
       "            setTimeout(function() {\n",
       "                var nbb_cell_id = 157;\n",
       "                var nbb_unformatted_code = \"print(\\\"Training performance comparison :\\\")\\nmodels_train_comp_df\";\n",
       "                var nbb_formatted_code = \"print(\\\"Training performance comparison :\\\")\\nmodels_train_comp_df\";\n",
       "                var nbb_cells = Jupyter.notebook.get_cells();\n",
       "                for (var i = 0; i < nbb_cells.length; ++i) {\n",
       "                    if (nbb_cells[i].input_prompt_number == nbb_cell_id) {\n",
       "                        if (nbb_cells[i].get_text() == nbb_unformatted_code) {\n",
       "                             nbb_cells[i].set_text(nbb_formatted_code);\n",
       "                        }\n",
       "                        break;\n",
       "                    }\n",
       "                }\n",
       "            }, 500);\n",
       "            "
      ],
      "text/plain": [
       "<IPython.core.display.Javascript object>"
      ]
     },
     "metadata": {},
     "output_type": "display_data"
    }
   ],
   "source": [
    "print(\"Training performance comparison :\")\n",
    "models_train_comp_df"
   ]
  },
  {
   "cell_type": "code",
   "execution_count": 158,
   "id": "adc85a75",
   "metadata": {},
   "outputs": [
    {
     "name": "stdout",
     "output_type": "stream",
     "text": [
      "Validation performance comparison :\n"
     ]
    },
    {
     "data": {
      "text/html": [
       "<div>\n",
       "<style scoped>\n",
       "    .dataframe tbody tr th:only-of-type {\n",
       "        vertical-align: middle;\n",
       "    }\n",
       "\n",
       "    .dataframe tbody tr th {\n",
       "        vertical-align: top;\n",
       "    }\n",
       "\n",
       "    .dataframe thead th {\n",
       "        text-align: right;\n",
       "    }\n",
       "</style>\n",
       "<table border=\"1\" class=\"dataframe\">\n",
       "  <thead>\n",
       "    <tr style=\"text-align: right;\">\n",
       "      <th></th>\n",
       "      <th>Decision Tree</th>\n",
       "      <th>Decision Tree Tuned</th>\n",
       "      <th>Bagging with default parameters</th>\n",
       "      <th>Bagging with base dtree_tuned</th>\n",
       "      <th>Bagging Tuned with base dtree_tuned</th>\n",
       "      <th>Bagging Tuned with dtree</th>\n",
       "      <th>Random Forest</th>\n",
       "      <th>Random Forest Tuned</th>\n",
       "      <th>XGBoost</th>\n",
       "      <th>XGBoost Tuned</th>\n",
       "    </tr>\n",
       "  </thead>\n",
       "  <tbody>\n",
       "    <tr>\n",
       "      <th>Accuracy</th>\n",
       "      <td>0.95</td>\n",
       "      <td>0.87</td>\n",
       "      <td>0.96</td>\n",
       "      <td>0.88</td>\n",
       "      <td>0.88</td>\n",
       "      <td>0.97</td>\n",
       "      <td>0.97</td>\n",
       "      <td>0.94</td>\n",
       "      <td>0.97</td>\n",
       "      <td>0.95</td>\n",
       "    </tr>\n",
       "    <tr>\n",
       "      <th>Recall</th>\n",
       "      <td>0.86</td>\n",
       "      <td>0.74</td>\n",
       "      <td>0.83</td>\n",
       "      <td>0.84</td>\n",
       "      <td>0.81</td>\n",
       "      <td>0.88</td>\n",
       "      <td>0.87</td>\n",
       "      <td>0.88</td>\n",
       "      <td>0.88</td>\n",
       "      <td>0.93</td>\n",
       "    </tr>\n",
       "    <tr>\n",
       "      <th>Precision</th>\n",
       "      <td>0.85</td>\n",
       "      <td>0.58</td>\n",
       "      <td>0.92</td>\n",
       "      <td>0.61</td>\n",
       "      <td>0.61</td>\n",
       "      <td>0.95</td>\n",
       "      <td>0.97</td>\n",
       "      <td>0.77</td>\n",
       "      <td>0.95</td>\n",
       "      <td>0.82</td>\n",
       "    </tr>\n",
       "    <tr>\n",
       "      <th>F1</th>\n",
       "      <td>0.85</td>\n",
       "      <td>0.65</td>\n",
       "      <td>0.87</td>\n",
       "      <td>0.71</td>\n",
       "      <td>0.70</td>\n",
       "      <td>0.91</td>\n",
       "      <td>0.91</td>\n",
       "      <td>0.82</td>\n",
       "      <td>0.92</td>\n",
       "      <td>0.87</td>\n",
       "    </tr>\n",
       "  </tbody>\n",
       "</table>\n",
       "</div>"
      ],
      "text/plain": [
       "           Decision Tree  Decision Tree Tuned  \\\n",
       "Accuracy            0.95                 0.87   \n",
       "Recall              0.86                 0.74   \n",
       "Precision           0.85                 0.58   \n",
       "F1                  0.85                 0.65   \n",
       "\n",
       "           Bagging with default parameters  Bagging with base dtree_tuned  \\\n",
       "Accuracy                              0.96                           0.88   \n",
       "Recall                                0.83                           0.84   \n",
       "Precision                             0.92                           0.61   \n",
       "F1                                    0.87                           0.71   \n",
       "\n",
       "           Bagging Tuned with base dtree_tuned  Bagging Tuned with dtree  \\\n",
       "Accuracy                                  0.88                      0.97   \n",
       "Recall                                    0.81                      0.88   \n",
       "Precision                                 0.61                      0.95   \n",
       "F1                                        0.70                      0.91   \n",
       "\n",
       "           Random Forest  Random Forest Tuned  XGBoost  XGBoost Tuned  \n",
       "Accuracy            0.97                 0.94     0.97           0.95  \n",
       "Recall              0.87                 0.88     0.88           0.93  \n",
       "Precision           0.97                 0.77     0.95           0.82  \n",
       "F1                  0.91                 0.82     0.92           0.87  "
      ]
     },
     "execution_count": 158,
     "metadata": {},
     "output_type": "execute_result"
    },
    {
     "data": {
      "application/javascript": [
       "\n",
       "            setTimeout(function() {\n",
       "                var nbb_cell_id = 158;\n",
       "                var nbb_unformatted_code = \"print(\\\"Validation performance comparison :\\\")\\nmodels_val_comp_df\";\n",
       "                var nbb_formatted_code = \"print(\\\"Validation performance comparison :\\\")\\nmodels_val_comp_df\";\n",
       "                var nbb_cells = Jupyter.notebook.get_cells();\n",
       "                for (var i = 0; i < nbb_cells.length; ++i) {\n",
       "                    if (nbb_cells[i].input_prompt_number == nbb_cell_id) {\n",
       "                        if (nbb_cells[i].get_text() == nbb_unformatted_code) {\n",
       "                             nbb_cells[i].set_text(nbb_formatted_code);\n",
       "                        }\n",
       "                        break;\n",
       "                    }\n",
       "                }\n",
       "            }, 500);\n",
       "            "
      ],
      "text/plain": [
       "<IPython.core.display.Javascript object>"
      ]
     },
     "metadata": {},
     "output_type": "display_data"
    }
   ],
   "source": [
    "print(\"Validation performance comparison :\")\n",
    "models_val_comp_df"
   ]
  },
  {
   "cell_type": "markdown",
   "id": "058beab6",
   "metadata": {},
   "source": [
    "- Decision tree, Bagging and Random forest models with default parameters are overfit\n",
    "- Tuned decision tree is giving a generalized performance\n",
    "- Tuned bagging classifier with dtree_tuned as base estimator is generalizing well\n",
    "- Tuned random forest is also overfit\n",
    "- Tuned xgboost model is giving much higher recall than the model with default parameters"
   ]
  },
  {
   "cell_type": "markdown",
   "id": "fa799fb2",
   "metadata": {},
   "source": [
    "## Best Individual Models"
   ]
  },
  {
   "cell_type": "code",
   "execution_count": 159,
   "id": "9742c2e3",
   "metadata": {},
   "outputs": [
    {
     "data": {
      "application/javascript": [
       "\n",
       "            setTimeout(function() {\n",
       "                var nbb_cell_id = 159;\n",
       "                var nbb_unformatted_code = \"# Training performance comparison\\n# Creating a dataframe of training scores\\n\\nbest_models_train_comp_df = pd.concat(\\n    [bagging_tdtree_train_perf.T, bagging_tuned_tdtree_train_perf.T,], axis=1,\\n)\\n\\nbest_models_train_comp_df.columns = [\\n    \\\"Bagging with base dtree_tuned\\\",\\n    \\\"Bagging Tuned with base dtree_tuned\\\",\\n]\\n\\n# Validation performance comparison\\n# Creating a dataframe of training scores\\n\\nbest_models_val_comp_df = pd.concat(\\n    [bagging_tdtree_val_perf.T, bagging_tuned_tdtree_val_perf.T,], axis=1,\\n)\\n\\nbest_models_val_comp_df.columns = [\\n    \\\"Bagging with base dtree_tuned\\\",\\n    \\\"Bagging Tuned with base dtree_tuned\\\",\\n]\";\n",
       "                var nbb_formatted_code = \"# Training performance comparison\\n# Creating a dataframe of training scores\\n\\nbest_models_train_comp_df = pd.concat(\\n    [bagging_tdtree_train_perf.T, bagging_tuned_tdtree_train_perf.T,], axis=1,\\n)\\n\\nbest_models_train_comp_df.columns = [\\n    \\\"Bagging with base dtree_tuned\\\",\\n    \\\"Bagging Tuned with base dtree_tuned\\\",\\n]\\n\\n# Validation performance comparison\\n# Creating a dataframe of training scores\\n\\nbest_models_val_comp_df = pd.concat(\\n    [bagging_tdtree_val_perf.T, bagging_tuned_tdtree_val_perf.T,], axis=1,\\n)\\n\\nbest_models_val_comp_df.columns = [\\n    \\\"Bagging with base dtree_tuned\\\",\\n    \\\"Bagging Tuned with base dtree_tuned\\\",\\n]\";\n",
       "                var nbb_cells = Jupyter.notebook.get_cells();\n",
       "                for (var i = 0; i < nbb_cells.length; ++i) {\n",
       "                    if (nbb_cells[i].input_prompt_number == nbb_cell_id) {\n",
       "                        if (nbb_cells[i].get_text() == nbb_unformatted_code) {\n",
       "                             nbb_cells[i].set_text(nbb_formatted_code);\n",
       "                        }\n",
       "                        break;\n",
       "                    }\n",
       "                }\n",
       "            }, 500);\n",
       "            "
      ],
      "text/plain": [
       "<IPython.core.display.Javascript object>"
      ]
     },
     "metadata": {},
     "output_type": "display_data"
    }
   ],
   "source": [
    "# Training performance comparison\n",
    "# Creating a dataframe of training scores\n",
    "\n",
    "best_models_train_comp_df = pd.concat(\n",
    "    [bagging_tdtree_train_perf.T, bagging_tuned_tdtree_train_perf.T,], axis=1,\n",
    ")\n",
    "\n",
    "best_models_train_comp_df.columns = [\n",
    "    \"Bagging with base dtree_tuned\",\n",
    "    \"Bagging Tuned with base dtree_tuned\",\n",
    "]\n",
    "\n",
    "# Validation performance comparison\n",
    "# Creating a dataframe of training scores\n",
    "\n",
    "best_models_val_comp_df = pd.concat(\n",
    "    [bagging_tdtree_val_perf.T, bagging_tuned_tdtree_val_perf.T,], axis=1,\n",
    ")\n",
    "\n",
    "best_models_val_comp_df.columns = [\n",
    "    \"Bagging with base dtree_tuned\",\n",
    "    \"Bagging Tuned with base dtree_tuned\",\n",
    "]"
   ]
  },
  {
   "cell_type": "code",
   "execution_count": 160,
   "id": "119b6959",
   "metadata": {},
   "outputs": [
    {
     "name": "stdout",
     "output_type": "stream",
     "text": [
      "Training performance comparison :\n"
     ]
    },
    {
     "data": {
      "text/html": [
       "<div>\n",
       "<style scoped>\n",
       "    .dataframe tbody tr th:only-of-type {\n",
       "        vertical-align: middle;\n",
       "    }\n",
       "\n",
       "    .dataframe tbody tr th {\n",
       "        vertical-align: top;\n",
       "    }\n",
       "\n",
       "    .dataframe thead th {\n",
       "        text-align: right;\n",
       "    }\n",
       "</style>\n",
       "<table border=\"1\" class=\"dataframe\">\n",
       "  <thead>\n",
       "    <tr style=\"text-align: right;\">\n",
       "      <th></th>\n",
       "      <th>Bagging with base dtree_tuned</th>\n",
       "      <th>Bagging Tuned with base dtree_tuned</th>\n",
       "    </tr>\n",
       "  </thead>\n",
       "  <tbody>\n",
       "    <tr>\n",
       "      <th>Accuracy</th>\n",
       "      <td>0.87</td>\n",
       "      <td>0.87</td>\n",
       "    </tr>\n",
       "    <tr>\n",
       "      <th>Recall</th>\n",
       "      <td>0.82</td>\n",
       "      <td>0.81</td>\n",
       "    </tr>\n",
       "    <tr>\n",
       "      <th>Precision</th>\n",
       "      <td>0.59</td>\n",
       "      <td>0.59</td>\n",
       "    </tr>\n",
       "    <tr>\n",
       "      <th>F1</th>\n",
       "      <td>0.68</td>\n",
       "      <td>0.68</td>\n",
       "    </tr>\n",
       "  </tbody>\n",
       "</table>\n",
       "</div>"
      ],
      "text/plain": [
       "           Bagging with base dtree_tuned  Bagging Tuned with base dtree_tuned\n",
       "Accuracy                            0.87                                 0.87\n",
       "Recall                              0.82                                 0.81\n",
       "Precision                           0.59                                 0.59\n",
       "F1                                  0.68                                 0.68"
      ]
     },
     "execution_count": 160,
     "metadata": {},
     "output_type": "execute_result"
    },
    {
     "data": {
      "application/javascript": [
       "\n",
       "            setTimeout(function() {\n",
       "                var nbb_cell_id = 160;\n",
       "                var nbb_unformatted_code = \"print(\\\"Training performance comparison :\\\")\\nbest_models_train_comp_df\";\n",
       "                var nbb_formatted_code = \"print(\\\"Training performance comparison :\\\")\\nbest_models_train_comp_df\";\n",
       "                var nbb_cells = Jupyter.notebook.get_cells();\n",
       "                for (var i = 0; i < nbb_cells.length; ++i) {\n",
       "                    if (nbb_cells[i].input_prompt_number == nbb_cell_id) {\n",
       "                        if (nbb_cells[i].get_text() == nbb_unformatted_code) {\n",
       "                             nbb_cells[i].set_text(nbb_formatted_code);\n",
       "                        }\n",
       "                        break;\n",
       "                    }\n",
       "                }\n",
       "            }, 500);\n",
       "            "
      ],
      "text/plain": [
       "<IPython.core.display.Javascript object>"
      ]
     },
     "metadata": {},
     "output_type": "display_data"
    }
   ],
   "source": [
    "print(\"Training performance comparison :\")\n",
    "best_models_train_comp_df"
   ]
  },
  {
   "cell_type": "code",
   "execution_count": 161,
   "id": "f32455d8",
   "metadata": {},
   "outputs": [
    {
     "name": "stdout",
     "output_type": "stream",
     "text": [
      "Validation performance comparison :\n"
     ]
    },
    {
     "data": {
      "text/html": [
       "<div>\n",
       "<style scoped>\n",
       "    .dataframe tbody tr th:only-of-type {\n",
       "        vertical-align: middle;\n",
       "    }\n",
       "\n",
       "    .dataframe tbody tr th {\n",
       "        vertical-align: top;\n",
       "    }\n",
       "\n",
       "    .dataframe thead th {\n",
       "        text-align: right;\n",
       "    }\n",
       "</style>\n",
       "<table border=\"1\" class=\"dataframe\">\n",
       "  <thead>\n",
       "    <tr style=\"text-align: right;\">\n",
       "      <th></th>\n",
       "      <th>Bagging with base dtree_tuned</th>\n",
       "      <th>Bagging Tuned with base dtree_tuned</th>\n",
       "    </tr>\n",
       "  </thead>\n",
       "  <tbody>\n",
       "    <tr>\n",
       "      <th>Accuracy</th>\n",
       "      <td>0.88</td>\n",
       "      <td>0.88</td>\n",
       "    </tr>\n",
       "    <tr>\n",
       "      <th>Recall</th>\n",
       "      <td>0.84</td>\n",
       "      <td>0.81</td>\n",
       "    </tr>\n",
       "    <tr>\n",
       "      <th>Precision</th>\n",
       "      <td>0.61</td>\n",
       "      <td>0.61</td>\n",
       "    </tr>\n",
       "    <tr>\n",
       "      <th>F1</th>\n",
       "      <td>0.71</td>\n",
       "      <td>0.70</td>\n",
       "    </tr>\n",
       "  </tbody>\n",
       "</table>\n",
       "</div>"
      ],
      "text/plain": [
       "           Bagging with base dtree_tuned  Bagging Tuned with base dtree_tuned\n",
       "Accuracy                            0.88                                 0.88\n",
       "Recall                              0.84                                 0.81\n",
       "Precision                           0.61                                 0.61\n",
       "F1                                  0.71                                 0.70"
      ]
     },
     "execution_count": 161,
     "metadata": {},
     "output_type": "execute_result"
    },
    {
     "data": {
      "application/javascript": [
       "\n",
       "            setTimeout(function() {\n",
       "                var nbb_cell_id = 161;\n",
       "                var nbb_unformatted_code = \"print(\\\"Validation performance comparison :\\\")\\nbest_models_val_comp_df\";\n",
       "                var nbb_formatted_code = \"print(\\\"Validation performance comparison :\\\")\\nbest_models_val_comp_df\";\n",
       "                var nbb_cells = Jupyter.notebook.get_cells();\n",
       "                for (var i = 0; i < nbb_cells.length; ++i) {\n",
       "                    if (nbb_cells[i].input_prompt_number == nbb_cell_id) {\n",
       "                        if (nbb_cells[i].get_text() == nbb_unformatted_code) {\n",
       "                             nbb_cells[i].set_text(nbb_formatted_code);\n",
       "                        }\n",
       "                        break;\n",
       "                    }\n",
       "                }\n",
       "            }, 500);\n",
       "            "
      ],
      "text/plain": [
       "<IPython.core.display.Javascript object>"
      ]
     },
     "metadata": {},
     "output_type": "display_data"
    }
   ],
   "source": [
    "print(\"Validation performance comparison :\")\n",
    "best_models_val_comp_df"
   ]
  },
  {
   "cell_type": "markdown",
   "id": "27509738",
   "metadata": {},
   "source": [
    "- Both these models are generalizing well on the train and validation sets\n",
    "- Highest Recall achieved is 84 by Bagging Classifier with tuned decision tree as base estimator"
   ]
  },
  {
   "cell_type": "markdown",
   "id": "95aa489a",
   "metadata": {},
   "source": [
    "## Stacking Classifier"
   ]
  },
  {
   "cell_type": "markdown",
   "id": "94f0637a",
   "metadata": {},
   "source": [
    "- Will build stacking models with combinations of above models with tuned xgboost model as the final estimator to achieve higher Recall with good Precision scores\n",
    "- Compare the stacking model performances to identify the best model"
   ]
  },
  {
   "cell_type": "code",
   "execution_count": 162,
   "id": "676170d1",
   "metadata": {},
   "outputs": [
    {
     "data": {
      "text/plain": [
       "StackingClassifier(estimators=[('Bagging with base dtree_tuned',\n",
       "                                BaggingClassifier(base_estimator=DecisionTreeClassifier(class_weight={0: 0.2,\n",
       "                                                                                                      1: 0.8},\n",
       "                                                                                        max_depth=7,\n",
       "                                                                                        max_leaf_nodes=15,\n",
       "                                                                                        random_state=1),\n",
       "                                                  random_state=1)),\n",
       "                               ('Bagging Tuned with base dtree_tuned',\n",
       "                                BaggingClassifier(base_estimator=DecisionTreeClassifier(class_weight={0: 0.2,\n",
       "                                                                                                      1: 0.8},\n",
       "                                                                                        max_depth=7,\n",
       "                                                                                        max_leaf_node...\n",
       "                                                 eval_metric='logloss', gamma=3,\n",
       "                                                 gpu_id=-1,\n",
       "                                                 importance_type='gain',\n",
       "                                                 interaction_constraints='',\n",
       "                                                 learning_rate=0.2,\n",
       "                                                 max_delta_step=0, max_depth=6,\n",
       "                                                 min_child_weight=1,\n",
       "                                                 missing=nan,\n",
       "                                                 monotone_constraints='()',\n",
       "                                                 n_estimators=90, n_jobs=8,\n",
       "                                                 num_parallel_tree=1,\n",
       "                                                 random_state=1, reg_alpha=0,\n",
       "                                                 reg_lambda=1,\n",
       "                                                 scale_pos_weight=5,\n",
       "                                                 subsample=1,\n",
       "                                                 tree_method='exact',\n",
       "                                                 validate_parameters=1,\n",
       "                                                 verbosity=None))"
      ]
     },
     "execution_count": 162,
     "metadata": {},
     "output_type": "execute_result"
    },
    {
     "data": {
      "application/javascript": [
       "\n",
       "            setTimeout(function() {\n",
       "                var nbb_cell_id = 162;\n",
       "                var nbb_unformatted_code = \"# Stacking 1\\n# Building a stacking classifier with the best individual models\\n\\nestimators1 = [\\n    (\\\"Bagging with base dtree_tuned\\\", bagging_tdtree),\\n    (\\\"Bagging Tuned with base dtree_tuned\\\", bagging_tuned_tdtree),\\n]\\nfinal_estimator = xgb_tuned\\n\\nstacking_classifier1 = StackingClassifier(\\n    estimators=estimators1, final_estimator=final_estimator\\n)\\nstacking_classifier1.fit(X_train, y_train)\";\n",
       "                var nbb_formatted_code = \"# Stacking 1\\n# Building a stacking classifier with the best individual models\\n\\nestimators1 = [\\n    (\\\"Bagging with base dtree_tuned\\\", bagging_tdtree),\\n    (\\\"Bagging Tuned with base dtree_tuned\\\", bagging_tuned_tdtree),\\n]\\nfinal_estimator = xgb_tuned\\n\\nstacking_classifier1 = StackingClassifier(\\n    estimators=estimators1, final_estimator=final_estimator\\n)\\nstacking_classifier1.fit(X_train, y_train)\";\n",
       "                var nbb_cells = Jupyter.notebook.get_cells();\n",
       "                for (var i = 0; i < nbb_cells.length; ++i) {\n",
       "                    if (nbb_cells[i].input_prompt_number == nbb_cell_id) {\n",
       "                        if (nbb_cells[i].get_text() == nbb_unformatted_code) {\n",
       "                             nbb_cells[i].set_text(nbb_formatted_code);\n",
       "                        }\n",
       "                        break;\n",
       "                    }\n",
       "                }\n",
       "            }, 500);\n",
       "            "
      ],
      "text/plain": [
       "<IPython.core.display.Javascript object>"
      ]
     },
     "metadata": {},
     "output_type": "display_data"
    }
   ],
   "source": [
    "# Stacking 1\n",
    "# Building a stacking classifier with the best individual models\n",
    "\n",
    "estimators1 = [\n",
    "    (\"Bagging with base dtree_tuned\", bagging_tdtree),\n",
    "    (\"Bagging Tuned with base dtree_tuned\", bagging_tuned_tdtree),\n",
    "]\n",
    "final_estimator = xgb_tuned\n",
    "\n",
    "stacking_classifier1 = StackingClassifier(\n",
    "    estimators=estimators1, final_estimator=final_estimator\n",
    ")\n",
    "stacking_classifier1.fit(X_train, y_train)"
   ]
  },
  {
   "cell_type": "code",
   "execution_count": 163,
   "id": "64be1508",
   "metadata": {},
   "outputs": [
    {
     "name": "stdout",
     "output_type": "stream",
     "text": [
      "Training Performance :\n",
      "   Accuracy  Recall  Precision   F1\n",
      "0      0.85    0.81       0.53 0.64\n",
      "\n",
      "Validation Performace :\n",
      "   Accuracy  Recall  Precision   F1\n",
      "0      0.86    0.80       0.55 0.65\n"
     ]
    },
    {
     "data": {
      "image/png": "[encoded data removed]",
      "text/plain": [
       "<Figure size 432x288 with 2 Axes>"
      ]
     },
     "metadata": {},
     "output_type": "display_data"
    },
    {
     "data": {
      "application/javascript": [
       "\n",
       "            setTimeout(function() {\n",
       "                var nbb_cell_id = 163;\n",
       "                var nbb_unformatted_code = \"# Calculating different metrics\\n\\nprint(\\\"Training Performance :\\\")\\nstacking1_train_perf = model_performance_classification(\\n    stacking_classifier1, X_train, y_train\\n)\\nprint(stacking1_train_perf)\\n\\nprint(\\\"\\\\nValidation Performace :\\\")\\nstacking1_val_perf = model_performance_classification(\\n    stacking_classifier1, X_val, y_val\\n)\\nprint(stacking1_val_perf)\\n\\nconfusion_matrix_sklearn(stacking_classifier1, X_val, y_val)\";\n",
       "                var nbb_formatted_code = \"# Calculating different metrics\\n\\nprint(\\\"Training Performance :\\\")\\nstacking1_train_perf = model_performance_classification(\\n    stacking_classifier1, X_train, y_train\\n)\\nprint(stacking1_train_perf)\\n\\nprint(\\\"\\\\nValidation Performace :\\\")\\nstacking1_val_perf = model_performance_classification(\\n    stacking_classifier1, X_val, y_val\\n)\\nprint(stacking1_val_perf)\\n\\nconfusion_matrix_sklearn(stacking_classifier1, X_val, y_val)\";\n",
       "                var nbb_cells = Jupyter.notebook.get_cells();\n",
       "                for (var i = 0; i < nbb_cells.length; ++i) {\n",
       "                    if (nbb_cells[i].input_prompt_number == nbb_cell_id) {\n",
       "                        if (nbb_cells[i].get_text() == nbb_unformatted_code) {\n",
       "                             nbb_cells[i].set_text(nbb_formatted_code);\n",
       "                        }\n",
       "                        break;\n",
       "                    }\n",
       "                }\n",
       "            }, 500);\n",
       "            "
      ],
      "text/plain": [
       "<IPython.core.display.Javascript object>"
      ]
     },
     "metadata": {},
     "output_type": "display_data"
    }
   ],
   "source": [
    "# Calculating different metrics\n",
    "\n",
    "print(\"Training Performance :\")\n",
    "stacking1_train_perf = model_performance_classification(\n",
    "    stacking_classifier1, X_train, y_train\n",
    ")\n",
    "print(stacking1_train_perf)\n",
    "\n",
    "print(\"\\nValidation Performace :\")\n",
    "stacking1_val_perf = model_performance_classification(\n",
    "    stacking_classifier1, X_val, y_val\n",
    ")\n",
    "print(stacking1_val_perf)\n",
    "\n",
    "confusion_matrix_sklearn(stacking_classifier1, X_val, y_val)"
   ]
  },
  {
   "cell_type": "markdown",
   "id": "b4b16559",
   "metadata": {},
   "source": [
    "- Model is generalizing well on both train and validation sets\n",
    "- However, the Precision is too low"
   ]
  },
  {
   "cell_type": "code",
   "execution_count": 164,
   "id": "31219746",
   "metadata": {},
   "outputs": [
    {
     "data": {
      "text/plain": [
       "StackingClassifier(estimators=[('Bagging with base dtree_tuned',\n",
       "                                BaggingClassifier(base_estimator=DecisionTreeClassifier(class_weight={0: 0.2,\n",
       "                                                                                                      1: 0.8},\n",
       "                                                                                        max_depth=7,\n",
       "                                                                                        max_leaf_nodes=15,\n",
       "                                                                                        random_state=1),\n",
       "                                                  random_state=1)),\n",
       "                               ('Bagging with default parameters',\n",
       "                                BaggingClassifier(random_state=1)),\n",
       "                               ('Bagging Tuned with base dtree_tuned',\n",
       "                                BaggingClassifier(base_estimator=Decision...\n",
       "                                                 eval_metric='logloss', gamma=3,\n",
       "                                                 gpu_id=-1,\n",
       "                                                 importance_type='gain',\n",
       "                                                 interaction_constraints='',\n",
       "                                                 learning_rate=0.2,\n",
       "                                                 max_delta_step=0, max_depth=6,\n",
       "                                                 min_child_weight=1,\n",
       "                                                 missing=nan,\n",
       "                                                 monotone_constraints='()',\n",
       "                                                 n_estimators=90, n_jobs=8,\n",
       "                                                 num_parallel_tree=1,\n",
       "                                                 random_state=1, reg_alpha=0,\n",
       "                                                 reg_lambda=1,\n",
       "                                                 scale_pos_weight=5,\n",
       "                                                 subsample=1,\n",
       "                                                 tree_method='exact',\n",
       "                                                 validate_parameters=1,\n",
       "                                                 verbosity=None))"
      ]
     },
     "execution_count": 164,
     "metadata": {},
     "output_type": "execute_result"
    },
    {
     "data": {
      "application/javascript": [
       "\n",
       "            setTimeout(function() {\n",
       "                var nbb_cell_id = 164;\n",
       "                var nbb_unformatted_code = \"# Stacking 2\\n# Building a stacking classifier with the best individual models and bagging classifier\\n# with default parameters, as it gave higher Recall and Precision scores\\n\\nestimators2 = [\\n    (\\\"Bagging with base dtree_tuned\\\", bagging_tdtree),\\n    (\\\"Bagging with default parameters\\\", bagging),\\n    (\\\"Bagging Tuned with base dtree_tuned\\\", bagging_tuned_tdtree),\\n]\\nfinal_estimator = xgb_tuned\\n\\nstacking_classifier2 = StackingClassifier(\\n    estimators=estimators2, final_estimator=final_estimator\\n)\\nstacking_classifier2.fit(X_train, y_train)\";\n",
       "                var nbb_formatted_code = \"# Stacking 2\\n# Building a stacking classifier with the best individual models and bagging classifier\\n# with default parameters, as it gave higher Recall and Precision scores\\n\\nestimators2 = [\\n    (\\\"Bagging with base dtree_tuned\\\", bagging_tdtree),\\n    (\\\"Bagging with default parameters\\\", bagging),\\n    (\\\"Bagging Tuned with base dtree_tuned\\\", bagging_tuned_tdtree),\\n]\\nfinal_estimator = xgb_tuned\\n\\nstacking_classifier2 = StackingClassifier(\\n    estimators=estimators2, final_estimator=final_estimator\\n)\\nstacking_classifier2.fit(X_train, y_train)\";\n",
       "                var nbb_cells = Jupyter.notebook.get_cells();\n",
       "                for (var i = 0; i < nbb_cells.length; ++i) {\n",
       "                    if (nbb_cells[i].input_prompt_number == nbb_cell_id) {\n",
       "                        if (nbb_cells[i].get_text() == nbb_unformatted_code) {\n",
       "                             nbb_cells[i].set_text(nbb_formatted_code);\n",
       "                        }\n",
       "                        break;\n",
       "                    }\n",
       "                }\n",
       "            }, 500);\n",
       "            "
      ],
      "text/plain": [
       "<IPython.core.display.Javascript object>"
      ]
     },
     "metadata": {},
     "output_type": "display_data"
    }
   ],
   "source": [
    "# Stacking 2\n",
    "# Building a stacking classifier with the best individual models and bagging classifier\n",
    "# with default parameters, as it gave higher Recall and Precision scores\n",
    "\n",
    "estimators2 = [\n",
    "    (\"Bagging with base dtree_tuned\", bagging_tdtree),\n",
    "    (\"Bagging with default parameters\", bagging),\n",
    "    (\"Bagging Tuned with base dtree_tuned\", bagging_tuned_tdtree),\n",
    "]\n",
    "final_estimator = xgb_tuned\n",
    "\n",
    "stacking_classifier2 = StackingClassifier(\n",
    "    estimators=estimators2, final_estimator=final_estimator\n",
    ")\n",
    "stacking_classifier2.fit(X_train, y_train)"
   ]
  },
  {
   "cell_type": "code",
   "execution_count": 165,
   "id": "586a4f1c",
   "metadata": {},
   "outputs": [
    {
     "name": "stdout",
     "output_type": "stream",
     "text": [
      "Training Performance :\n",
      "   Accuracy  Recall  Precision   F1\n",
      "0      0.99    1.00       0.96 0.98\n",
      "\n",
      "Validation Performace :\n",
      "   Accuracy  Recall  Precision   F1\n",
      "0      0.95    0.92       0.80 0.85\n"
     ]
    },
    {
     "data": {
      "image/png": "[encoded data removed]",
      "text/plain": [
       "<Figure size 432x288 with 2 Axes>"
      ]
     },
     "metadata": {},
     "output_type": "display_data"
    },
    {
     "data": {
      "application/javascript": [
       "\n",
       "            setTimeout(function() {\n",
       "                var nbb_cell_id = 165;\n",
       "                var nbb_unformatted_code = \"# Calculating different metrics\\n\\nprint(\\\"Training Performance :\\\")\\nstacking2_train_perf = model_performance_classification(\\n    stacking_classifier2, X_train, y_train\\n)\\nprint(stacking2_train_perf)\\n\\nprint(\\\"\\\\nValidation Performace :\\\")\\nstacking2_val_perf = model_performance_classification(\\n    stacking_classifier2, X_val, y_val\\n)\\nprint(stacking2_val_perf)\\n\\nconfusion_matrix_sklearn(stacking_classifier2, X_val, y_val)\";\n",
       "                var nbb_formatted_code = \"# Calculating different metrics\\n\\nprint(\\\"Training Performance :\\\")\\nstacking2_train_perf = model_performance_classification(\\n    stacking_classifier2, X_train, y_train\\n)\\nprint(stacking2_train_perf)\\n\\nprint(\\\"\\\\nValidation Performace :\\\")\\nstacking2_val_perf = model_performance_classification(\\n    stacking_classifier2, X_val, y_val\\n)\\nprint(stacking2_val_perf)\\n\\nconfusion_matrix_sklearn(stacking_classifier2, X_val, y_val)\";\n",
       "                var nbb_cells = Jupyter.notebook.get_cells();\n",
       "                for (var i = 0; i < nbb_cells.length; ++i) {\n",
       "                    if (nbb_cells[i].input_prompt_number == nbb_cell_id) {\n",
       "                        if (nbb_cells[i].get_text() == nbb_unformatted_code) {\n",
       "                             nbb_cells[i].set_text(nbb_formatted_code);\n",
       "                        }\n",
       "                        break;\n",
       "                    }\n",
       "                }\n",
       "            }, 500);\n",
       "            "
      ],
      "text/plain": [
       "<IPython.core.display.Javascript object>"
      ]
     },
     "metadata": {},
     "output_type": "display_data"
    }
   ],
   "source": [
    "# Calculating different metrics\n",
    "\n",
    "print(\"Training Performance :\")\n",
    "stacking2_train_perf = model_performance_classification(\n",
    "    stacking_classifier2, X_train, y_train\n",
    ")\n",
    "print(stacking2_train_perf)\n",
    "\n",
    "print(\"\\nValidation Performace :\")\n",
    "stacking2_val_perf = model_performance_classification(\n",
    "    stacking_classifier2, X_val, y_val\n",
    ")\n",
    "print(stacking2_val_perf)\n",
    "\n",
    "confusion_matrix_sklearn(stacking_classifier2, X_val, y_val)"
   ]
  },
  {
   "cell_type": "markdown",
   "id": "030a9b3f",
   "metadata": {},
   "source": [
    "- Model overfit on train data\n",
    "- Highest Recall on validation so far\n",
    "- Precision has improved comparatively"
   ]
  },
  {
   "cell_type": "code",
   "execution_count": 166,
   "id": "72bcd818",
   "metadata": {},
   "outputs": [
    {
     "data": {
      "text/plain": [
       "StackingClassifier(estimators=[('Bagging with base dtree_tuned',\n",
       "                                BaggingClassifier(base_estimator=DecisionTreeClassifier(class_weight={0: 0.2,\n",
       "                                                                                                      1: 0.8},\n",
       "                                                                                        max_depth=7,\n",
       "                                                                                        max_leaf_nodes=15,\n",
       "                                                                                        random_state=1),\n",
       "                                                  random_state=1)),\n",
       "                               ('Bagging with default parameters',\n",
       "                                BaggingClassifier(random_state=1)),\n",
       "                               ('Bagging Tuned with base dtree',\n",
       "                                BaggingClassifier(base_estimator=DecisionTreeCl...\n",
       "                                                 eval_metric='logloss', gamma=3,\n",
       "                                                 gpu_id=-1,\n",
       "                                                 importance_type='gain',\n",
       "                                                 interaction_constraints='',\n",
       "                                                 learning_rate=0.2,\n",
       "                                                 max_delta_step=0, max_depth=6,\n",
       "                                                 min_child_weight=1,\n",
       "                                                 missing=nan,\n",
       "                                                 monotone_constraints='()',\n",
       "                                                 n_estimators=90, n_jobs=8,\n",
       "                                                 num_parallel_tree=1,\n",
       "                                                 random_state=1, reg_alpha=0,\n",
       "                                                 reg_lambda=1,\n",
       "                                                 scale_pos_weight=5,\n",
       "                                                 subsample=1,\n",
       "                                                 tree_method='exact',\n",
       "                                                 validate_parameters=1,\n",
       "                                                 verbosity=None))"
      ]
     },
     "execution_count": 166,
     "metadata": {},
     "output_type": "execute_result"
    },
    {
     "data": {
      "application/javascript": [
       "\n",
       "            setTimeout(function() {\n",
       "                var nbb_cell_id = 166;\n",
       "                var nbb_unformatted_code = \"# Stacking 3\\n# Building a stacking classifier with tuned bagging classifier having\\n# decision tree as the base estimator\\n\\nestimators3 = [\\n    (\\\"Bagging with base dtree_tuned\\\", bagging_tdtree),\\n    (\\\"Bagging with default parameters\\\", bagging),\\n    (\\\"Bagging Tuned with base dtree\\\", bagging_tuned_dt),\\n]\\nfinal_estimator = xgb_tuned\\n\\nstacking_classifier3 = StackingClassifier(\\n    estimators=estimators3, final_estimator=final_estimator\\n)\\nstacking_classifier3.fit(X_train, y_train)\";\n",
       "                var nbb_formatted_code = \"# Stacking 3\\n# Building a stacking classifier with tuned bagging classifier having\\n# decision tree as the base estimator\\n\\nestimators3 = [\\n    (\\\"Bagging with base dtree_tuned\\\", bagging_tdtree),\\n    (\\\"Bagging with default parameters\\\", bagging),\\n    (\\\"Bagging Tuned with base dtree\\\", bagging_tuned_dt),\\n]\\nfinal_estimator = xgb_tuned\\n\\nstacking_classifier3 = StackingClassifier(\\n    estimators=estimators3, final_estimator=final_estimator\\n)\\nstacking_classifier3.fit(X_train, y_train)\";\n",
       "                var nbb_cells = Jupyter.notebook.get_cells();\n",
       "                for (var i = 0; i < nbb_cells.length; ++i) {\n",
       "                    if (nbb_cells[i].input_prompt_number == nbb_cell_id) {\n",
       "                        if (nbb_cells[i].get_text() == nbb_unformatted_code) {\n",
       "                             nbb_cells[i].set_text(nbb_formatted_code);\n",
       "                        }\n",
       "                        break;\n",
       "                    }\n",
       "                }\n",
       "            }, 500);\n",
       "            "
      ],
      "text/plain": [
       "<IPython.core.display.Javascript object>"
      ]
     },
     "metadata": {},
     "output_type": "display_data"
    }
   ],
   "source": [
    "# Stacking 3\n",
    "# Building a stacking classifier with tuned bagging classifier having\n",
    "# decision tree as the base estimator\n",
    "\n",
    "estimators3 = [\n",
    "    (\"Bagging with base dtree_tuned\", bagging_tdtree),\n",
    "    (\"Bagging with default parameters\", bagging),\n",
    "    (\"Bagging Tuned with base dtree\", bagging_tuned_dt),\n",
    "]\n",
    "final_estimator = xgb_tuned\n",
    "\n",
    "stacking_classifier3 = StackingClassifier(\n",
    "    estimators=estimators3, final_estimator=final_estimator\n",
    ")\n",
    "stacking_classifier3.fit(X_train, y_train)"
   ]
  },
  {
   "cell_type": "code",
   "execution_count": 167,
   "id": "4e12cd97",
   "metadata": {},
   "outputs": [
    {
     "name": "stdout",
     "output_type": "stream",
     "text": [
      "Training Performance :\n",
      "   Accuracy  Recall  Precision   F1\n",
      "0      1.00    1.00       0.99 1.00\n",
      "\n",
      "Validation Performace :\n",
      "   Accuracy  Recall  Precision   F1\n",
      "0      0.97    0.96       0.86 0.90\n"
     ]
    },
    {
     "data": {
      "image/png": "[encoded data removed]",
      "text/plain": [
       "<Figure size 432x288 with 2 Axes>"
      ]
     },
     "metadata": {},
     "output_type": "display_data"
    },
    {
     "data": {
      "application/javascript": [
       "\n",
       "            setTimeout(function() {\n",
       "                var nbb_cell_id = 167;\n",
       "                var nbb_unformatted_code = \"# Calculating different metrics\\n\\nprint(\\\"Training Performance :\\\")\\nstacking3_train_perf = model_performance_classification(\\n    stacking_classifier3, X_train, y_train\\n)\\nprint(stacking3_train_perf)\\n\\nprint(\\\"\\\\nValidation Performace :\\\")\\nstacking3_val_perf = model_performance_classification(\\n    stacking_classifier3, X_val, y_val\\n)\\nprint(stacking3_val_perf)\\n\\nconfusion_matrix_sklearn(stacking_classifier3, X_val, y_val)\";\n",
       "                var nbb_formatted_code = \"# Calculating different metrics\\n\\nprint(\\\"Training Performance :\\\")\\nstacking3_train_perf = model_performance_classification(\\n    stacking_classifier3, X_train, y_train\\n)\\nprint(stacking3_train_perf)\\n\\nprint(\\\"\\\\nValidation Performace :\\\")\\nstacking3_val_perf = model_performance_classification(\\n    stacking_classifier3, X_val, y_val\\n)\\nprint(stacking3_val_perf)\\n\\nconfusion_matrix_sklearn(stacking_classifier3, X_val, y_val)\";\n",
       "                var nbb_cells = Jupyter.notebook.get_cells();\n",
       "                for (var i = 0; i < nbb_cells.length; ++i) {\n",
       "                    if (nbb_cells[i].input_prompt_number == nbb_cell_id) {\n",
       "                        if (nbb_cells[i].get_text() == nbb_unformatted_code) {\n",
       "                             nbb_cells[i].set_text(nbb_formatted_code);\n",
       "                        }\n",
       "                        break;\n",
       "                    }\n",
       "                }\n",
       "            }, 500);\n",
       "            "
      ],
      "text/plain": [
       "<IPython.core.display.Javascript object>"
      ]
     },
     "metadata": {},
     "output_type": "display_data"
    }
   ],
   "source": [
    "# Calculating different metrics\n",
    "\n",
    "print(\"Training Performance :\")\n",
    "stacking3_train_perf = model_performance_classification(\n",
    "    stacking_classifier3, X_train, y_train\n",
    ")\n",
    "print(stacking3_train_perf)\n",
    "\n",
    "print(\"\\nValidation Performace :\")\n",
    "stacking3_val_perf = model_performance_classification(\n",
    "    stacking_classifier3, X_val, y_val\n",
    ")\n",
    "print(stacking3_val_perf)\n",
    "\n",
    "confusion_matrix_sklearn(stacking_classifier3, X_val, y_val)"
   ]
  },
  {
   "cell_type": "markdown",
   "id": "40860502",
   "metadata": {},
   "source": [
    "- Highest Recall score so far\n",
    "- However, model is much overfit on Precision comparatively"
   ]
  },
  {
   "cell_type": "code",
   "execution_count": 168,
   "id": "c7161ded",
   "metadata": {},
   "outputs": [
    {
     "data": {
      "text/plain": [
       "StackingClassifier(estimators=[('Bagging with base dtree_tuned',\n",
       "                                BaggingClassifier(base_estimator=DecisionTreeClassifier(class_weight={0: 0.2,\n",
       "                                                                                                      1: 0.8},\n",
       "                                                                                        max_depth=7,\n",
       "                                                                                        max_leaf_nodes=15,\n",
       "                                                                                        random_state=1),\n",
       "                                                  random_state=1)),\n",
       "                               ('Bagging with default parameters',\n",
       "                                BaggingClassifier(random_state=1)),\n",
       "                               ('Bagging Tuned with base dtree',\n",
       "                                BaggingClassifier(base_estimator=DecisionTreeCl...\n",
       "                                                 eval_metric='logloss', gamma=3,\n",
       "                                                 gpu_id=-1,\n",
       "                                                 importance_type='gain',\n",
       "                                                 interaction_constraints='',\n",
       "                                                 learning_rate=0.2,\n",
       "                                                 max_delta_step=0, max_depth=6,\n",
       "                                                 min_child_weight=1,\n",
       "                                                 missing=nan,\n",
       "                                                 monotone_constraints='()',\n",
       "                                                 n_estimators=90, n_jobs=8,\n",
       "                                                 num_parallel_tree=1,\n",
       "                                                 random_state=1, reg_alpha=0,\n",
       "                                                 reg_lambda=1,\n",
       "                                                 scale_pos_weight=5,\n",
       "                                                 subsample=1,\n",
       "                                                 tree_method='exact',\n",
       "                                                 validate_parameters=1,\n",
       "                                                 verbosity=None))"
      ]
     },
     "execution_count": 168,
     "metadata": {},
     "output_type": "execute_result"
    },
    {
     "data": {
      "application/javascript": [
       "\n",
       "            setTimeout(function() {\n",
       "                var nbb_cell_id = 168;\n",
       "                var nbb_unformatted_code = \"# Stacking 4\\n# Stacking the above model with random forest classifier with base estimators\\n# in order to get a better Precision score\\n\\nestimators4 = [\\n    (\\\"Bagging with base dtree_tuned\\\", bagging_tdtree),\\n    (\\\"Bagging with default parameters\\\", bagging),\\n    (\\\"Bagging Tuned with base dtree\\\", bagging_tuned_dt),\\n    (\\\"Random Forest\\\", rf),\\n]\\nfinal_estimator = xgb_tuned\\n\\nstacking_classifier4 = StackingClassifier(\\n    estimators=estimators4, final_estimator=final_estimator\\n)\\nstacking_classifier4.fit(X_train, y_train)\";\n",
       "                var nbb_formatted_code = \"# Stacking 4\\n# Stacking the above model with random forest classifier with base estimators\\n# in order to get a better Precision score\\n\\nestimators4 = [\\n    (\\\"Bagging with base dtree_tuned\\\", bagging_tdtree),\\n    (\\\"Bagging with default parameters\\\", bagging),\\n    (\\\"Bagging Tuned with base dtree\\\", bagging_tuned_dt),\\n    (\\\"Random Forest\\\", rf),\\n]\\nfinal_estimator = xgb_tuned\\n\\nstacking_classifier4 = StackingClassifier(\\n    estimators=estimators4, final_estimator=final_estimator\\n)\\nstacking_classifier4.fit(X_train, y_train)\";\n",
       "                var nbb_cells = Jupyter.notebook.get_cells();\n",
       "                for (var i = 0; i < nbb_cells.length; ++i) {\n",
       "                    if (nbb_cells[i].input_prompt_number == nbb_cell_id) {\n",
       "                        if (nbb_cells[i].get_text() == nbb_unformatted_code) {\n",
       "                             nbb_cells[i].set_text(nbb_formatted_code);\n",
       "                        }\n",
       "                        break;\n",
       "                    }\n",
       "                }\n",
       "            }, 500);\n",
       "            "
      ],
      "text/plain": [
       "<IPython.core.display.Javascript object>"
      ]
     },
     "metadata": {},
     "output_type": "display_data"
    }
   ],
   "source": [
    "# Stacking 4\n",
    "# Stacking the above model with random forest classifier with base estimators\n",
    "# in order to get a better Precision score\n",
    "\n",
    "estimators4 = [\n",
    "    (\"Bagging with base dtree_tuned\", bagging_tdtree),\n",
    "    (\"Bagging with default parameters\", bagging),\n",
    "    (\"Bagging Tuned with base dtree\", bagging_tuned_dt),\n",
    "    (\"Random Forest\", rf),\n",
    "]\n",
    "final_estimator = xgb_tuned\n",
    "\n",
    "stacking_classifier4 = StackingClassifier(\n",
    "    estimators=estimators4, final_estimator=final_estimator\n",
    ")\n",
    "stacking_classifier4.fit(X_train, y_train)"
   ]
  },
  {
   "cell_type": "code",
   "execution_count": 169,
   "id": "2a8a3b60",
   "metadata": {},
   "outputs": [
    {
     "name": "stdout",
     "output_type": "stream",
     "text": [
      "Training Performance :\n",
      "   Accuracy  Recall  Precision   F1\n",
      "0      1.00    1.00       1.00 1.00\n",
      "\n",
      "Validation Performace :\n",
      "   Accuracy  Recall  Precision   F1\n",
      "0      0.97    0.95       0.90 0.92\n"
     ]
    },
    {
     "data": {
      "image/png": "[encoded data removed]",
      "text/plain": [
       "<Figure size 432x288 with 2 Axes>"
      ]
     },
     "metadata": {},
     "output_type": "display_data"
    },
    {
     "data": {
      "application/javascript": [
       "\n",
       "            setTimeout(function() {\n",
       "                var nbb_cell_id = 169;\n",
       "                var nbb_unformatted_code = \"# Calculating different metrics\\n\\nprint(\\\"Training Performance :\\\")\\nstacking4_train_perf = model_performance_classification(\\n    stacking_classifier4, X_train, y_train\\n)\\nprint(stacking4_train_perf)\\n\\nprint(\\\"\\\\nValidation Performace :\\\")\\nstacking4_val_perf = model_performance_classification(\\n    stacking_classifier4, X_val, y_val\\n)\\nprint(stacking4_val_perf)\\n\\nconfusion_matrix_sklearn(stacking_classifier4, X_val, y_val)\";\n",
       "                var nbb_formatted_code = \"# Calculating different metrics\\n\\nprint(\\\"Training Performance :\\\")\\nstacking4_train_perf = model_performance_classification(\\n    stacking_classifier4, X_train, y_train\\n)\\nprint(stacking4_train_perf)\\n\\nprint(\\\"\\\\nValidation Performace :\\\")\\nstacking4_val_perf = model_performance_classification(\\n    stacking_classifier4, X_val, y_val\\n)\\nprint(stacking4_val_perf)\\n\\nconfusion_matrix_sklearn(stacking_classifier4, X_val, y_val)\";\n",
       "                var nbb_cells = Jupyter.notebook.get_cells();\n",
       "                for (var i = 0; i < nbb_cells.length; ++i) {\n",
       "                    if (nbb_cells[i].input_prompt_number == nbb_cell_id) {\n",
       "                        if (nbb_cells[i].get_text() == nbb_unformatted_code) {\n",
       "                             nbb_cells[i].set_text(nbb_formatted_code);\n",
       "                        }\n",
       "                        break;\n",
       "                    }\n",
       "                }\n",
       "            }, 500);\n",
       "            "
      ],
      "text/plain": [
       "<IPython.core.display.Javascript object>"
      ]
     },
     "metadata": {},
     "output_type": "display_data"
    }
   ],
   "source": [
    "# Calculating different metrics\n",
    "\n",
    "print(\"Training Performance :\")\n",
    "stacking4_train_perf = model_performance_classification(\n",
    "    stacking_classifier4, X_train, y_train\n",
    ")\n",
    "print(stacking4_train_perf)\n",
    "\n",
    "print(\"\\nValidation Performace :\")\n",
    "stacking4_val_perf = model_performance_classification(\n",
    "    stacking_classifier4, X_val, y_val\n",
    ")\n",
    "print(stacking4_val_perf)\n",
    "\n",
    "confusion_matrix_sklearn(stacking_classifier4, X_val, y_val)"
   ]
  },
  {
   "cell_type": "markdown",
   "id": "ff6a7e75",
   "metadata": {},
   "source": [
    "- Model overfit on train data\n",
    "- However, really good Recall and highest Precision score so far"
   ]
  },
  {
   "cell_type": "markdown",
   "id": "b5f5b886",
   "metadata": {},
   "source": [
    "## Comparison of Stacking Model Performances"
   ]
  },
  {
   "cell_type": "code",
   "execution_count": 170,
   "id": "3e254487",
   "metadata": {},
   "outputs": [
    {
     "data": {
      "application/javascript": [
       "\n",
       "            setTimeout(function() {\n",
       "                var nbb_cell_id = 170;\n",
       "                var nbb_unformatted_code = \"# Training performance comparison\\n# Creating a dataframe of training scores\\n\\nstack_models_train_comp_df = pd.concat(\\n    [\\n        stacking1_train_perf.T,\\n        stacking2_train_perf.T,\\n        stacking3_train_perf.T,\\n        stacking4_train_perf.T,\\n    ],\\n    axis=1,\\n)\\n\\nstack_models_train_comp_df.columns = [\\n    \\\"Stacking_Classifier1\\\",\\n    \\\"Stacking_Classifier2\\\",\\n    \\\"Stacking_Classifier3\\\",\\n    \\\"Stacking_Classifier4\\\",\\n]\";\n",
       "                var nbb_formatted_code = \"# Training performance comparison\\n# Creating a dataframe of training scores\\n\\nstack_models_train_comp_df = pd.concat(\\n    [\\n        stacking1_train_perf.T,\\n        stacking2_train_perf.T,\\n        stacking3_train_perf.T,\\n        stacking4_train_perf.T,\\n    ],\\n    axis=1,\\n)\\n\\nstack_models_train_comp_df.columns = [\\n    \\\"Stacking_Classifier1\\\",\\n    \\\"Stacking_Classifier2\\\",\\n    \\\"Stacking_Classifier3\\\",\\n    \\\"Stacking_Classifier4\\\",\\n]\";\n",
       "                var nbb_cells = Jupyter.notebook.get_cells();\n",
       "                for (var i = 0; i < nbb_cells.length; ++i) {\n",
       "                    if (nbb_cells[i].input_prompt_number == nbb_cell_id) {\n",
       "                        if (nbb_cells[i].get_text() == nbb_unformatted_code) {\n",
       "                             nbb_cells[i].set_text(nbb_formatted_code);\n",
       "                        }\n",
       "                        break;\n",
       "                    }\n",
       "                }\n",
       "            }, 500);\n",
       "            "
      ],
      "text/plain": [
       "<IPython.core.display.Javascript object>"
      ]
     },
     "metadata": {},
     "output_type": "display_data"
    }
   ],
   "source": [
    "# Training performance comparison\n",
    "# Creating a dataframe of training scores\n",
    "\n",
    "stack_models_train_comp_df = pd.concat(\n",
    "    [\n",
    "        stacking1_train_perf.T,\n",
    "        stacking2_train_perf.T,\n",
    "        stacking3_train_perf.T,\n",
    "        stacking4_train_perf.T,\n",
    "    ],\n",
    "    axis=1,\n",
    ")\n",
    "\n",
    "stack_models_train_comp_df.columns = [\n",
    "    \"Stacking_Classifier1\",\n",
    "    \"Stacking_Classifier2\",\n",
    "    \"Stacking_Classifier3\",\n",
    "    \"Stacking_Classifier4\",\n",
    "]"
   ]
  },
  {
   "cell_type": "code",
   "execution_count": 171,
   "id": "971b15cc",
   "metadata": {},
   "outputs": [
    {
     "data": {
      "application/javascript": [
       "\n",
       "            setTimeout(function() {\n",
       "                var nbb_cell_id = 171;\n",
       "                var nbb_unformatted_code = \"# Training performance comparison\\n# Creating a dataframe of validation scores\\n\\nstack_models_val_comp_df = pd.concat(\\n    [\\n        stacking1_val_perf.T,\\n        stacking2_val_perf.T,\\n        stacking3_val_perf.T,\\n        stacking4_val_perf.T,\\n    ],\\n    axis=1,\\n)\\n\\nstack_models_val_comp_df.columns = [\\n    \\\"Stacking_Classifier1\\\",\\n    \\\"Stacking_Classifier2\\\",\\n    \\\"Stacking_Classifier3\\\",\\n    \\\"Stacking_Classifier4\\\",\\n]\";\n",
       "                var nbb_formatted_code = \"# Training performance comparison\\n# Creating a dataframe of validation scores\\n\\nstack_models_val_comp_df = pd.concat(\\n    [\\n        stacking1_val_perf.T,\\n        stacking2_val_perf.T,\\n        stacking3_val_perf.T,\\n        stacking4_val_perf.T,\\n    ],\\n    axis=1,\\n)\\n\\nstack_models_val_comp_df.columns = [\\n    \\\"Stacking_Classifier1\\\",\\n    \\\"Stacking_Classifier2\\\",\\n    \\\"Stacking_Classifier3\\\",\\n    \\\"Stacking_Classifier4\\\",\\n]\";\n",
       "                var nbb_cells = Jupyter.notebook.get_cells();\n",
       "                for (var i = 0; i < nbb_cells.length; ++i) {\n",
       "                    if (nbb_cells[i].input_prompt_number == nbb_cell_id) {\n",
       "                        if (nbb_cells[i].get_text() == nbb_unformatted_code) {\n",
       "                             nbb_cells[i].set_text(nbb_formatted_code);\n",
       "                        }\n",
       "                        break;\n",
       "                    }\n",
       "                }\n",
       "            }, 500);\n",
       "            "
      ],
      "text/plain": [
       "<IPython.core.display.Javascript object>"
      ]
     },
     "metadata": {},
     "output_type": "display_data"
    }
   ],
   "source": [
    "# Training performance comparison\n",
    "# Creating a dataframe of validation scores\n",
    "\n",
    "stack_models_val_comp_df = pd.concat(\n",
    "    [\n",
    "        stacking1_val_perf.T,\n",
    "        stacking2_val_perf.T,\n",
    "        stacking3_val_perf.T,\n",
    "        stacking4_val_perf.T,\n",
    "    ],\n",
    "    axis=1,\n",
    ")\n",
    "\n",
    "stack_models_val_comp_df.columns = [\n",
    "    \"Stacking_Classifier1\",\n",
    "    \"Stacking_Classifier2\",\n",
    "    \"Stacking_Classifier3\",\n",
    "    \"Stacking_Classifier4\",\n",
    "]"
   ]
  },
  {
   "cell_type": "code",
   "execution_count": 172,
   "id": "c355df80",
   "metadata": {},
   "outputs": [
    {
     "name": "stdout",
     "output_type": "stream",
     "text": [
      "Stacking models Training performance comparison :\n"
     ]
    },
    {
     "data": {
      "text/html": [
       "<div>\n",
       "<style scoped>\n",
       "    .dataframe tbody tr th:only-of-type {\n",
       "        vertical-align: middle;\n",
       "    }\n",
       "\n",
       "    .dataframe tbody tr th {\n",
       "        vertical-align: top;\n",
       "    }\n",
       "\n",
       "    .dataframe thead th {\n",
       "        text-align: right;\n",
       "    }\n",
       "</style>\n",
       "<table border=\"1\" class=\"dataframe\">\n",
       "  <thead>\n",
       "    <tr style=\"text-align: right;\">\n",
       "      <th></th>\n",
       "      <th>Stacking_Classifier1</th>\n",
       "      <th>Stacking_Classifier2</th>\n",
       "      <th>Stacking_Classifier3</th>\n",
       "      <th>Stacking_Classifier4</th>\n",
       "    </tr>\n",
       "  </thead>\n",
       "  <tbody>\n",
       "    <tr>\n",
       "      <th>Accuracy</th>\n",
       "      <td>0.85</td>\n",
       "      <td>0.99</td>\n",
       "      <td>1.00</td>\n",
       "      <td>1.00</td>\n",
       "    </tr>\n",
       "    <tr>\n",
       "      <th>Recall</th>\n",
       "      <td>0.81</td>\n",
       "      <td>1.00</td>\n",
       "      <td>1.00</td>\n",
       "      <td>1.00</td>\n",
       "    </tr>\n",
       "    <tr>\n",
       "      <th>Precision</th>\n",
       "      <td>0.53</td>\n",
       "      <td>0.96</td>\n",
       "      <td>0.99</td>\n",
       "      <td>1.00</td>\n",
       "    </tr>\n",
       "    <tr>\n",
       "      <th>F1</th>\n",
       "      <td>0.64</td>\n",
       "      <td>0.98</td>\n",
       "      <td>1.00</td>\n",
       "      <td>1.00</td>\n",
       "    </tr>\n",
       "  </tbody>\n",
       "</table>\n",
       "</div>"
      ],
      "text/plain": [
       "           Stacking_Classifier1  Stacking_Classifier2  Stacking_Classifier3  \\\n",
       "Accuracy                   0.85                  0.99                  1.00   \n",
       "Recall                     0.81                  1.00                  1.00   \n",
       "Precision                  0.53                  0.96                  0.99   \n",
       "F1                         0.64                  0.98                  1.00   \n",
       "\n",
       "           Stacking_Classifier4  \n",
       "Accuracy                   1.00  \n",
       "Recall                     1.00  \n",
       "Precision                  1.00  \n",
       "F1                         1.00  "
      ]
     },
     "execution_count": 172,
     "metadata": {},
     "output_type": "execute_result"
    },
    {
     "data": {
      "application/javascript": [
       "\n",
       "            setTimeout(function() {\n",
       "                var nbb_cell_id = 172;\n",
       "                var nbb_unformatted_code = \"print(\\\"Stacking models Training performance comparison :\\\")\\nstack_models_train_comp_df\";\n",
       "                var nbb_formatted_code = \"print(\\\"Stacking models Training performance comparison :\\\")\\nstack_models_train_comp_df\";\n",
       "                var nbb_cells = Jupyter.notebook.get_cells();\n",
       "                for (var i = 0; i < nbb_cells.length; ++i) {\n",
       "                    if (nbb_cells[i].input_prompt_number == nbb_cell_id) {\n",
       "                        if (nbb_cells[i].get_text() == nbb_unformatted_code) {\n",
       "                             nbb_cells[i].set_text(nbb_formatted_code);\n",
       "                        }\n",
       "                        break;\n",
       "                    }\n",
       "                }\n",
       "            }, 500);\n",
       "            "
      ],
      "text/plain": [
       "<IPython.core.display.Javascript object>"
      ]
     },
     "metadata": {},
     "output_type": "display_data"
    }
   ],
   "source": [
    "print(\"Stacking models Training performance comparison :\")\n",
    "stack_models_train_comp_df"
   ]
  },
  {
   "cell_type": "code",
   "execution_count": 173,
   "id": "ebe09e31",
   "metadata": {},
   "outputs": [
    {
     "name": "stdout",
     "output_type": "stream",
     "text": [
      "Stacking models Validation performance comparison :\n"
     ]
    },
    {
     "data": {
      "text/html": [
       "<div>\n",
       "<style scoped>\n",
       "    .dataframe tbody tr th:only-of-type {\n",
       "        vertical-align: middle;\n",
       "    }\n",
       "\n",
       "    .dataframe tbody tr th {\n",
       "        vertical-align: top;\n",
       "    }\n",
       "\n",
       "    .dataframe thead th {\n",
       "        text-align: right;\n",
       "    }\n",
       "</style>\n",
       "<table border=\"1\" class=\"dataframe\">\n",
       "  <thead>\n",
       "    <tr style=\"text-align: right;\">\n",
       "      <th></th>\n",
       "      <th>Stacking_Classifier1</th>\n",
       "      <th>Stacking_Classifier2</th>\n",
       "      <th>Stacking_Classifier3</th>\n",
       "      <th>Stacking_Classifier4</th>\n",
       "    </tr>\n",
       "  </thead>\n",
       "  <tbody>\n",
       "    <tr>\n",
       "      <th>Accuracy</th>\n",
       "      <td>0.86</td>\n",
       "      <td>0.95</td>\n",
       "      <td>0.97</td>\n",
       "      <td>0.97</td>\n",
       "    </tr>\n",
       "    <tr>\n",
       "      <th>Recall</th>\n",
       "      <td>0.80</td>\n",
       "      <td>0.92</td>\n",
       "      <td>0.96</td>\n",
       "      <td>0.95</td>\n",
       "    </tr>\n",
       "    <tr>\n",
       "      <th>Precision</th>\n",
       "      <td>0.55</td>\n",
       "      <td>0.80</td>\n",
       "      <td>0.86</td>\n",
       "      <td>0.90</td>\n",
       "    </tr>\n",
       "    <tr>\n",
       "      <th>F1</th>\n",
       "      <td>0.65</td>\n",
       "      <td>0.85</td>\n",
       "      <td>0.90</td>\n",
       "      <td>0.92</td>\n",
       "    </tr>\n",
       "  </tbody>\n",
       "</table>\n",
       "</div>"
      ],
      "text/plain": [
       "           Stacking_Classifier1  Stacking_Classifier2  Stacking_Classifier3  \\\n",
       "Accuracy                   0.86                  0.95                  0.97   \n",
       "Recall                     0.80                  0.92                  0.96   \n",
       "Precision                  0.55                  0.80                  0.86   \n",
       "F1                         0.65                  0.85                  0.90   \n",
       "\n",
       "           Stacking_Classifier4  \n",
       "Accuracy                   0.97  \n",
       "Recall                     0.95  \n",
       "Precision                  0.90  \n",
       "F1                         0.92  "
      ]
     },
     "execution_count": 173,
     "metadata": {},
     "output_type": "execute_result"
    },
    {
     "data": {
      "application/javascript": [
       "\n",
       "            setTimeout(function() {\n",
       "                var nbb_cell_id = 173;\n",
       "                var nbb_unformatted_code = \"print(\\\"Stacking models Validation performance comparison :\\\")\\nstack_models_val_comp_df\";\n",
       "                var nbb_formatted_code = \"print(\\\"Stacking models Validation performance comparison :\\\")\\nstack_models_val_comp_df\";\n",
       "                var nbb_cells = Jupyter.notebook.get_cells();\n",
       "                for (var i = 0; i < nbb_cells.length; ++i) {\n",
       "                    if (nbb_cells[i].input_prompt_number == nbb_cell_id) {\n",
       "                        if (nbb_cells[i].get_text() == nbb_unformatted_code) {\n",
       "                             nbb_cells[i].set_text(nbb_formatted_code);\n",
       "                        }\n",
       "                        break;\n",
       "                    }\n",
       "                }\n",
       "            }, 500);\n",
       "            "
      ],
      "text/plain": [
       "<IPython.core.display.Javascript object>"
      ]
     },
     "metadata": {},
     "output_type": "display_data"
    }
   ],
   "source": [
    "print(\"Stacking models Validation performance comparison :\")\n",
    "stack_models_val_comp_df"
   ]
  },
  {
   "cell_type": "markdown",
   "id": "7cff7eee",
   "metadata": {},
   "source": [
    "- Stacking_CLassifier1 is generalizing well but, very low metric scores\n",
    "- Stacking_Classifier2 gives a good Recall but the Precision is very low comparatively\n",
    "- Stacking_Classifier3 gives the highest Recall however, it is much overfit on Precision\n",
    "- Stacking_Classifier4 is a little overfit on the train set however, the Recall and Precision are really good\n",
    "- Hence, I conclude **Stacking_Classifier4 as my best model**"
   ]
  },
  {
   "cell_type": "markdown",
   "id": "e0752738",
   "metadata": {},
   "source": [
    "## Best Model - Performance"
   ]
  },
  {
   "cell_type": "code",
   "execution_count": 174,
   "id": "9feba560",
   "metadata": {},
   "outputs": [
    {
     "name": "stdout",
     "output_type": "stream",
     "text": [
      "Training Performance :\n",
      "   Accuracy  Recall  Precision   F1\n",
      "0      1.00    1.00       1.00 1.00\n",
      "\n",
      "Validation Performace :\n",
      "   Accuracy  Recall  Precision   F1\n",
      "0      0.97    0.95       0.90 0.92\n",
      "\n",
      "Test Performace :\n",
      "   Accuracy  Recall  Precision   F1\n",
      "0      0.98    0.96       0.91 0.93\n"
     ]
    },
    {
     "data": {
      "image/png": "[encoded data removed]",
      "text/plain": [
       "<Figure size 432x288 with 2 Axes>"
      ]
     },
     "metadata": {},
     "output_type": "display_data"
    },
    {
     "data": {
      "application/javascript": [
       "\n",
       "            setTimeout(function() {\n",
       "                var nbb_cell_id = 174;\n",
       "                var nbb_unformatted_code = \"# Calculating different metrics for the best model across\\n# Train, Validation and Test sets\\n\\nprint(\\\"Training Performance :\\\")\\nstacking4_train_perf = model_performance_classification(\\n    stacking_classifier4, X_train, y_train\\n)\\nprint(stacking4_train_perf)\\n\\nprint(\\\"\\\\nValidation Performace :\\\")\\nstacking4_val_perf = model_performance_classification(\\n    stacking_classifier4, X_val, y_val\\n)\\nprint(stacking4_val_perf)\\n\\nprint(\\\"\\\\nTest Performace :\\\")\\nstacking4_test_perf = model_performance_classification(\\n    stacking_classifier4, X_test, y_test\\n)\\nprint(stacking4_test_perf)\\n\\nconfusion_matrix_sklearn(stacking_classifier4, X_test, y_test)\";\n",
       "                var nbb_formatted_code = \"# Calculating different metrics for the best model across\\n# Train, Validation and Test sets\\n\\nprint(\\\"Training Performance :\\\")\\nstacking4_train_perf = model_performance_classification(\\n    stacking_classifier4, X_train, y_train\\n)\\nprint(stacking4_train_perf)\\n\\nprint(\\\"\\\\nValidation Performace :\\\")\\nstacking4_val_perf = model_performance_classification(\\n    stacking_classifier4, X_val, y_val\\n)\\nprint(stacking4_val_perf)\\n\\nprint(\\\"\\\\nTest Performace :\\\")\\nstacking4_test_perf = model_performance_classification(\\n    stacking_classifier4, X_test, y_test\\n)\\nprint(stacking4_test_perf)\\n\\nconfusion_matrix_sklearn(stacking_classifier4, X_test, y_test)\";\n",
       "                var nbb_cells = Jupyter.notebook.get_cells();\n",
       "                for (var i = 0; i < nbb_cells.length; ++i) {\n",
       "                    if (nbb_cells[i].input_prompt_number == nbb_cell_id) {\n",
       "                        if (nbb_cells[i].get_text() == nbb_unformatted_code) {\n",
       "                             nbb_cells[i].set_text(nbb_formatted_code);\n",
       "                        }\n",
       "                        break;\n",
       "                    }\n",
       "                }\n",
       "            }, 500);\n",
       "            "
      ],
      "text/plain": [
       "<IPython.core.display.Javascript object>"
      ]
     },
     "metadata": {},
     "output_type": "display_data"
    }
   ],
   "source": [
    "# Calculating different metrics for the best model across\n",
    "# Train, Validation and Test sets\n",
    "\n",
    "print(\"Training Performance :\")\n",
    "stacking4_train_perf = model_performance_classification(\n",
    "    stacking_classifier4, X_train, y_train\n",
    ")\n",
    "print(stacking4_train_perf)\n",
    "\n",
    "print(\"\\nValidation Performace :\")\n",
    "stacking4_val_perf = model_performance_classification(\n",
    "    stacking_classifier4, X_val, y_val\n",
    ")\n",
    "print(stacking4_val_perf)\n",
    "\n",
    "print(\"\\nTest Performace :\")\n",
    "stacking4_test_perf = model_performance_classification(\n",
    "    stacking_classifier4, X_test, y_test\n",
    ")\n",
    "print(stacking4_test_perf)\n",
    "\n",
    "confusion_matrix_sklearn(stacking_classifier4, X_test, y_test)"
   ]
  },
  {
   "cell_type": "markdown",
   "id": "1e2585aa",
   "metadata": {},
   "source": [
    "- Although this model is a little overfit on the train set, it is giving a generalized performance on validation and test sets \n",
    "- As **the metric scores on the unseen data (Test set) are still higher than the validation set, it is safe to use this model**"
   ]
  },
  {
   "cell_type": "markdown",
   "id": "5f117bcb",
   "metadata": {},
   "source": [
    "## Value Calculation"
   ]
  },
  {
   "cell_type": "markdown",
   "id": "f6e7502e",
   "metadata": {},
   "source": [
    "- The above model has made 364 True Positive (TP), 1835 True Negative (TN), 15 False Negative (FN) and 38 False Positive (FP) predictions out of 2252 customers on the test data\n",
    "- Assuming a\n",
    "    - profit of 50$ from one TP prediction\n",
    "    \n",
    "    - loss of 50$ from one FN prediction\n",
    "    \n",
    "    - an operational cost of 5$ spent on one FP prediction\n",
    "\n",
    "Overall Profit = (364 x 50) - (15 x 50) - (38 x 5) = $17,260\n",
    "\n",
    "Profit/customer = 16945/2252 = $7.66"
   ]
  },
  {
   "cell_type": "markdown",
   "id": "5204f50d",
   "metadata": {},
   "source": [
    "**If this model were to make predictions on 20K customers in future, the Net Profit made by the company would be an estimate of $153,200**"
   ]
  },
  {
   "cell_type": "markdown",
   "id": "9b8d5827",
   "metadata": {},
   "source": [
    "## Business Insights and Recommendations"
   ]
  },
  {
   "cell_type": "markdown",
   "id": "1c5fe05e",
   "metadata": {},
   "source": [
    "- The business can use this model to identify customers who may churn\n",
    "- Top five features that drive the attrition are Tenure, Complain_ly, Marital_Status_Single, account_segment and Single_M\n",
    "- Business may provide introductory offers to attract new customers and exclusive offers to existing new customers\n",
    "- Customer care team must make additional efforts to solve customer complaints at the earliest as majority of customers who raised a complaint in the past year has churned. Follow-up calls are recommended.\n",
    "- Marketing team can target Single/M customers with special discounts on paid channels and/or movies to customers from Regular Plus, Super and Super Plus segments\n",
    "- Provide targeted offers to Female customers who prefer E-wallet/Mobile, from the Regular account segments \n",
    "- Also provide exclusive family offers for Married customers from HNI segment as churn rate is higher among them\n",
    "- Business may consider increasing the cashback to Regular Plus customers and Debit card payment in order to reduce the churn\n",
    "- Exit interview can be conducted to get feedback from outgoing customers and work towards the betterment of the services provided"
   ]
  }
 ],
 "metadata": {
  "kernelspec": {
   "display_name": "Python 3",
   "language": "python",
   "name": "python3"
  },
  "language_info": {
   "codemirror_mode": {
    "name": "ipython",
    "version": 3
   },
   "file_extension": ".py",
   "mimetype": "text/x-python",
   "name": "python",
   "nbconvert_exporter": "python",
   "pygments_lexer": "ipython3",
   "version": "3.8.8"
  }
 },
 "nbformat": 4,
 "nbformat_minor": 5
}
